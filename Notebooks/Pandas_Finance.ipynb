{
 "cells": [
  {
   "cell_type": "markdown",
   "metadata": {},
   "source": [
    "# Pandas Finance\n",
    "\n",
    "Obtendo um hitórico do estoque de preços do Yahoo Finance."
   ]
  },
  {
   "cell_type": "code",
   "execution_count": null,
   "metadata": {},
   "outputs": [],
   "source": [
    "# Vamos carregar as bibliotecas necessárias\n",
    "import pandas_datareader as pdr\n",
    "import datetime\n",
    "import matplotlib.pyplot as plt\n",
    "import pandas as pd"
   ]
  },
  {
   "cell_type": "code",
   "execution_count": null,
   "metadata": {},
   "outputs": [],
   "source": [
    "# Vamos definir um período\n",
    "inicio = datetime.datetime(2017, 1, 1)\n",
    "fim = datetime.datetime(2017,11, 22)\n",
    "f = pdr.DataReader(\"F\", 'yahoo', inicio, fim)"
   ]
  },
  {
   "cell_type": "code",
   "execution_count": null,
   "metadata": {},
   "outputs": [],
   "source": [
    "f.loc['2017-01-04']"
   ]
  },
  {
   "cell_type": "markdown",
   "metadata": {},
   "source": [
    "Hitórico das ações (Dividendos e divisões de ações ) com dados do Yahoo Finança:"
   ]
  },
  {
   "cell_type": "code",
   "execution_count": null,
   "metadata": {},
   "outputs": [],
   "source": [
    "inicio = datetime.datetime(2008, 1, 1)\n",
    "fim = datetime.datetime(2017,11, 22)\n",
    "petro=pdr.DataReader('PETR4.SA', 'yahoo-actions', inicio, fim)\n",
    "petro"
   ]
  },
  {
   "cell_type": "code",
   "execution_count": null,
   "metadata": {},
   "outputs": [],
   "source": [
    "petro.loc['2009-07-06']"
   ]
  },
  {
   "cell_type": "code",
   "execution_count": null,
   "metadata": {},
   "outputs": [],
   "source": [
    "inicio = datetime.datetime(2010, 1, 1)\n",
    "fim = datetime.datetime(2017, 1, 1)\n",
    "f = pdr.DataReader(\"BAHI3.SA\", 'yahoo-dividends', inicio, fim)\n",
    "f"
   ]
  },
  {
   "cell_type": "code",
   "execution_count": null,
   "metadata": {},
   "outputs": [],
   "source": [
    "inicio = datetime.datetime(2017, 1, 1)\n",
    "fim = datetime.datetime(2017, 11, 22)\n",
    "ibov=pdr.get_data_google('INDEXBVMF:IBOV',inicio,fim)\n",
    "ibov"
   ]
  },
  {
   "cell_type": "markdown",
   "metadata": {},
   "source": [
    "Um DataFrame é uma coleção de objetos e Séries. Fatiando o DataFrame retorna uma Sérei em colunas"
   ]
  },
  {
   "cell_type": "code",
   "execution_count": null,
   "metadata": {},
   "outputs": [],
   "source": [
    "ts=ibov['Close'][-10:]\n",
    "ts"
   ]
  },
  {
   "cell_type": "code",
   "execution_count": null,
   "metadata": {},
   "outputs": [],
   "source": [
    "type(ts)"
   ]
  },
  {
   "cell_type": "code",
   "execution_count": null,
   "metadata": {},
   "outputs": [],
   "source": [
    "data=ts.index[5]\n",
    "data"
   ]
  },
  {
   "cell_type": "code",
   "execution_count": null,
   "metadata": {},
   "outputs": [],
   "source": [
    "ts[data]"
   ]
  },
  {
   "cell_type": "code",
   "execution_count": null,
   "metadata": {},
   "outputs": [],
   "source": [
    "ts[5]"
   ]
  },
  {
   "cell_type": "markdown",
   "metadata": {},
   "source": [
    "Também podemos selecionar multiplas colunas"
   ]
  },
  {
   "cell_type": "code",
   "execution_count": null,
   "metadata": {},
   "outputs": [],
   "source": [
    "ibov[['Open', 'Close']].head()"
   ]
  },
  {
   "cell_type": "markdown",
   "metadata": {},
   "source": [
    "Novas colunas podem ser adicionadas enquanto se roda"
   ]
  },
  {
   "cell_type": "code",
   "execution_count": null,
   "metadata": {},
   "outputs": [],
   "source": [
    "ibov['dif'] = ibov.Open - ibov.Close\n",
    "ibov.head()"
   ]
  },
  {
   "cell_type": "markdown",
   "metadata": {},
   "source": [
    "Também podemos deletar enquanto usamos"
   ]
  },
  {
   "cell_type": "code",
   "execution_count": null,
   "metadata": {},
   "outputs": [],
   "source": [
    "del ibov['dif']\n",
    "ibov.head()"
   ]
  },
  {
   "cell_type": "markdown",
   "metadata": {},
   "source": [
    "Também podemos usar uma outra fonte como o google finances"
   ]
  },
  {
   "cell_type": "code",
   "execution_count": null,
   "metadata": {},
   "outputs": [],
   "source": [
    "start = datetime.datetime(2017, 10, 1)\n",
    "end = datetime.datetime(2017, 11, 22)\n",
    "vale_dados = pdr.get_data_google('NYSE:VALE',start,end)\n",
    "vale_dados"
   ]
  },
  {
   "cell_type": "code",
   "execution_count": null,
   "metadata": {},
   "outputs": [],
   "source": [
    "start = datetime.datetime(2013, 10, 1)\n",
    "end = datetime.datetime(2017, 11, 22)\n",
    "bahia = pdr.get_data_yahoo('BAHI3.SA',start,end)\n",
    "bahia"
   ]
  },
  {
   "cell_type": "markdown",
   "metadata": {},
   "source": [
    "## Cálculos Financeiros comuns\n",
    "\n",
    "- Movimentação de médias\n",
    "- Retornos"
   ]
  },
  {
   "cell_type": "code",
   "execution_count": null,
   "metadata": {},
   "outputs": [],
   "source": [
    "fech_ba = bahia['Adj Close']"
   ]
  },
  {
   "cell_type": "code",
   "execution_count": null,
   "metadata": {},
   "outputs": [],
   "source": [
    "med_ba = pd.rolling_mean(fech_ba, 40)\n",
    "med_ba[10:]"
   ]
  },
  {
   "cell_type": "markdown",
   "metadata": {},
   "source": [
    "Considere o Retorno definido como:\n",
    "\n",
    "$$r_t = \\frac{p_t - p_{t-1}}{p_{t-1}} = \\frac{p_t}{p_{t-1}} - 1$$"
   ]
  },
  {
   "cell_type": "code",
   "execution_count": null,
   "metadata": {},
   "outputs": [],
   "source": [
    "rets = fech_ba / fech_ba.shift(1) -1\n",
    "rets.head()"
   ]
  },
  {
   "cell_type": "markdown",
   "metadata": {},
   "source": [
    "Alternativamente poderia ser .pct_change()"
   ]
  },
  {
   "cell_type": "code",
   "execution_count": null,
   "metadata": {},
   "outputs": [],
   "source": [
    "fech_ba.pct_change().head()"
   ]
  },
  {
   "cell_type": "markdown",
   "metadata": {},
   "source": [
    "## Gráficos básicos"
   ]
  },
  {
   "cell_type": "code",
   "execution_count": null,
   "metadata": {},
   "outputs": [],
   "source": [
    "%matplotlib inline"
   ]
  },
  {
   "cell_type": "code",
   "execution_count": null,
   "metadata": {},
   "outputs": [],
   "source": [
    "fech_ba.plot(label='BAHIA3.SA')\n",
    "med_ba.plot(label='média')\n",
    "plt.legend()"
   ]
  },
  {
   "cell_type": "markdown",
   "metadata": {},
   "source": [
    "## Outros ativos"
   ]
  },
  {
   "cell_type": "code",
   "execution_count": null,
   "metadata": {},
   "outputs": [],
   "source": [
    "start = datetime.datetime(2017, 1, 1)\n",
    "end = datetime.datetime(2017, 11, 22)\n",
    "petro=pdr.get_data_yahoo('PETR4.SA',start,end)\n",
    "petro"
   ]
  },
  {
   "cell_type": "code",
   "execution_count": null,
   "metadata": {},
   "outputs": [],
   "source": [
    "#Vamos gravar os resultado anteriores em um arqivo csv\n",
    "petro.to_csv('petro.csv')\n",
    "!head petro.csv"
   ]
  },
  {
   "cell_type": "code",
   "execution_count": null,
   "metadata": {},
   "outputs": [],
   "source": [
    "# Define as ações para download. Vamos usar  'BAHI3.SA', 'PETR4.SA', 'VALE5.SA' \n",
    "acoes = [\"BAHI3.SA\", \"PETR4.SA\", \"VALE5.SA\"]\n",
    "\n",
    "# Define a fonte online a ser usada\n",
    "data_fonte = 'yahoo'\n",
    "\n",
    "# Vamos usar os dados disponíveis entre 01/01/2010 e 22/11/2017.\n",
    "data_inicial = '2010-01-01'\n",
    "data_final = '2017-11-22'\n",
    "\n",
    "# Use o pandas_reader.data.DataReader para carregar os dados desejados. Faça\n",
    "painel_dados = pdr.DataReader(acoes, data_fonte, data_inicial, data_final)\n",
    "\n",
    "# Obtendo apenas os preços de fechamento ajustados. Isso retornará um Pandas DataFrame\n",
    "# O índice neste DataFrame é o principal índice do painel_dados.\n",
    "fechado = painel_dados.loc['Close']\n",
    "\n",
    "# Obtendo todos os dias da semana entre entre 01/01/2010 e 22/11/2017.\n",
    "todos_dias = pd.date_range(start=data_inicial, end=data_final, freq='B')\n",
    "\n",
    "\n",
    "# Como alinhamos os preços existentes em adj_close com o nosso novo conjunto de datas?\n",
    "# Tudo o que precisamos fazer é reindex fechar usando todos_diass como o novo índice\n",
    "\n",
    "fechado = fechado.reindex(todos_dias)\n",
    "\n",
    "fechado.head(10)"
   ]
  },
  {
   "cell_type": "markdown",
   "metadata": {},
   "source": [
    "Como o painel_dados se parece? data.DataReader retorna um objeto de painel, que pode ser considerado como uma matriz 3D. A primeira dimensão consiste nos vários campos que o Yahoo Finance retorna para um determinado instrumento, ou seja, os preços Open, High, Low, Close e Adj Close para cada data. A segunda dimensão contém as datas. O terceiro contém os identificadores do instrumento.\n",
    "\n",
    "Vamos ver o que panel_data realmente é:"
   ]
  },
  {
   "cell_type": "code",
   "execution_count": null,
   "metadata": {},
   "outputs": [],
   "source": [
    "painel_dados"
   ]
  },
  {
   "cell_type": "markdown",
   "metadata": {},
   "source": [
    "# Preparando os Dados\n",
    "\n",
    "Considere que estamos interessados em trabalhar com os preços da `Adj Close` que já foram ajustados pelo financiamento do Yahoo para contabilizar ações corporativas, como dividendos e divisões de ações. Queremos garantir que todos os dias da semana estejam incluídos em nosso conjunto de dados, o que muitas vezes é desejável para estratégias de negociação quantitativas. Claro, alguns dias da semana podem ser feriados públicos, caso em que nenhum preço estará disponível. Por esse motivo, iremos preencher os preços que faltam com os preços disponíveis mais recentes. Tudo isso é, novamente, muito fácil com os pandas:"
   ]
  },
  {
   "cell_type": "code",
   "execution_count": null,
   "metadata": {},
   "outputs": [],
   "source": [
    "# Obtendo apenas os preços de fechamento ajustados. Isso retornará um Pandas DataFrame\n",
    "# O índice neste DataFrame é o índice principal do panel_data.\n",
    "adj_close = painel_dados.loc['Adj Close']\n",
    "\n",
    "# Obtendo todos os dias da semana entre entre 01/01/\n",
    "2010 e 22/11/2017.\n",
    "todos_dias = pd.date_range(start=data_inicial, end=data_final, freq='B')\n",
    "\n",
    "# Como alinhamos os preços existentes em adj_close com o nosso novo conjunto de datas?\n",
    "# Tudo o que precisamos fazer é reindex adj_close usando all_weekdays como o novo índice\n",
    "adj_close = adj_close.reindex(todos_dias)\n",
    "\n",
    "\n",
    "# Reindexing irá inserir valores faltantes (NaN) para as datas que não estavam presentes\n",
    "# no conjunto original. Para lidar com isso, podemos preencher as faltas, substituindo-as\n",
    "# com o último preço disponível para cada instrumento.\n",
    "adj_close = adj_close.fillna(method='ffill')"
   ]
  },
  {
   "cell_type": "markdown",
   "metadata": {},
   "source": [
    "Inicialmente, adj_close contém todos os preços de fechamento ajustados para todos os instrumentos e todas as datas que o Yahoo retornou. Alguns dias da semana podem estar faltando nos dados fornecidos pelo Yahoo. Por esse motivo, criamos uma série de todos os dias da semana entre a primeira e a última data de interesse e os armazenamos na variável all_weekdays. Obter todos os dias da semana é conseguido passando o parâmetro chamado freq = 'B' para a função pd.date_range (). Esta função retorna um DatetimeIndex que é mostrado abaixo:"
   ]
  },
  {
   "cell_type": "code",
   "execution_count": null,
   "metadata": {},
   "outputs": [],
   "source": [
    "todos_dias"
   ]
  },
  {
   "cell_type": "markdown",
   "metadata": {},
   "source": [
    "Alinhar o DataFrame original com o novo DatetimeIndex é realizado por substituição do DatetimeIndex inicial do adj_close DataFrame. Se alguma das novas datas não foi incluída no original DatetimeIndex, os preços dessa data serão preenchidos com NaNs. Por este motivo, iremos preencher todos os Nacionais resultantes com o último preço disponível. O DataFrame final e limpo é mostrado abaixo:"
   ]
  },
  {
   "cell_type": "code",
   "execution_count": null,
   "metadata": {},
   "outputs": [],
   "source": [
    "adj_close.head(7)"
   ]
  },
  {
   "cell_type": "markdown",
   "metadata": {},
   "source": [
    "## Olhando para os Dados\n",
    "\n",
    "Nosso conjunto de dados está agora completo e sem valores faltantes. Podemos ver um resumo dos valores em cada um dos instrumentos ao chamar o método `describe()` de um Pandas DataFrame:"
   ]
  },
  {
   "cell_type": "code",
   "execution_count": null,
   "metadata": {},
   "outputs": [],
   "source": [
    "adj_close.describe()"
   ]
  },
  {
   "cell_type": "markdown",
   "metadata": {},
   "source": [
    "Suponhamos que gostaríamos de traçar a série temporal VALE5.SA. Também gostaríamos de ver como o estoque se comporta em comparação com uma média móvel de curto e longo prazo de seu preço. Uma média móvel simples da série temporal original é calculada tomando por cada data a média dos últimos preços de W (incluindo o preço na data de juros). A pandas tem a função `rolling()`, uma função interna para Séries que retorna um objeto rolando para uma janela definida pelo usuário, e. 20 dias. Uma vez que um objeto de rolamento foi obtido, várias funções podem ser aplicadas sobre ele, como `sum()`, `std()` (para calcular o desvio padrão dos valores na janela) ou `mean()`. Ver abaixo:"
   ]
  },
  {
   "cell_type": "code",
   "execution_count": null,
   "metadata": {},
   "outputs": [],
   "source": [
    "%matplotlib inline"
   ]
  },
  {
   "cell_type": "code",
   "execution_count": null,
   "metadata": {},
   "outputs": [],
   "source": [
    "# Obtém a série temporal da VALE5.SA. Essa agora returna umv objeto  Serie Pandas indexado pela data.\n",
    "vale = adj_close.loc[:, 'VALE5.SA']\n",
    "# Calcule os 20 e 100 dias das médias móveis dos preços de fechamento\n",
    "rolamento_curto_vale = vale.rolling(window=20).mean()\n",
    "rolamento_longo_vale = vale.rolling(window=100).mean()\n",
    "\n",
    "\n",
    "# Faz um gráfico de tudo \n",
    "fig = plt.figure()\n",
    "ax = fig.add_subplot(1,1,1)\n",
    "ax.plot(vale.index, vale, label='VALE%.SA')\n",
    "ax.plot(rolamento_curto_vale.index, rolamento_curto_vale, label='Janela de 20 dias')\n",
    "ax.plot(rolamento_longo_vale.index, rolamento_longo_vale, label='Janela de 100 dias')\n",
    "ax.set_xlabel('Data')\n",
    "ax.set_ylabel('Ajuste do preço de encerramento ($)')\n",
    "ax.legend()"
   ]
  },
  {
   "cell_type": "code",
   "execution_count": null,
   "metadata": {},
   "outputs": [],
   "source": []
  }
 ],
 "metadata": {
  "kernelspec": {
   "display_name": "Python 3",
   "language": "python",
   "name": "python3"
  },
  "language_info": {
   "codemirror_mode": {
    "name": "ipython",
    "version": 3
   },
   "file_extension": ".py",
   "mimetype": "text/x-python",
   "name": "python",
   "nbconvert_exporter": "python",
   "pygments_lexer": "ipython3",
   "version": "3.5.2"
  }
 },
 "nbformat": 4,
 "nbformat_minor": 2
}
