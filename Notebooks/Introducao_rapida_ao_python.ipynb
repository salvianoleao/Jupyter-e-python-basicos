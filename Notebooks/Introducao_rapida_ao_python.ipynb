{
 "cells": [
  {
   "cell_type": "markdown",
   "metadata": {},
   "source": [
    "# Introdução Rápida ao Python\n",
    "\n",
    "Está é uma coleção de vários declarações características da linguagem Python e do Ipython. Boa parte desse conteúdo teve como origen diversos outros notebooks encontrados na rede, e o que foi feito aqui foi juntar as partes de um com outro e uma adapatação de um conteúdo e outro. Nesse sentido é difícil dar os devidos crétido a todas as fontes."
   ]
  },
  {
   "cell_type": "markdown",
   "metadata": {},
   "source": [
    "## O Python\n",
    "\n",
    "- É uma linguagem de programação interpretade de alto nível.\n",
    "- Um código python pode ser programa, que você chama na linha de comando.\n",
    "- Atualmente ele possui um imenso número de bibliotecas já desenvolvidas, que vão desde a computação científica, análise financeira até a mineração de dados na Web.\n",
    "\n",
    "Funciona como:\n",
    "\n",
    "- Um código pode se um executável\n",
    "- Pode-se fazer um \"debugger\" interativo (_toplevel_)\n",
    "\n",
    "## O Jupyter/iPython Notebook\n",
    "\n",
    "Mistura tudo num lugar só:\n",
    "\n",
    "- editor de texto\n",
    "- toplevel\n",
    "- comentários e documentação\n",
    "- gráficos !\n",
    "- Vídeos\n",
    "- Web\n",
    "- Atualmente encontra-se disponínvel o kernel de 40 linguagens/aplicativos diferentes.\n",
    "\n",
    "## O Jupyter/IPython\n",
    "\n",
    "Funciona com célula e as células podem ser usadas basicamente para:\n",
    "\n",
    "1. Escrever um código: code\n",
    "2. Escrever um texto: markdown\n",
    " \n",
    " \n",
    "![../Figs/Menu_do_Jupyter.png](../Figs/Menu_markdown.png)\n",
    "\n",
    "Para executar uma célula de código tecle Shift-Enter ou use o botão \"play\" na barra de ferramentas.\n",
    "\n",
    "\n",
    "Na figura abaixo mostramos outros três itens importantes que devem ser observados:\n",
    "\n",
    "![../Figs/Menu_jupyter.png](../Figs/Menu_jupyter.png)\n"
   ]
  },
  {
   "cell_type": "markdown",
   "metadata": {},
   "source": [
    "## Atribuição "
   ]
  },
  {
   "cell_type": "code",
   "execution_count": null,
   "metadata": {},
   "outputs": [],
   "source": [
    "# Atrbuição no python\n",
    "a = 10\n",
    "b = a**2"
   ]
  },
  {
   "cell_type": "code",
   "execution_count": null,
   "metadata": {},
   "outputs": [],
   "source": [
    "# Mostrando o resultado\n",
    "print(\"a = \",a,\"   e  a^2 = \",b)"
   ]
  },
  {
   "cell_type": "markdown",
   "metadata": {},
   "source": [
    "Aqui vamos carregar a biblioteca `math` do Python, a qual disponibiliza algumas funções matemáticas"
   ]
  },
  {
   "cell_type": "code",
   "execution_count": null,
   "metadata": {},
   "outputs": [],
   "source": [
    "# carrega a biblioteca\n",
    "import math"
   ]
  },
  {
   "cell_type": "markdown",
   "metadata": {},
   "source": [
    "Para usar as funções agora é necessário por o nome da biblioteca com um ponto e depois o nome da função, da seguinte forma:\n",
    "```python\n",
    "math.função_desejada\n",
    "```"
   ]
  },
  {
   "cell_type": "code",
   "execution_count": null,
   "metadata": {},
   "outputs": [],
   "source": [
    "# Para usar a função cos\n",
    "x = math.cos(2 * math.pi)\n",
    "print(x)"
   ]
  },
  {
   "cell_type": "markdown",
   "metadata": {},
   "source": [
    "Para ver todas as funções disponibilizadas pela biblioteca `math` faça"
   ]
  },
  {
   "cell_type": "code",
   "execution_count": null,
   "metadata": {},
   "outputs": [],
   "source": [
    "print(dir(math))"
   ]
  },
  {
   "cell_type": "markdown",
   "metadata": {},
   "source": [
    "Para saber como usar digite:"
   ]
  },
  {
   "cell_type": "code",
   "execution_count": null,
   "metadata": {},
   "outputs": [],
   "source": [
    "math.tan?"
   ]
  },
  {
   "cell_type": "markdown",
   "metadata": {},
   "source": [
    "## Características do Python\n",
    "\n",
    "Há 4 formas de se carregar uma biblioteca no Python. Considere o seguinte exemplo no qual carregs-se especificamente a biblioteca a ser usada:"
   ]
  },
  {
   "cell_type": "code",
   "execution_count": null,
   "metadata": {},
   "outputs": [],
   "source": [
    "# Carrega a função prod da biblioteca numpy\n",
    "from numpy import prod\n",
    "lista=[1, 2, 3, 4, 5, 6, 7]  # Esse é um conceito do python\n",
    "soma = sum(lista)\n",
    "produto = prod(lista)\n",
    "print(produto)\n",
    "print(1+2+3)\n",
    "print(soma, sum(lista))"
   ]
  },
  {
   "cell_type": "markdown",
   "metadata": {},
   "source": [
    "A entrada de dados é iterativa:"
   ]
  },
  {
   "cell_type": "code",
   "execution_count": null,
   "metadata": {},
   "outputs": [],
   "source": [
    "n=input(\"Entre com um número inteiro: \") # A leitura direta sempre fornce uma string\n",
    "print(\"O número entrado foi:\",n)\n",
    "print(\"O tipo do número entrado é: \",type(n))"
   ]
  },
  {
   "cell_type": "code",
   "execution_count": null,
   "metadata": {},
   "outputs": [],
   "source": [
    "n=int(input(\"Entre com um número inteiro: \")) # Converte a string em um inteiro\n",
    "print(\"O número entrado foi:\",n)\n",
    "print(\"O tipo do número entrado é: \",type(n))"
   ]
  },
  {
   "cell_type": "code",
   "execution_count": null,
   "metadata": {},
   "outputs": [],
   "source": [
    "n=float(input(\"Entre com um número real: \")) # Converte a string em um float\n",
    "print(\"O número entrado foi:\",n)\n",
    "print(\"O tipo do número entrado é: \",type(n))"
   ]
  },
  {
   "cell_type": "code",
   "execution_count": null,
   "metadata": {},
   "outputs": [],
   "source": [
    "%debug\n",
    "inicio = 10\n",
    "fim = 30\n",
    "passo = 1\n",
    "for i in range(inicio, fim, passo):\n",
    "    print(\"i = \", (i/(2*i-fim)))"
   ]
  },
  {
   "cell_type": "markdown",
   "metadata": {},
   "source": [
    "# Escopo ou Namespaces\n",
    "\n",
    "\n",
    "## Introdução\n",
    "\n",
    "[Referência](http://www.alan-g.me.uk/tutor/port/). Note entretanto que ela usa a versão 2.7 do Python\n",
    "\n",
    "O que é um namespace? Embora o conceito não seja complexo, a sua explicação não é direta, porque usa esse conceito de forma diferente, logo não há como generalizar. Basicamente um namespace é um espaço ou uma região, dentro de um programa, onde um nome (uma variável uma função, etc..) é considerada válida. Em geral nas funções, rotinas, classes, etc.\n",
    "\n",
    "Este conceito apareceu porque as primeiras linguagens de programação (como é o caso do BASIC) só tinham as chamadas `Global Variables`, isto é uma variável que estaria presente durante toda a execução do programa - mesmo dentro das funções. Ora isto tornava a manutenção de programas muito longos uma tarefa muito difícil, isso ficou conhecido como `side-effect` (efeito secundário). Para resolver o problema as novas linguagens de programação criaram o conceito de `namespace` (O C++ levou este conceito aos extremos permitindo que o próprio programador pudesse criar o seu `namespace` em qualquer parte do programa. Isso é muito bom para quem cria bibliotecas e quer manter os nomes das suas funções únicas, quando misturadas com bibliotecas de outros programadores).\n",
    "\n",
    "### Como o Python encara isto\n",
    "\n",
    "No Python cada módulo cria o seu próprio `namespace`. Para termos acesso a esses nomes temos que precede-las pelo nome do módulo ou então importar explicitamente os nomes que queremos usar para dentro do nosso módulo. Mas isso não é nada novo, visto que é isso o que se tem feito com o `sys` e `string`. De certa forma as definições como `class` também criam seu próprio `namespace` mas para aceder a esses nomes temos que usar o nome da variável da instância  ou então o classname..instância \n",
    "\n",
    "No Python existem apenas 3 tipos de `namespace` (ou escopos):\n",
    "\n",
    "    - Escopo Local - nome definido dentro de uma função, ou dentro de um método\n",
    "    - Escopo do Módulo - nomes definidos dentro de um ficheiro\n",
    "    - Escopo Interno - nomes definidos dentro do próprio Python, estando portanto, constantemente disponíveis. \n",
    "\n",
    "Então mas o que acontece quando temos duas variáveis diferentes em `namespaces` diferentes, mas com o mesmo nome? Ou então o que acontece quando se se referência um nome existente, mas não no `namespace` corrente? Vamos olhar para a primeira situação, se uma função 'chama' por uma variável chamada X e se existe uma variável com esse nome dentro da função (Escopo Local) então essa será a variável utilizada pelo Python. É da responsabilidade do programador evitar conflitos entre nomes de forma que uma variável do escopo local e uma outra do escopo do módulo ambas com o mesmo nome, não sejam ambas usadas na mesma função - porque se assim for a do escopo local é que será usada.\n",
    "\n",
    "De uma forma geral deve-se minimizar o uso de \"declarações globais\", pois assim será mais fácil usar a variável como um dos parâmetros e depois obtê-la já modificada."
   ]
  },
  {
   "cell_type": "code",
   "execution_count": null,
   "metadata": {},
   "outputs": [],
   "source": [
    "# variáveis dentro de um módulo\n",
    "import math\n",
    "Ang = (math.pi/180.0)\n",
    " \n",
    "# os parâmetros utilizados também estão dentro de um escopo\n",
    "# o Ang fica colocado num escopo local:\n",
    "def TabelaSeno(Inicio,Fim,Passo):\n",
    "    # dizer para a função não criar o seu próprio espaço reservado para \n",
    "    # a variável Ang, e procurar por essa no nível do módulo\n",
    "    global Ang\n",
    "    r = 25*\"-\"\n",
    "    print(r)\n",
    "    print(\"     x     |   sen(x) \")\n",
    "    print(r)\n",
    "    for x in range(Inicio,Fim,Passo):\n",
    "        Z = Ang*x        # usa a variável Ang criada um pouco mais acima\n",
    "        W = math.sin(Z)  # uma nova variável W é criada no escopo local\n",
    "        saida = \"  {0:5.1f}    |  {1:7.5f}\".format(x,W)\n",
    "        print(saida)\n",
    "    print(r,\"\\n\\n\")\n",
    "    print(\"O fator de conversão angular é: \", Ang)\n",
    "\n",
    "# Define variáveis\n",
    "inicio=0\n",
    "fim=100\n",
    "passo =10\n",
    "#\n",
    "TabelaSeno(inicio,fim,passo)\n",
    "# Aqui teremos um erro porque as variáveis Z e W só existem no escopo da função TabelaSeno\n",
    "print('Verificando a variável internas Z', Z)\n",
    "print('Verificando a variável internas W', W)\n"
   ]
  },
  {
   "cell_type": "markdown",
   "metadata": {},
   "source": [
    "Bom o que acontece quendo importamos um módulo como o `sys` é que tormanos o nome `sys` disponivél de uma forma local, permintindo-nos aceder aos nomes dentro do módulo `sys` da seguinte forma:\n",
    "\n",
    "```python\n",
    "from sys import exit\n",
    "```\n",
    "\n",
    "dessa forma trazemos apenas o `exit` para o namespace local ou escopo local. Mas quando fazemos isto, significa que não podemos usar o nome `sys` para mais nada, nem sequer variáveis..\n"
   ]
  },
  {
   "cell_type": "markdown",
   "metadata": {},
   "source": [
    "Importe todo o modulo no atual \"namespace\"."
   ]
  },
  {
   "cell_type": "code",
   "execution_count": null,
   "metadata": {},
   "outputs": [],
   "source": [
    "from math import *\n",
    "x = cos(2 * pi)\n",
    "print(x)"
   ]
  },
  {
   "cell_type": "markdown",
   "metadata": {},
   "source": [
    "Há vários modos de acessar a documentação de um módulo."
   ]
  },
  {
   "cell_type": "code",
   "execution_count": null,
   "metadata": {},
   "outputs": [],
   "source": [
    "print(dir(math))"
   ]
  },
  {
   "cell_type": "code",
   "execution_count": null,
   "metadata": {},
   "outputs": [],
   "source": [
    "help(math.cos)"
   ]
  },
  {
   "cell_type": "markdown",
   "metadata": {},
   "source": [
    "### Variáveis"
   ]
  },
  {
   "cell_type": "code",
   "execution_count": null,
   "metadata": {},
   "outputs": [],
   "source": [
    "x = 1.0\n",
    "type(x)"
   ]
  },
  {
   "cell_type": "code",
   "execution_count": null,
   "metadata": {},
   "outputs": [],
   "source": [
    "# Tipagem dinâmica\n",
    "x = 1\n",
    "type(x)"
   ]
  },
  {
   "cell_type": "code",
   "execution_count": null,
   "metadata": {},
   "outputs": [],
   "source": [
    "x='O python é 10+'\n",
    "print(x)"
   ]
  },
  {
   "cell_type": "markdown",
   "metadata": {},
   "source": [
    "### Operadores"
   ]
  },
  {
   "cell_type": "code",
   "execution_count": null,
   "metadata": {},
   "outputs": [],
   "source": [
    "1 + 2, 1 - 2, 1 * 2, 1 / 2"
   ]
  },
  {
   "cell_type": "code",
   "execution_count": null,
   "metadata": {},
   "outputs": [],
   "source": [
    "# Divisão inteira de números de ponto flutuante:\n",
    "print( \"3.0 // 2.0 = \", 3.0 // 2.0 )\n",
    "print( \"11.0 / 3.0 = \", 11.0 / 3.0 )\n",
    "print( \"11.0 // 3.0 =\", 11.0 // 3.0 )\n",
    "print( \"11 / 3 = \", 11 // 3 )"
   ]
  },
  {
   "cell_type": "code",
   "execution_count": null,
   "metadata": {},
   "outputs": [],
   "source": [
    "# Operador potência\n",
    "2**2"
   ]
  },
  {
   "cell_type": "code",
   "execution_count": null,
   "metadata": {},
   "outputs": [],
   "source": [
    "True and False"
   ]
  },
  {
   "cell_type": "code",
   "execution_count": null,
   "metadata": {},
   "outputs": [],
   "source": [
    "not False"
   ]
  },
  {
   "cell_type": "code",
   "execution_count": null,
   "metadata": {},
   "outputs": [],
   "source": [
    "True or False"
   ]
  },
  {
   "cell_type": "code",
   "execution_count": null,
   "metadata": {},
   "outputs": [],
   "source": [
    "2 > 1, 2 < 1, 2 > 2, 2 < 2, 2 >= 2, 2 <= 2"
   ]
  },
  {
   "cell_type": "code",
   "execution_count": null,
   "metadata": {},
   "outputs": [],
   "source": [
    "# Operador igualdade\n",
    "[1,2] == [1,2]"
   ]
  },
  {
   "cell_type": "markdown",
   "metadata": {},
   "source": [
    "### Textos/palavras \"Strings\""
   ]
  },
  {
   "cell_type": "code",
   "execution_count": null,
   "metadata": {},
   "outputs": [],
   "source": [
    "s = \"Olá mundo! \"\n",
    "type(s)"
   ]
  },
  {
   "cell_type": "code",
   "execution_count": null,
   "metadata": {},
   "outputs": [],
   "source": [
    "len(s)"
   ]
  },
  {
   "cell_type": "code",
   "execution_count": null,
   "metadata": {},
   "outputs": [],
   "source": [
    "s2 = s.replace(\"mundo\", \"Brasil\")\n",
    "print(s2)"
   ]
  },
  {
   "cell_type": "code",
   "execution_count": null,
   "metadata": {},
   "outputs": [],
   "source": [
    "s[0]"
   ]
  },
  {
   "cell_type": "code",
   "execution_count": null,
   "metadata": {},
   "outputs": [],
   "source": [
    "s[0:3]"
   ]
  },
  {
   "cell_type": "code",
   "execution_count": null,
   "metadata": {},
   "outputs": [],
   "source": [
    "s[4:]"
   ]
  },
  {
   "cell_type": "code",
   "execution_count": null,
   "metadata": {},
   "outputs": [],
   "source": [
    "s[:]"
   ]
  },
  {
   "cell_type": "code",
   "execution_count": null,
   "metadata": {},
   "outputs": [],
   "source": [
    "# Define o tamanho do passo como sendo 2\n",
    "s[::2]"
   ]
  },
  {
   "cell_type": "code",
   "execution_count": null,
   "metadata": {},
   "outputs": [],
   "source": [
    "# O operador multiplicação \n",
    "texto = 10*s\n",
    "print(texto)"
   ]
  },
  {
   "cell_type": "code",
   "execution_count": null,
   "metadata": {},
   "outputs": [],
   "source": [
    "# Adiciona um espaço automaticamente\n",
    "print(\"str1\", \"str2\", \"str3\")"
   ]
  },
  {
   "cell_type": "code",
   "execution_count": null,
   "metadata": {},
   "outputs": [],
   "source": [
    "# Formatação da saída no estilo da linguagem C\n",
    "print(\"valor = %f\" % 1.0)\n"
   ]
  },
  {
   "cell_type": "code",
   "execution_count": null,
   "metadata": {},
   "outputs": [],
   "source": [
    "# Alternativa, um modo mais intuitivo de formatar uma string \n",
    "s3 = 'O valor de pi = {0}  e o valor do número de Euler = {1}'.format(3.1415, 2.71828)\n",
    "print(s3)\n",
    "s4 = 'O valor de pi = {0}  e o valor do número de Euler = {1}'.format(math.pi, math.exp(1))\n",
    "print(s4)"
   ]
  },
  {
   "cell_type": "markdown",
   "metadata": {},
   "source": [
    "### Listas"
   ]
  },
  {
   "cell_type": "code",
   "execution_count": null,
   "metadata": {},
   "outputs": [],
   "source": [
    "l = [1,2,3,4]\n",
    "\n",
    "print(type(l))\n",
    "print(l)"
   ]
  },
  {
   "cell_type": "code",
   "execution_count": null,
   "metadata": {},
   "outputs": [],
   "source": [
    "print(l[1:3])\n",
    "print(l[::2])"
   ]
  },
  {
   "cell_type": "code",
   "execution_count": null,
   "metadata": {},
   "outputs": [],
   "source": [
    "l[0]"
   ]
  },
  {
   "cell_type": "code",
   "execution_count": null,
   "metadata": {},
   "outputs": [],
   "source": [
    "# As variáveis de uma lista não precisam ser todas do mesmo tipo:\n",
    "l = [1, 'a', 1.0, 1-1j]\n",
    "print(l)"
   ]
  },
  {
   "cell_type": "code",
   "execution_count": null,
   "metadata": {},
   "outputs": [],
   "source": [
    "inicio = 10\n",
    "fim = 30\n",
    "passo = 2\n",
    "for i in range(inicio, fim, passo):\n",
    "    print(\"i = \",i)\n",
    "\n",
    "# Um iterador criado para variar em um intervalo. \n",
    "# Vamos gera uma lista dos números pares entre \"inicio\" e \"fim\":\n",
    "list(range(inicio, fim, passo))"
   ]
  },
  {
   "cell_type": "code",
   "execution_count": null,
   "metadata": {},
   "outputs": [],
   "source": [
    "# Vamos gera uma lista dos números ímpares entre \"inicio\" e \"fim\":\n",
    "list(range(inicio+1, fim, passo))"
   ]
  },
  {
   "cell_type": "code",
   "execution_count": null,
   "metadata": {},
   "outputs": [],
   "source": [
    "# Cria uma nova lista vazia\n",
    "l = []\n",
    "\n",
    "# Adiciona uma elemento novo a lista existente com o comando `append`\n",
    "l.append(\"A\")\n",
    "l.append(\"d\")\n",
    "l.append(\"d\")\n",
    "\n",
    "print(l)"
   ]
  },
  {
   "cell_type": "code",
   "execution_count": null,
   "metadata": {},
   "outputs": [],
   "source": [
    "l[1:3] = [\"b\", \"c\"]\n",
    "print(l)"
   ]
  },
  {
   "cell_type": "code",
   "execution_count": null,
   "metadata": {},
   "outputs": [],
   "source": [
    "# O comando \"insert\" insere na lista LISTA na posição i um elemento XX da seguinte forma:\n",
    "# LISTA.insert(i,\"XX\")\n",
    "l.insert(0, \"i\")\n",
    "l.insert(1, \"n\")\n",
    "l.insert(2, \"s\")\n",
    "l.insert(3, \"e\")\n",
    "l.insert(4, \"r\")\n",
    "l.insert(5, \"t\")\n",
    "\n",
    "print(l)"
   ]
  },
  {
   "cell_type": "code",
   "execution_count": null,
   "metadata": {},
   "outputs": [],
   "source": [
    "# Remove o elemento \"A\" da lista\n",
    "l.remove(\"A\")\n",
    "print(l)"
   ]
  },
  {
   "cell_type": "code",
   "execution_count": null,
   "metadata": {},
   "outputs": [],
   "source": [
    "print(l[7])\n",
    "# Remova o sétimo elemento da lista\n",
    "del l[7]\n",
    "print(l[6])\n",
    "# Remove o sexto elemento da lista. Note que houve uma mudança de posição\n",
    "del l[6]\n",
    "\n",
    "print(l)"
   ]
  },
  {
   "cell_type": "markdown",
   "metadata": {},
   "source": [
    "### Tuplas"
   ]
  },
  {
   "cell_type": "code",
   "execution_count": null,
   "metadata": {},
   "outputs": [],
   "source": [
    "ponto = (10, 20)\n",
    "print(ponto, type(ponto))"
   ]
  },
  {
   "cell_type": "code",
   "execution_count": null,
   "metadata": {},
   "outputs": [],
   "source": [
    "# Descompacta\n",
    "x, y = ponto\n",
    "\n",
    "print(\"x =\", x)\n",
    "print(\"y =\", y)"
   ]
  },
  {
   "cell_type": "markdown",
   "metadata": {},
   "source": [
    "### Dicionários"
   ]
  },
  {
   "cell_type": "code",
   "execution_count": null,
   "metadata": {},
   "outputs": [],
   "source": [
    "parametros = {\"parametro1\" : 1.0,\n",
    "              \"parametro2\" : 2.0,\n",
    "              \"parametro3\" : 3.0,}\n",
    "\n",
    "print(type(parametros))\n",
    "print(parametros)"
   ]
  },
  {
   "cell_type": "code",
   "execution_count": null,
   "metadata": {},
   "outputs": [],
   "source": [
    "parametros[\"parametro1\"] = \"A\"\n",
    "parametros[\"parametro2\"] = \"B\"\n",
    "\n",
    "# adiciona uma nova entrada\n",
    "parametros[\"parametro4\"] = \"D\"\n",
    "\n",
    "print(\"parametro1 = \" + str(parametros[\"parametro1\"]))\n",
    "print(\"parametro2 = \" + str(parametros[\"parametro2\"]))\n",
    "print(\"parametro3 = \" + str(parametros[\"parametro3\"]))\n",
    "print(\"parametro4 = \" + str(parametros[\"parametro4\"]))"
   ]
  },
  {
   "cell_type": "markdown",
   "metadata": {},
   "source": [
    "### Controle de Fluxo"
   ]
  },
  {
   "cell_type": "code",
   "execution_count": null,
   "metadata": {},
   "outputs": [],
   "source": [
    "fala1 = False\n",
    "fala2 = False\n",
    "\n",
    "if fala1:\n",
    "    print(\"fala1 é True\")\n",
    "elif fala2:\n",
    "    print(\"fala2 é True\")\n",
    "else:\n",
    "    print(\"fala1 e fala2 são False\")"
   ]
  },
  {
   "cell_type": "markdown",
   "metadata": {},
   "source": [
    "### Repetições ou Loops"
   ]
  },
  {
   "cell_type": "code",
   "execution_count": null,
   "metadata": {},
   "outputs": [],
   "source": [
    "for x in range(4):\n",
    "    print(x)"
   ]
  },
  {
   "cell_type": "code",
   "execution_count": null,
   "metadata": {},
   "outputs": [],
   "source": [
    "for fiscomp in [\"computação\", \"científica\", \"com\", \"python\"]:\n",
    "    print(fiscomp)"
   ]
  },
  {
   "cell_type": "code",
   "execution_count": null,
   "metadata": {},
   "outputs": [],
   "source": [
    "for identificador, valor in parametros.items():\n",
    "    print(identificador + \" = \" + str(valor))"
   ]
  },
  {
   "cell_type": "code",
   "execution_count": null,
   "metadata": {},
   "outputs": [],
   "source": [
    "for idx, x in enumerate(range(-3,3)):\n",
    "    print(idx, x)"
   ]
  },
  {
   "cell_type": "code",
   "execution_count": null,
   "metadata": {},
   "outputs": [],
   "source": [
    "l1 = [x**2 for x in range(0,5)]\n",
    "print(l1)"
   ]
  },
  {
   "cell_type": "code",
   "execution_count": null,
   "metadata": {},
   "outputs": [],
   "source": [
    "i = 0\n",
    "while i < 5:\n",
    "    print(i)\n",
    "    i = i + 1\n",
    "print(\"feito\")"
   ]
  },
  {
   "cell_type": "markdown",
   "metadata": {},
   "source": [
    "### Funções enumerate\n",
    "\n",
    "Como percorremos os elementos de uma lista? Podemos utilizar a construção `for in`. Para cada elemento da lista, faça algo com tal elemento."
   ]
  },
  {
   "cell_type": "code",
   "execution_count": null,
   "metadata": {},
   "outputs": [],
   "source": [
    "lista = ['Olá', 'Mundo', 'Planeta', 'Terra', 'Lua']\n",
    "for texto in lista:\n",
    "    print (texto)"
   ]
  },
  {
   "cell_type": "markdown",
   "metadata": {},
   "source": [
    "Uma outra forma de percorremos uma lista é através dos índices:"
   ]
  },
  {
   "cell_type": "code",
   "execution_count": null,
   "metadata": {},
   "outputs": [],
   "source": [
    "lista = ['Olá', 'Mundo', 'Planeta', 'Terra', 'Lua']\n",
    "for i in range(0, len(lista)):\n",
    "    print(lista[i])"
   ]
  },
  {
   "cell_type": "markdown",
   "metadata": {},
   "source": [
    "O que também pode ser feito como"
   ]
  },
  {
   "cell_type": "code",
   "execution_count": null,
   "metadata": {},
   "outputs": [],
   "source": [
    "lista = ['Olá', 'Mundo', 'Planeta', 'Terra', 'Lua']\n",
    "i=0\n",
    "while i < len(lista):\n",
    "    print(lista[i])\n",
    "    i = i + 1"
   ]
  },
  {
   "cell_type": "markdown",
   "metadata": {},
   "source": [
    "A diferença básica entre os dois últimos códigos (que utilizam `for i in range` e `while`) para o primeiro trecho de código apresentado? É o acesso ao índice, à posição do elemento na lista. Utilizando a estrutura `for elemento in`, não sabemos qual é a posição do item atual. Isso poderia ser necessário, por exemplo, se precisarmos escrever uma função que retorne uma lista contendo os índices das palavras que começam pelo caractere 'a'.\n",
    "\n",
    "Para contornar esse problema, existe a função `enumerate()`. Essa função pode receber como entrada uma lista e irá retornar um objeto do tipo enumerate, que poderá ser percorrido pelo for. Vejamos um exemplo simples:"
   ]
  },
  {
   "cell_type": "code",
   "execution_count": null,
   "metadata": {},
   "outputs": [],
   "source": [
    "lista = ['Olá', 'Mundo', 'Planeta', 'Terra', 'Lua']\n",
    "for i, texto in enumerate(lista):\n",
    "    print ('lista[',i,'] = ', texto)"
   ]
  },
  {
   "cell_type": "markdown",
   "metadata": {},
   "source": [
    "E se quisermos escrever a função que retorna uma lista contendo as posições das palavras de uma lista que começam com a letra ‘a’?"
   ]
  },
  {
   "cell_type": "code",
   "execution_count": null,
   "metadata": {},
   "outputs": [],
   "source": [
    "def posicoesQueIniciamCom(lista, letra='a'):\n",
    "    result = []\n",
    "    for i, palavra in enumerate(lista):\n",
    "        if palavra.startswith(letra):\n",
    "            result.append(i)\n",
    "    return result\n",
    "\n",
    "nomes = ['ave', 'rua', 'avenida', 'avião', 'carro', 'abacaxi']\n",
    "print (posicoesQueIniciamCom(nomes))"
   ]
  },
  {
   "cell_type": "markdown",
   "metadata": {},
   "source": [
    "Assim, sempre que precisarmos dos índices dos elementos das listas (ou outros iteráveis) que estivermos percorrendo, podemos utilizar a função `enumerate()` para construir uma estrutura composta por pares índice-elemento."
   ]
  },
  {
   "cell_type": "markdown",
   "metadata": {},
   "source": [
    "### Lista compreensão\n",
    "\n",
    "\n",
    "#### Exemplo 1: Trio Pitagórico\n",
    "Um trio Pitagórico consiste de trẽs interiros positivos $a$, $b$, e $c$, tais que:\n",
    "\n",
    "$$a^2 + b^2 = c^2.$$\n",
    "\n",
    "Tal trio pode ser escrito como $(a,b,c)$ e o exemplo mais conhecido é $(3,4,5)$.  A seguinte lista comprehension\n",
    "cria trios Pitagóricos, no intervalo desejado:\n"
   ]
  },
  {
   "cell_type": "code",
   "execution_count": null,
   "metadata": {},
   "outputs": [],
   "source": [
    "inicio=1\n",
    "fim = 30\n",
    "trios = [(x,y,z) for x in range(inicio,fim) for y in range(x,fim) for z in range(y,fim) if x**2 + y**2 == z**2]\n",
    "print(trios)"
   ]
  },
  {
   "cell_type": "markdown",
   "metadata": {},
   "source": [
    "#### Exemplo 2: Duas listas\n",
    "\n",
    "Considere uma lista contedndo cores e uma outra objetos"
   ]
  },
  {
   "cell_type": "code",
   "execution_count": null,
   "metadata": {},
   "outputs": [],
   "source": [
    "cores = [ \"verde\", \"azul\", \"amarelo\", \"roxo\" ]\n",
    "objetos = [ \"camisa\", \"carro\", \"bola\", \"lápis\" ]\n",
    "meus_objetos = [ (x,y) for x in cores for y in objetos ]\n",
    "print(meus_objetos)"
   ]
  },
  {
   "cell_type": "markdown",
   "metadata": {},
   "source": [
    "### Gerador de compreensão \n",
    "\n",
    "Os gerdores de compreensões foram introduzidas com o Python 2.6. Eles são simplesmente como uma lista de compreensão, mas com parênteses - em vez de colchetes em torno dele. Caso contrário, a sintaxe e a forma de trabalhar são como a compreensão da lista, mas um gerador de compreensão retorna um gerador em vez de uma lista."
   ]
  },
  {
   "cell_type": "code",
   "execution_count": null,
   "metadata": {},
   "outputs": [],
   "source": [
    "x = (x **2 for x in range(20))\n",
    "print(\"x = \", x)"
   ]
  },
  {
   "cell_type": "code",
   "execution_count": null,
   "metadata": {},
   "outputs": [],
   "source": [
    "x = list(x)\n",
    "print(\"x = \", x)"
   ]
  },
  {
   "cell_type": "code",
   "execution_count": null,
   "metadata": {},
   "outputs": [],
   "source": [
    "# Isso é o mesmo que\n",
    "x = list(x **2 for x in range(20))\n",
    "print(\"x = \", x)"
   ]
  },
  {
   "cell_type": "markdown",
   "metadata": {},
   "source": [
    "### Função zip\n",
    "\n",
    "Escreva em Python uma função que, dadas duas listas não vazias e de mesmo comprimento, retorne como resultado uma nova lista contendo em cada posição a soma dos elementos correspondentes nas duas listas recebidas. Exemplo:"
   ]
  },
  {
   "cell_type": "code",
   "execution_count": null,
   "metadata": {},
   "outputs": [],
   "source": [
    "def soma_listas(l1, l2):\n",
    "    l3 = []\n",
    "    for i in range(0, len(l1)):\n",
    "        l3.append(l1[i] + l2[i])\n",
    "    return l3\n",
    " \n",
    "l1 = [1, 2, 3]\n",
    "l2 = [4, 5, 6]\n",
    "print(soma_listas(l1, l2)) # deve imprimir [5, 7, 9]"
   ]
  },
  {
   "cell_type": "markdown",
   "metadata": {},
   "source": [
    "Isso para quem ainda não conhece a função interna `zip`. A documentação da função diz basicamente que:\n",
    "\n",
    "> Esta função retorna uma lista de tuplas, onde a i-ésima tupla contém o i-ésimo elemento de cada um dos argumentos.\n",
    "\n",
    "O exemplo usado na documentação oficial é bem claro:"
   ]
  },
  {
   "cell_type": "code",
   "execution_count": null,
   "metadata": {},
   "outputs": [],
   "source": [
    "x = [1, 2, 3]\n",
    "y = [4, 5, 6]\n",
    "print(list(zip(x, y)))"
   ]
  },
  {
   "cell_type": "markdown",
   "metadata": {},
   "source": [
    "Nesse caso,  o que a função fez foi: para cada elemento da lista x, juntou o elemento correspondente em posição da lista y a ele em uma tupla e a adicionou a uma lista.\n",
    "\n",
    "Isso é particularmente útil quando precisarmos percorrer duas sequências de elementos em paralelo. A função soma_listas, usando `zip`, fica:"
   ]
  },
  {
   "cell_type": "code",
   "execution_count": null,
   "metadata": {},
   "outputs": [],
   "source": [
    "def soma_listas2(l1, l2):\n",
    "    l3 = []\n",
    "    for x in zip(l1, l2):\n",
    "        l3.append(x[0]+x[1])\n",
    "    return l3\n",
    "\n",
    "l1 = [1, 2, 3]\n",
    "l2 = [4, 5, 6]\n",
    "print(soma_listas2(l1, l2)) # deve imprimir [5, 7, 9]"
   ]
  },
  {
   "cell_type": "markdown",
   "metadata": {},
   "source": [
    "Ou então, usando compreensão de lista:"
   ]
  },
  {
   "cell_type": "code",
   "execution_count": null,
   "metadata": {},
   "outputs": [],
   "source": [
    "def soma_listas3(l1, l2):\n",
    "    return [x[0]+x[1] for x in zip(l1, l2)]\n",
    "\n",
    "print(soma_listas3(l1, l2)) # deve imprimir [5, 7, 9]"
   ]
  },
  {
   "cell_type": "markdown",
   "metadata": {},
   "source": [
    "Para finalizar, vamos escrever agora uma função que recebe duas listas como entrada e retorna como resultado uma nova lista contendo, em cada posição, o maior valor da posição correspondente nas duas listas. Por exemplo:\n",
    "\n",
    "> maiores([1, 2, 9], [2, 1, 7]) -> [2, 2, 9]\n",
    "\n",
    "Com a função zip, fica fácil"
   ]
  },
  {
   "cell_type": "code",
   "execution_count": null,
   "metadata": {},
   "outputs": [],
   "source": [
    "def maiores(l1, l2):\n",
    "    l3 = []\n",
    "    for x, y in zip(l1, l2):\n",
    "        l3.append(x if x > y else y)\n",
    "    return l3\n",
    "\n",
    "print(maiores(l1,l2))"
   ]
  },
  {
   "cell_type": "markdown",
   "metadata": {},
   "source": [
    "### Funções"
   ]
  },
  {
   "cell_type": "code",
   "execution_count": null,
   "metadata": {},
   "outputs": [],
   "source": [
    "def f(x): return x**2"
   ]
  },
  {
   "cell_type": "code",
   "execution_count": null,
   "metadata": {},
   "outputs": [],
   "source": [
    "f(6)"
   ]
  },
  {
   "cell_type": "code",
   "execution_count": null,
   "metadata": {},
   "outputs": [],
   "source": [
    "prod = lambda x, y: x * y\n",
    "print(prod(2,18))"
   ]
  },
  {
   "cell_type": "code",
   "execution_count": null,
   "metadata": {},
   "outputs": [],
   "source": [
    "g = lambda x: x**3\n",
    "print(g(3))"
   ]
  },
  {
   "cell_type": "code",
   "execution_count": null,
   "metadata": {},
   "outputs": [],
   "source": [
    "# inculir a documentação da função a \"docstring\"\n",
    "def funcao(s):\n",
    "    \"\"\"\n",
    "    Imprime uma string 's' e diz quantos caracteres ela possui    \n",
    "    \"\"\"\n",
    "    \n",
    "    print(s + \" tem \" + str(len(s)) + \" caracteres\")"
   ]
  },
  {
   "cell_type": "code",
   "execution_count": null,
   "metadata": {},
   "outputs": [],
   "source": [
    "help(funcao)"
   ]
  },
  {
   "cell_type": "code",
   "execution_count": null,
   "metadata": {},
   "outputs": [],
   "source": [
    "funcao(\"teste\")"
   ]
  },
  {
   "cell_type": "code",
   "execution_count": null,
   "metadata": {},
   "outputs": [],
   "source": [
    "def quad(x):\n",
    "    return x ** 2"
   ]
  },
  {
   "cell_type": "code",
   "execution_count": null,
   "metadata": {},
   "outputs": [],
   "source": [
    "quad(5)"
   ]
  },
  {
   "cell_type": "code",
   "execution_count": null,
   "metadata": {},
   "outputs": [],
   "source": [
    "# Retornando multiplos valores\n",
    "def potencias(x):\n",
    "    return x ** 2, x ** 3, x ** 4"
   ]
  },
  {
   "cell_type": "code",
   "execution_count": null,
   "metadata": {},
   "outputs": [],
   "source": [
    "potencias(5)"
   ]
  },
  {
   "cell_type": "code",
   "execution_count": null,
   "metadata": {},
   "outputs": [],
   "source": [
    "x2, x3, x4 = potencias(5)\n",
    "print(x3)"
   ]
  },
  {
   "cell_type": "code",
   "execution_count": null,
   "metadata": {},
   "outputs": [],
   "source": [
    "f1 = lambda x: x**2\n",
    "f1(5)"
   ]
  },
  {
   "cell_type": "markdown",
   "metadata": {},
   "source": [
    "## A Função map()\n",
    "\n",
    "A vantagem do operador lambda opode ser vista quando ele é usado em combinação com a função map(). \n",
    "map() é uma função  a qual toma dois argumentos: \n",
    "\n",
    "r = map(funcao, seq)\n",
    "\n",
    "O primeiro argumento func é o nome de uma função e o segundo seq uma seqüência (por exemplo, uma lista). A função map() aplica a função func a todos os elementos da sequência seq. Antes do Python3, map() era usado para retornar uma lista, onde cada elemento da lista de resultados era o resultado da função func aplicada no elemento correspondente da lista ou tupla \"seq\". Com o Python 3, map() retorna um iterador.\n",
    "\n",
    "O seguinte exemplo ilustra como a função map() funciona no python 3:"
   ]
  },
  {
   "cell_type": "code",
   "execution_count": null,
   "metadata": {},
   "outputs": [],
   "source": [
    "def fahrenheit(T):     \n",
    "    return ((float(9)/5)*T + 32)\n",
    "\n",
    "def celsius(T):\n",
    "    return (float(5)/9)*(T-32)\n",
    "\n",
    "temperaturas = (0, 25, 36.5, 37, 37.5, 38, 39)\n",
    "\n",
    "F = map(fahrenheit, temperaturas)\n",
    "C = map(celsius, F)\n",
    "\n",
    "temperaturas_em_Fahrenheit = list(map(fahrenheit, temperaturas))\n",
    "temperaturas_em_Celsius = list(map(celsius, temperaturas_em_Fahrenheit))\n",
    "\n",
    "print(\"Temperaturas em Fahrenheit = \", temperaturas_em_Fahrenheit)\n",
    "\n",
    "print(\"Temperaturas em Celcius    = \", temperaturas_em_Celsius)"
   ]
  },
  {
   "cell_type": "markdown",
   "metadata": {},
   "source": [
    "No exemplo acima não usamos lambda. Usando lambda, não teríamos que definir e nomear as funções fahrenheit() e celsius(). Você pode ver isso na seguinte sessão interativa:"
   ]
  },
  {
   "cell_type": "code",
   "execution_count": null,
   "metadata": {},
   "outputs": [],
   "source": [
    "C = [39.2, 36.5, 37.3, 38, 37.8] \n",
    "F = list(map(lambda x: (float(9)/5)*x + 32, C))\n",
    "\n",
    "print(\"Temperaturas em Fahrenheit = \", F)\n",
    "\n",
    "C = list(map(lambda x: (float(5)/9)*(x-32), F))\n",
    "\n",
    "print(\"Temperaturas em Celcius    = \", C)\n",
    "\n",
    "# A função  map() pode ser aplicada a mais de uma lista. Entretanto as listas devem possuir\n",
    "# o mesmo tamanho. A função map() irá aplicar a função lambda a todos os elementos das listas que \n",
    "# foram passadas como argumentos , isto é, ela primeiro é aplicada o elemento de índice 0, em seguida \n",
    "# ao elemento com índice 1 até  o elemento de índice n-ésimo, que é o último elemento da lista: \n",
    "a = [1,2,3,4]\n",
    "b = [10,12,14,16]\n",
    "c = [-4,-2,5,9]\n",
    "\n",
    "l1=list(map(lambda x,y:x+y, a,b))\n",
    "\n",
    "l2=list(map(lambda x,y,z:x+y+z, a,b,c))\n",
    "\n",
    "l3=list(map(lambda x,y,z : 2.5*x + 2*y - z, a,b,c))\n",
    "\n",
    "print(\" l1 = a+b = \", l1,\"\\n l2 = a+b+c = \",l2,\"\\n l3 = \",l3)"
   ]
  },
  {
   "cell_type": "markdown",
   "metadata": {},
   "source": [
    "Pode-se ver no exemplo acima que o parâmetro x obtém seus valores da lista a, enquanto y obtém seus valores de b e z da lista c."
   ]
  },
  {
   "cell_type": "markdown",
   "metadata": {},
   "source": [
    "## Mapeando uma lista de funções\n",
    "\n",
    "A função map() apresentada acima foi usada para aplicar uma função a um ou mais iteráveis. Vamos agora escrever uma função que aplica um monte de funções, que pode ser uma iterável, como uma lista ou uma tupla, por exemplo, para um objeto Python.\n",
    "\n",
    ">from math import sin, cos, tan, pi\n",
    ">\n",
    ">def map_funcoes(x, funcoes):\n",
    ">     \"\"\" mapeia um objeto iterável de funções sobre o objeto x \"\"\"\n",
    ">     res = []\n",
    ">     for funcao in funcoes:\n",
    ">         res.append(funcao(x))\n",
    ">     return res\n",
    ">\n",
    ">familia_de_funcoes = (sin, cos, tan)\n",
    ">print(map_funcoes(pi, familia_de_funcoes))\n"
   ]
  },
  {
   "cell_type": "code",
   "execution_count": null,
   "metadata": {},
   "outputs": [],
   "source": [
    "from math import sin, cos, tan, pi\n",
    "\n",
    "def map_funcoes(x, funcoes):\n",
    "     \"\"\" mapeia um objeto iterável de funções sobre o objeto x \"\"\"\n",
    "     res = []\n",
    "     for funcao in funcoes:\n",
    "         res.append(funcao(x))\n",
    "     return res\n",
    "\n",
    "familia_de_funcoes = (sin, cos, tan)\n",
    "print(map_funcoes(pi, familia_de_funcoes))"
   ]
  },
  {
   "cell_type": "markdown",
   "metadata": {},
   "source": [
    "O código acima returna a seguinte saída:\n",
    "\n",
    "> [1.2246467991473532e-16, -1.0, -1.2246467991473532e-16]\n",
    "\n",
    "\n",
    "A função map_funcoes definida previamente pode ser simplificada com a técnica de compreensão de listas, que será abordada na compreensão de lista posteriormente:\n",
    "\n",
    ">def map_funcoes(x, funcoes):\n",
    ">     return [ func(x) for func in funcoes ]"
   ]
  },
  {
   "cell_type": "markdown",
   "metadata": {},
   "source": [
    "## Filtrando\n",
    "\n",
    "A função \n",
    "\n",
    "filter(funcao, sequencia) \n",
    "\n",
    "Oferece uma maneira elegante de filtrar todos os elementos de uma sequência \"sequencia\", para que a função \"funcao\" retorne True. Isto é, um item será produzido pelo  iterador resultante de filter(funcao, sequencia) se o item for incluído na seqüência \"sequencia\" e se a funcao(item) retornar True.\n",
    "\n",
    "Em outras palavras: A função filter(f,l) precisa de uma função f como seu primeiro argumento. A função f tem que retornar um valor booleano, ou seja, True ou False. Esta função será aplicada a cada elemento da lista l. Somente se f retorna True o elemento será produzido pelo iterador, que é o valor de retorno de filter(f,l).\n",
    "\n",
    "No exemplo a seguir, filtramos primeiro os elementos ímpares e depois os pares da seqüência dos primeiros 11 números de Fibonacci:"
   ]
  },
  {
   "cell_type": "code",
   "execution_count": null,
   "metadata": {},
   "outputs": [],
   "source": [
    "fibonacci = [0,1,1,2,3,5,8,13,21,34,55]\n",
    "numeros_impares = list(filter(lambda x: x % 2, fibonacci))\n",
    "print(numeros_impares)"
   ]
  },
  {
   "cell_type": "code",
   "execution_count": null,
   "metadata": {},
   "outputs": [],
   "source": [
    "numeros_pares = list(filter(lambda x: x % 2 == 0, fibonacci))\n",
    "print(numeros_pares)"
   ]
  },
  {
   "cell_type": "markdown",
   "metadata": {},
   "source": [
    "Ou alternativamente:"
   ]
  },
  {
   "cell_type": "code",
   "execution_count": null,
   "metadata": {},
   "outputs": [],
   "source": [
    "numeros_pares = list(filter(lambda x: x % 2 -1, fibonacci))\n",
    "print(numeros_pares)"
   ]
  },
  {
   "cell_type": "code",
   "execution_count": null,
   "metadata": {},
   "outputs": [],
   "source": [
    "l=list(map(lambda x: x**2,range(-3,4)))\n",
    "print(l)"
   ]
  },
  {
   "cell_type": "code",
   "execution_count": null,
   "metadata": {},
   "outputs": [],
   "source": [
    "# Converte o iterador em uma lista\n",
    "list(map(lambda x: x**2, range(-3,4)))"
   ]
  },
  {
   "cell_type": "markdown",
   "metadata": {},
   "source": [
    "### Classes"
   ]
  },
  {
   "cell_type": "code",
   "execution_count": null,
   "metadata": {},
   "outputs": [],
   "source": [
    "class Ponto:\n",
    "    def __init__(self, x, y):\n",
    "        self.x = x\n",
    "        self.y = y\n",
    "        \n",
    "    def desloca(self, dx, dy):\n",
    "        self.x += dx\n",
    "        self.y += dy\n",
    "        \n",
    "    def __str__(self):\n",
    "        return(\"Ponto em [%f, %f]\" % (self.x, self.y))"
   ]
  },
  {
   "cell_type": "code",
   "execution_count": null,
   "metadata": {},
   "outputs": [],
   "source": [
    "p1 = Ponto(0, 0)\n",
    "print(p1)"
   ]
  },
  {
   "cell_type": "code",
   "execution_count": null,
   "metadata": {},
   "outputs": [],
   "source": [
    "p2 = Ponto(1, 1)\n",
    "\n",
    "p1.desloca(0.25, 1.5)\n",
    "\n",
    "print(p1)\n",
    "print(p2)"
   ]
  },
  {
   "cell_type": "markdown",
   "metadata": {},
   "source": [
    "### Tratamento de Exceções"
   ]
  },
  {
   "cell_type": "markdown",
   "metadata": {},
   "source": [
    "Uma exceção é algo que saía fora do planejado, por exemplo, você querer somar dois números, mas acabar inserindo uma letra e um número, irá gerar um erro, esse erro é a chamada exceção. Exceções muitas vezes são feias, visualmente falando, e acabam trazendo informações desnecessárias ao usuário final e algumas vezes causam até o vazamento de informações.\n",
    "\n",
    "O tratamento de exceções é basicamente filtrar esses erros \"feios\", que costumam apresentar informações mais técnicas, para ajudar o programador a encontrar o erro, e exibir somente uma mensagem mais amigável e talvez com apenas um código do erro."
   ]
  },
  {
   "cell_type": "code",
   "execution_count": null,
   "metadata": {},
   "outputs": [],
   "source": [
    "# Neste trecho do código há uma exceção, porque a variável \n",
    "# teste não foi definida, logo ele irá pegar uma exceção \n",
    "try:\n",
    "    print(teste)\n",
    "except:\n",
    "    print(\"Pegou uma exceção\")"
   ]
  },
  {
   "cell_type": "code",
   "execution_count": null,
   "metadata": {},
   "outputs": [],
   "source": [
    "try:\n",
    "    print(teste)\n",
    "except Exception as e:\n",
    "    print(\"Pegou uma exceção: \" + str(e))"
   ]
  },
  {
   "cell_type": "markdown",
   "metadata": {},
   "source": [
    "Considere por exemplo o seguinte código python que para somar 2 números:"
   ]
  },
  {
   "cell_type": "code",
   "execution_count": null,
   "metadata": {},
   "outputs": [],
   "source": [
    "n1=25\n",
    "n2='leao'\n",
    "n1+n2"
   ]
  },
  {
   "cell_type": "markdown",
   "metadata": {},
   "source": [
    "o comando acima retorna a seguite saída de erro:\n",
    "\n",
    "```\n",
    "---------------------------------------------------------------------------\n",
    "TypeError                                 Traceback (most recent call last)\n",
    "<ipython-input-129-78a665d54721> in <module>()\n",
    "      1 n1=25\n",
    "      2 n2='leao'\n",
    "----> 3 n1+n2\n",
    "TypeError: unsupported operand type(s) for +: 'int' and 'str'\n",
    "```\n",
    "\n",
    "Observer especificamente a expressão *TypeError*\n",
    "\n",
    "*TypeError: unsupported operand type(s) for +: 'int' and 'str'*\n",
    "\n",
    "Ela informa qual é a exceção, na linha onde ocorreu o erro e o tipo, isso é feio para o usuário e na maioria das vezes só vai confundi-lo, então vamos usar o chamado tratamento de exceções. Em Python, assim como em muitas linguagens, ele é feito na sua forma mais básica com a função \"*try*\" e \"*except*\".\n",
    "\n",
    "Sua sintaxe é semelhante a muitas linguagens de alto de nível:\n",
    "\n",
    "```python\n",
    "try:\n",
    "    comandos\n",
    "except:\n",
    "    comandos que deverão ser executados caso de algo errado\n",
    "```\n",
    "\n",
    "Voltando a código ali de cima, vamos filtrar esse erro:"
   ]
  },
  {
   "cell_type": "code",
   "execution_count": null,
   "metadata": {},
   "outputs": [],
   "source": [
    "n1=25\n",
    "n2='leao'\n",
    "try: \n",
    "   n1 + n2\n",
    "except:\n",
    "   print('erro ao tentar realizar a soma')"
   ]
  },
  {
   "cell_type": "markdown",
   "metadata": {},
   "source": [
    "E já filtramos o erro, porém isso é muito vago, por que ocorreu o erro? Para resolver isso, podemos criar exceções específicas para cada tipo de erro. O Python é bem gentil nessa parte e já te diz direto o tipo de erro. Voltando lá em cima no erro, qual o tipo de erro?\n",
    "\n",
    "```\n",
    " Traceback (most recent call last):\n",
    "\n",
    "     File \"<pyshell#5>\", line 1, in <module>\n",
    "\n",
    "       n1 + n2\n",
    "\n",
    "   TypeError: unsupported operand type(s) for +: 'int' and 'str'\n",
    "```\n",
    "\n",
    "TypeError! Então aí já sabemos o tipo do erro e podemos criar uma exceção específica pra erros desse tipo:"
   ]
  },
  {
   "cell_type": "code",
   "execution_count": null,
   "metadata": {},
   "outputs": [],
   "source": [
    "n1=25\n",
    "n2='leao'\n",
    "try: \n",
    "   n1 + n2\n",
    "except TypeError:\n",
    "    print('Erro ao tentar realizar a soma, tipos de dados diferentes')\n",
    "except:\n",
    "   print('Erro ao tentar realizar a soma. Tipo de erro não identificado')"
   ]
  },
  {
   "cell_type": "code",
   "execution_count": null,
   "metadata": {},
   "outputs": [],
   "source": [
    "n1=25\n",
    "n2='leao'\n",
    "try: \n",
    "   n1 + n3\n",
    "except TypeError:\n",
    "    print('Erro ao tentar realizar a soma, tipos de dados diferentes')\n",
    "except:\n",
    "   print('Erro ao tentar realizar a soma. Tipo de erro não identificado')"
   ]
  },
  {
   "cell_type": "code",
   "execution_count": null,
   "metadata": {},
   "outputs": [],
   "source": []
  }
 ],
 "metadata": {
  "kernelspec": {
   "display_name": "Python 3",
   "language": "python",
   "name": "python3"
  },
  "language_info": {
   "codemirror_mode": {
    "name": "ipython",
    "version": 3
   },
   "file_extension": ".py",
   "mimetype": "text/x-python",
   "name": "python",
   "nbconvert_exporter": "python",
   "pygments_lexer": "ipython3",
   "version": "3.5.2"
  }
 },
 "nbformat": 4,
 "nbformat_minor": 1
}
