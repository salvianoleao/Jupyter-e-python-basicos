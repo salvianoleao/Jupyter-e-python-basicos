{
 "cells": [
  {
   "cell_type": "markdown",
   "metadata": {},
   "source": [
    "# Uso do Fortran em um notebook!\n",
    "\n",
    "Cada célula é compilada e roda separadamente, ou seja, cada uma deve ser um único programa, não há com rodar partes separadas de um código fortran.\n",
    "\n",
    "O primeiro exemplo, roda bem"
   ]
  },
  {
   "cell_type": "code",
   "execution_count": 2,
   "metadata": {},
   "outputs": [
    {
     "name": "stdout",
     "output_type": "stream",
     "text": [
      " O Jupyter notebook é Fantástico\n"
     ]
    }
   ],
   "source": [
    "program primeiro\n",
    "    implicit none\n",
    "    print*, \"O Jupyter notebook é Fantástico\"\n",
    "end program"
   ]
  },
  {
   "cell_type": "markdown",
   "metadata": {},
   "source": [
    "Entretanto esse o segundo não muito:"
   ]
  },
  {
   "cell_type": "code",
   "execution_count": 3,
   "metadata": {},
   "outputs": [
    {
     "name": "stderr",
     "output_type": "stream",
     "text": [
      "/usr/lib/gcc/x86_64-linux-gnu/5/../../../x86_64-linux-gnu/crt1.o: na função `_start':\n",
      "(.text+0x20): referência indefinida para `main'\n",
      "collect2: error: ld returned 1 exit status\n",
      "[Fortran kernel] gfortran exited with code 1, the executable will not be executed"
     ]
    }
   ],
   "source": [
    "subroutine ola\n",
    "    print*, \"Ola, Será que faz alguma coisa?\"\n",
    "end subroutine"
   ]
  },
  {
   "cell_type": "markdown",
   "metadata": {},
   "source": [
    "É possível usar funções:"
   ]
  },
  {
   "cell_type": "code",
   "execution_count": 4,
   "metadata": {},
   "outputs": [
    {
     "name": "stdout",
     "output_type": "stream",
     "text": [
      "x   =   7\n",
      "x^2 =  49\n"
     ]
    }
   ],
   "source": [
    "program test\n",
    "    implicit none\n",
    "    integer :: x\n",
    "\n",
    "    x = 7\n",
    "    \n",
    "    write(*, '(a,i4)') \"x   =\", x\n",
    "    write(*, '(a,i4)') \"x^2 =\", quad(x)\n",
    "    \n",
    "contains\n",
    "\n",
    "    integer function quad(numero)\n",
    "        integer, intent(in) :: numero\n",
    "        quad = numero * numero\n",
    "    end function\n",
    "    \n",
    "end program test"
   ]
  },
  {
   "cell_type": "markdown",
   "metadata": {},
   "source": [
    "Pode-se usar os módulos! Entretanto eles devem estar na mesma célula do programa principal para que possam ser compilado juntos. Veja o exemplo\n"
   ]
  },
  {
   "cell_type": "code",
   "execution_count": 5,
   "metadata": {},
   "outputs": [
    {
     "name": "stdout",
     "output_type": "stream",
     "text": [
      "x   =   7\n",
      "x^2 =  49\n"
     ]
    }
   ],
   "source": [
    "module funcs\n",
    "\n",
    "    implicit none\n",
    "    \n",
    "contains\n",
    "\n",
    "    integer function quad(numero)\n",
    "        integer, intent(in) :: numero\n",
    "        quad = numero * numero\n",
    "    end function\n",
    "    \n",
    "end module funcs\n",
    "\n",
    "program test\n",
    "    \n",
    "    use funcs\n",
    "\n",
    "    implicit none\n",
    "    integer :: x\n",
    "    \n",
    "    x = 7\n",
    "    \n",
    "    write(*, '(a,i4)') \"x   =\", x\n",
    "    write(*, '(a,i4)') \"x^2 =\", quad(x)\n",
    "    \n",
    "end program test"
   ]
  },
  {
   "cell_type": "markdown",
   "metadata": {},
   "source": [
    "A seguir vamos rodar um programa Fortran 90/95/2003 que fz uso dos ponteiros"
   ]
  },
  {
   "cell_type": "code",
   "execution_count": 6,
   "metadata": {},
   "outputs": [
    {
     "name": "stdout",
     "output_type": "stream",
     "text": [
      " Os valores iniciais das variaveis sao:\n",
      "a =  3.00   x=  7.00   y= 11.00   p1=******   p2=******   p3=******\n",
      "\n",
      " Agora p2=>y e p3=>a assim temos que:\n",
      "a =  3.00   x=  7.00   y= 11.00   p1=******   p2= 11.00   p3=  3.00\n",
      "\n",
      " Agora a=y-b e p1=>p2 assim temos que:\n",
      "a =  6.00   x=  7.00   y= 11.00   p1= 11.00   p2= 11.00   p3=  6.00\n",
      "\n",
      " Agora p1=1 assim temos que:\n",
      "a =  6.00   x=  7.00   y=  1.00   p1=  1.00   p2=  1.00   p3=  6.00\n",
      "\n",
      " Agora y=a*b e p3=y/3.0 assim temos que:\n",
      "a = 10.00   x=  7.00   y= 30.00   p1= 30.00   p2= 30.00   p3= 10.00\n",
      "\n",
      " Agora NULLIFY(p2)  assim temos que:\n",
      " a =    10.0000000     x=   7.00000000      y=   30.0000000      p1=   30.0000000      p3=   10.0000000    \n",
      "\n",
      " Agora y=a/b e p3=y/3.0 assim temos que:\n",
      " a =    10.0000000     x=   7.00000000      y=   2.00000000      p1=   2.00000000      p3=   10.0000000    \n",
      "\n",
      " Agora p1=>p2  Nesse caso e equivalente a nullify(p1)\n",
      " a =    10.0000000     x=   7.00000000      y=   2.00000000      p3=   10.0000000    \n",
      "\n"
     ]
    }
   ],
   "source": [
    "PROGRAM teste_point\n",
    "  IMPLICIT NONE\n",
    "  REAL, TARGET  :: x, y, a=3.0, b=5.0\n",
    "  REAL, POINTER :: p1, p2, p3\n",
    "  CHARACTER(len=40) :: fmt0\n",
    " 10 FORMAT(3(a3,f6.2,2x),3(a4,f6.2,2x))\n",
    "  fmt0='(3(a3,f6.2,2x),3(a4,f6.2,2x))'\n",
    "\n",
    "  ALLOCATE ( p1, p2, p3 )\n",
    "\n",
    "  x = 7.0;          y = 11.0\n",
    "\n",
    "  PRINT*, \"Os valores iniciais das variaveis sao:\"\n",
    "  PRINT fmt0, 'a = ', a, 'x=',x,' y=',y, ' p1=',p1,' p2=',p2, ' p3=',p3\n",
    "  PRINT *\n",
    "\n",
    "  p2 => y; p3=> a\n",
    "  PRINT *, \"Agora p2=>y e p3=>a assim temos que:\"\n",
    "  PRINT 10, 'a = ', a, 'x=',x,' y=',y, ' p1=',p1,' p2=',p2, ' p3=',p3\n",
    "  PRINT*\n",
    "\n",
    "  p1 => p2;  a= y - b\n",
    "  PRINT *, \"Agora a=y-b e p1=>p2 assim temos que:\"\n",
    "  PRINT fmt0, 'a = ', a, 'x=',x,' y=',y, ' p1=',p1,' p2=',p2, ' p3=',p3\n",
    "  PRINT*\n",
    "\n",
    "  p1 = 1\n",
    "  PRINT *, \"Agora p1=1 assim temos que:\"\n",
    "  PRINT fmt0, 'a = ', a, 'x=',x,' y=',y, ' p1=',p1,' p2=',p2, ' p3=',p3\n",
    "  PRINT*\n",
    "\n",
    "  y = a*b; p3=y/3.0\n",
    "  PRINT *, \"Agora y=a*b e p3=y/3.0 assim temos que:\"\n",
    "  PRINT fmt0, 'a = ', a, 'x=',x,' y=',y, ' p1=',p1,' p2=',p2, ' p3=',p3\n",
    "  PRINT*\n",
    "\n",
    "  NULLIFY(p2)\n",
    "\n",
    "  PRINT *, \"Agora NULLIFY(p2)  assim temos que:\"\n",
    "  PRINT *, 'a = ', a, 'x=',x,' y=',y,' p1=',p1, ' p3=',p3\n",
    "  PRINT*\n",
    "\n",
    "  y = a/b; \n",
    "  PRINT *, \"Agora y=a/b e p3=y/3.0 assim temos que:\"\n",
    "  PRINT *, 'a = ', a, 'x=',x,' y=',y,' p1=',p1, ' p3=',p3\n",
    "  PRINT*\n",
    "\n",
    "  p1=> p2\n",
    "  PRINT *, \"Agora p1=>p2  Nesse caso e equivalente a nullify(p1)\"\n",
    "  if ( associated(p1) ) then\n",
    "     PRINT *, 'a = ', a, 'x=',x,' y=',y,' p1=',p1, ' p3=',p3\n",
    "  else\n",
    "     PRINT *, 'a = ', a, 'x=',x,' y=',y,' p3=',p3\n",
    "  endif\n",
    "  PRINT*\n",
    "\n",
    "\n",
    "  STOP\n",
    "END PROGRAM teste_point\n"
   ]
  },
  {
   "cell_type": "code",
   "execution_count": null,
   "metadata": {},
   "outputs": [],
   "source": []
  }
 ],
 "metadata": {
  "kernelspec": {
   "display_name": "Fortran",
   "language": "Fortran",
   "name": "fortran_spec"
  },
  "language_info": {
   "file_extension": "f90",
   "mimetype": "text/plain",
   "name": "fortran"
  }
 },
 "nbformat": 4,
 "nbformat_minor": 1
}
