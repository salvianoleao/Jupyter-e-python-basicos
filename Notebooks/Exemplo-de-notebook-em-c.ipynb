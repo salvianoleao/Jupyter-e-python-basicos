{
 "cells": [
  {
   "cell_type": "markdown",
   "metadata": {},
   "source": [
    "# Código Válido"
   ]
  },
  {
   "cell_type": "code",
   "execution_count": 1,
   "metadata": {},
   "outputs": [
    {
     "name": "stdout",
     "output_type": "stream",
     "text": [
      "Hello world\n"
     ]
    }
   ],
   "source": [
    "#include <stdio.h>\n",
    "\n",
    "int main() {\n",
    "    printf(\"Hello world\\n\");\n",
    "}"
   ]
  },
  {
   "cell_type": "markdown",
   "metadata": {},
   "source": [
    "Mas o kernel tmabém irá mostrar os avisos e erros do compilador se houver algum. Por exemplo, vamos tentar remober a instrução `#include <stdio.h>`, a qual é necessária para que a instrução `printf` funcione."
   ]
  },
  {
   "cell_type": "markdown",
   "metadata": {},
   "source": [
    "# Código gerando avisos durante a compilação"
   ]
  },
  {
   "cell_type": "code",
   "execution_count": 2,
   "metadata": {},
   "outputs": [
    {
     "name": "stderr",
     "output_type": "stream",
     "text": [
      "/tmp/tmp286dmmtc.c: In function ‘main’:\n",
      "/tmp/tmp286dmmtc.c:2:5: warning: implicit declaration of function ‘printf’ [-Wimplicit-function-declaration]\n",
      "     printf(\"Hello world\\n\");\n",
      "     ^\n",
      "/tmp/tmp286dmmtc.c:2:5: warning: incompatible implicit declaration of built-in function ‘printf’\n",
      "/tmp/tmp286dmmtc.c:2:5: note: include ‘<stdio.h>’ or provide a declaration of ‘printf’\n"
     ]
    },
    {
     "name": "stdout",
     "output_type": "stream",
     "text": [
      "Hello world\n"
     ]
    }
   ],
   "source": [
    "int main() {\n",
    "    printf(\"Hello world\\n\");\n",
    "}"
   ]
  },
  {
   "cell_type": "markdown",
   "metadata": {},
   "source": [
    "Pode-se ver que as mensagens e avisos são mostradas, mas o código ainda assim é executado."
   ]
  },
  {
   "cell_type": "markdown",
   "metadata": {},
   "source": [
    "# Código gerando erros durante a compilação"
   ]
  },
  {
   "cell_type": "code",
   "execution_count": 3,
   "metadata": {},
   "outputs": [
    {
     "name": "stderr",
     "output_type": "stream",
     "text": [
      "/tmp/tmp1_nb5n_2.c: In function ‘main’:\n",
      "/tmp/tmp1_nb5n_2.c:2:5: warning: implicit declaration of function ‘printf’ [-Wimplicit-function-declaration]\n",
      "     printf(\"Hello world\")\n",
      "     ^\n",
      "/tmp/tmp1_nb5n_2.c:2:5: warning: incompatible implicit declaration of built-in function ‘printf’\n",
      "/tmp/tmp1_nb5n_2.c:2:5: note: include ‘<stdio.h>’ or provide a declaration of ‘printf’\n",
      "/tmp/tmp1_nb5n_2.c:3:1: error: expected ‘;’ before ‘}’ token\n",
      " }\n",
      " ^\n",
      "[C kernel] GCC exited with code 1, the executable will not be executed"
     ]
    }
   ],
   "source": [
    "int main() {\n",
    "    printf(\"Hello world\")\n",
    "}"
   ]
  },
  {
   "cell_type": "markdown",
   "metadata": {},
   "source": [
    "Pode-se ver que os erros e avisos são mostrados, mas nesse caso o código não é executado. O código de retorno também é adicionado a saída padrão  `stderr`.\n"
   ]
  },
  {
   "cell_type": "markdown",
   "metadata": {},
   "source": [
    "# Exemplos funcionais"
   ]
  },
  {
   "cell_type": "code",
   "execution_count": 4,
   "metadata": {},
   "outputs": [
    {
     "name": "stdout",
     "output_type": "stream",
     "text": [
      "a soma de 10+25 = 35 \n"
     ]
    }
   ],
   "source": [
    "#include <stdio.h>\n",
    "\n",
    "int main(){\n",
    "   int x=10;\n",
    "   int y=25;\n",
    "   int z=x+y;\n",
    "   printf(\"a soma de %d+%d = %d \\n\", x, y, z);\n",
    "}"
   ]
  },
  {
   "cell_type": "markdown",
   "metadata": {},
   "source": [
    "# Compilação com flags personalizadas\n",
    "\n",
    "Considere por exemplo o caso em que se usa a biblioteca matemática `math.h` nesse caso oum código em c usando o gcc é compilado da seguinte forma:\n",
    "```bash\n",
    "gcc codigo-fonte.c -o exe -lm\n",
    "```\n",
    "no qual `-lm` significa use a biblioteca `math.h`.\n",
    "\n",
    "Aqui podemos passar essa opção de compilação da seguinte forma:"
   ]
  },
  {
   "cell_type": "code",
   "execution_count": 5,
   "metadata": {},
   "outputs": [
    {
     "name": "stdout",
     "output_type": "stream",
     "text": [
      "A raiz quadrada de sqrt(10+25)= 5.916080 \n"
     ]
    }
   ],
   "source": [
    "//%cflags:-lm\n",
    "\n",
    "#include <stdio.h>\n",
    "#include <math.h>\n",
    "\n",
    "int main(){\n",
    "   int x=10;\n",
    "   int y=25;\n",
    "   int z=x+y;\n",
    "   printf(\"A raiz quadrada de sqrt(%d+%d)= %f \\n\", x, y, sqrt(z));\n",
    "}"
   ]
  },
  {
   "cell_type": "code",
   "execution_count": 6,
   "metadata": {},
   "outputs": [
    {
     "name": "stdout",
     "output_type": "stream",
     "text": [
      "sen( 0.00) = 0.000000 \n",
      "sen(10.00) = 0.173648 \n",
      "sen(20.00) = 0.500000 \n",
      "sen(30.00) = 0.866025 \n",
      "sen(40.00) = 0.984808 \n",
      "sen(50.00) = 0.500000 \n",
      "sen(60.00) = -0.499999 \n",
      "sen(70.00) = -0.984808 \n",
      "sen(80.00) = -0.000001 \n",
      "sen(90.00) = 1.000000 \n",
      "\n"
     ]
    }
   ],
   "source": [
    "//%cflags:-lm\n",
    "// Segundo exemplo: lista valor do seno\n",
    "//\n",
    "#include <stdio.h>\n",
    "#include <stdlib.h>\n",
    "#include <math.h>    // necessário para sin()\n",
    "\n",
    "int main(void)\n",
    "{\n",
    "  float pi, dt, Ang, y;\n",
    "  int i;\n",
    "  pi = 3.141592;\n",
    "  dt = 10.0;\n",
    "  Ang = (pi)/(180);\n",
    "  y = 0.0;\n",
    "  for (i=1; i<=10; i++){\n",
    "      y = y +(i-1)*dt*Ang;\n",
    "      printf(\"sen(%5.2f) = %f \\n\",(i-1)*dt,sin(y));\n",
    "  }\n",
    "  printf(\"\\n\");\n",
    "  return 0;\n",
    "}"
   ]
  },
  {
   "cell_type": "code",
   "execution_count": 7,
   "metadata": {},
   "outputs": [
    {
     "name": "stdout",
     "output_type": "stream",
     "text": [
      "Valor da conta = 515.15\n"
     ]
    }
   ],
   "source": [
    "//%cflags:-lm\n",
    "// Terceiro exemplo\n",
    "#include <stdio.h>\n",
    "#include <stdlib.h>\n",
    "\n",
    "int main(void)\n",
    "{\n",
    "  float d,p,s,t;\n",
    "\n",
    "  d = 500;   // depósito inicial\n",
    "  // após o primeiro mês\n",
    "  p = d + 0.01*d;\n",
    "  // após o segundo mês\n",
    "  s = p + 0.01*p;\n",
    "  // após o terceiro mês\n",
    "  t = s + 0.01*s;\n",
    "  printf(\"Valor da conta = %.2f\\n\",t);    \n",
    "  return 0;\n",
    "}"
   ]
  },
  {
   "cell_type": "code",
   "execution_count": null,
   "metadata": {},
   "outputs": [],
   "source": []
  }
 ],
 "metadata": {
  "kernelspec": {
   "display_name": "C",
   "language": "c",
   "name": "bash"
  },
  "language_info": {
   "file_extension": ".c",
   "mimetype": "text/plain",
   "name": "c"
  }
 },
 "nbformat": 4,
 "nbformat_minor": 1
}
