{
 "cells": [
  {
   "cell_type": "markdown",
   "metadata": {},
   "source": [
    "# Cálculo da taxa de juros"
   ]
  },
  {
   "cell_type": "markdown",
   "metadata": {},
   "source": [
    "Taxa de Juros Real Embutidas Nas Compras a Prazo\n",
    "\n",
    "As varáveis do problema são:\n",
    "\n",
    "- Preço a vista da mercadoria: $V_{m}=1200$\n",
    "\n",
    "- Valor da entrada: $V_{e}=120$\n",
    "\n",
    "- Valor da dívida: $V_{d}=V_{m}-V_{e}$\n",
    "\n",
    "- Número de parcelas da compra: $n=20$\n",
    "\n",
    "- Valor de cada parcela: $P=120$\n",
    "\n",
    "- O valor total a ser pago: $V_{T}=V_{e}+n\\cdot P$\n",
    "\n",
    "A questão é: Qual a taxa de juros que está sendo aplicada?\n",
    "\n",
    "- A dívida no fim do primeiro mês é:\n",
    "$$\n",
    "D_{1}=V_{d}(1+i)-P\n",
    "$$\n",
    "\n",
    "- A dívida no fim do segundo mês é:\n",
    "$$\n",
    "D_{2}=D_{1}(1+i)-P=V_{d}(1+i)^{2}-P-P(1+i)\n",
    "$$\n",
    "\n",
    "- A dívida no fim do terceiro mês é:\n",
    "$$\n",
    "D_{3}=D_{2}(1+i)-P=V_{d}(1+i)^{3}-P-P(1+i)-P(1+i)^2\n",
    "$$\n",
    "\n",
    "-  A dívida no fim do n-ésimo mês é:\n",
    "$$\n",
    "D_{n}=V_{d}(1+i)^{n}-P\\sum_{l=0}^{n-1}(1+i)^{l}=0\n",
    "$$\n",
    "\n",
    "A expressão da dívida do n-ésimo mês pode ser simplificada usando:\n",
    "\n",
    "$$\n",
    "\\sum_{l=0}^{m-1}x^{l}= \\frac{x^{m}}{x-1}-\\frac{1}{x-1}=\\frac{x^{m}-1}{x-1}\n",
    "$$\n",
    "\n",
    "É fácil ver que:\n",
    "$$\n",
    "\\begin{align*}\n",
    "S & = 1 + x + x^2 + \\cdots + x^{n-1} \\\\\n",
    "x \\cdot S  & = x + x^2 + x^3 + \\cdots + x^{n}\n",
    "\\end{align*}\n",
    "$$\n",
    "\n",
    "Subtraindo uma expressão da outra obtemos\n",
    "$$\n",
    "x \\cdot S - S = x^n - 1 \\qquad \\longrightarrow \\qquad S = \\frac{x^n -1 }{x -1}\n",
    "$$\n",
    "\n",
    "\n",
    "Logo a expressão para a dívida, pode ser reescrita como:\n",
    "$$\n",
    "V_{d}(1+i)^{n}-P\\left[ \\frac{(1+i)^{n}-1}{1+i-1}\\right] =0\n",
    "$$\n",
    "\n",
    "$$\n",
    "V_{d}i(1+i)^{n}-P(1+i)^{n}+P=0\n",
    "$$\n",
    "\n",
    "Essa expressão ainda pode ser reescrita em uma forma mais compacta:\n",
    "\n",
    "$$\n",
    "(V_{d}i-P)\\cdot(1+i)^{n}+P=0\n",
    "$$\n",
    "\n",
    "## Obtendo o valor da parcela fixa\n",
    "\n",
    "Isolando a parcela fixa na expressão anterior obtém-se que:\n",
    "\n",
    "$$\n",
    "P = \\frac{i(1+i)^{n}}{(1+i)^{n} -1} \\cdot V_{d}\n",
    "$$\n",
    "\n",
    "## Obtendo o valor da taxa de juros\n",
    "\n",
    "\n",
    "Nesse caso devemos encontrar as raízes do polinômio de ordem $n$ na taxa $x$:\n",
    "\n",
    "$$\n",
    "V_{d}i(1+i)^{n}-P(1+i)^{n}+P=0\n",
    "$$\n",
    "\n",
    "## Exemplo\n",
    "\n",
    "Para os valores exemplificados a solução é:\n",
    "$$\n",
    "\\left\\{ x=0\\right\\} ,\\left\\{ i=-1.\\, 865\\,9\\right\\} ,\\left\\{ i=9.\\, 199\\,9\\times 10^{-2}\\right\\}\n",
    "$$\n",
    "\n",
    "Para encontrarmos o valor da taxa de juros $i=x$, deve-se resolver\n",
    "a equação transcendental acima. Sua solução é obtida usando a \n",
    "função `fsolve ??` da biblioteca `scipy` do Python\n",
    "\n",
    "$$\n",
    "1080\\cdot (1+x)^{20} - 120 \\cdot \\sum_{l=0}^{20-1} (1+x)^{l}=0\n",
    "$$\n",
    "\n",
    "Para os valores exemplificados a solução é:\n",
    "$$\n",
    "\\left\\{ x=-1.\\, 865\\,9\\right\\} ,\\left\\{\n",
    "x=9.\\, 199\\,9\\times 10^{-2}\\right\\}  \n",
    "$$"
   ]
  },
  {
   "cell_type": "code",
   "execution_count": 1,
   "metadata": {},
   "outputs": [],
   "source": [
    "%matplotlib inline"
   ]
  },
  {
   "cell_type": "markdown",
   "metadata": {},
   "source": [
    "## Encontrando Raízes \n",
    "\n",
    "\n",
    "Se você tentar encontrar um $x$ tal que\n",
    "$$f(x)=0$$\n",
    "Então isso é chamado de *encontrando raízes (root finding)*. Note que problemas como $g(x)=h(x)$ caem nesta categoria pois você pode reescrevê-los como $f(x)=g(x)-h(x)=0$.\n",
    "\n",
    "Uma série de ferramentas de localização de raízes estão disponíveis no módulo `optimize` do `scipy`. \n",
    "\n",
    "### Encontrando Raízes Usando a função `fsolve`\n",
    "\n",
    "Um algoritmo (muitas vezes) melhor (no sentido de \"mais eficiente\") do que o algoritmo de bissecção é implementado na função de propósito geral `fsolve()` para a localização de raízes de funções (multidimensionais). Esse algoritmo precisa apenas de um ponto de partida próximo à localização suspeita da raiz (mas não é garantido que ele irá convergir).\n",
    "\n",
    "Aqui está um exemplo:"
   ]
  },
  {
   "cell_type": "code",
   "execution_count": 1,
   "metadata": {},
   "outputs": [
    {
     "data": {
      "text/plain": [
       "[<matplotlib.lines.Line2D at 0x7f357adcf2e8>]"
      ]
     },
     "execution_count": 1,
     "metadata": {},
     "output_type": "execute_result"
    }
   ],
   "source": [
    "from scipy.optimize import fsolve\n",
    "from numpy import arange\n",
    "import pylab as plt\n",
    "\n",
    "# Dados de entrada do problema\n",
    "V  = 1200.0  # Preço a vista da mercadoria\n",
    "Ve = 120.0   # Valor da entrada\n",
    "Vd = V - Ve  # Valor da dívida\n",
    "n  = 20      # Número de parcelas da compra\n",
    "P  = 120     # Valor de cada parcela\n",
    "Vt = Ve+n*P  # Valor total a ser pago\n",
    "\n",
    "\n",
    "def f(x):\n",
    "    return Vd*x*(1.0+x)**n-P*(1.0+x)**n + P\n",
    "\n",
    "\n",
    "def Par(x):\n",
    "    return Vd*((x*(1.0+x)**n)/((1.0+x)**n - 1.0))\n",
    "\n",
    "x0=0.0\n",
    "xf=0.10\n",
    "dx=0.001\n",
    "\n",
    "i = arange(x0,xf,dx)\n",
    "\n",
    "largura = 10  # Largura da figura\n",
    "altura  =  6  # Altura da figura\n",
    "fig = plt.figure(figsize =(largura, altura))     # Define o tamanho do gráfico\n",
    "plt.xlabel('Taxa de juros')\n",
    "plt.ylabel('Valor da dívida no n-ésimo mês')\n",
    "plt.grid()\n",
    "plt.plot(i, f(i), 'b-', lw=2)"
   ]
  },
  {
   "cell_type": "code",
   "execution_count": 2,
   "metadata": {},
   "outputs": [
    {
     "name": "stdout",
     "output_type": "stream",
     "text": [
      "A taxa de juros é aproximadamente i =   9.1999\n",
      "Para esse caso a parcela fixa é de P = 120.000000 \n"
     ]
    }
   ],
   "source": [
    "i = fsolve(f, 0.15)\n",
    "\n",
    "print(\"A taxa de juros é aproximadamente i = %8.4f\" % (100*i))\n",
    "print(\"Para esse caso a parcela fixa é de P = %f \" % Par(i))"
   ]
  },
  {
   "cell_type": "markdown",
   "metadata": {},
   "source": [
    "# Exemplo 2:\n",
    "\n",
    "Agora considere o caso em que o comerciante deseja uma taxa de juros mensal de 6%, então qual deve ser o valor de cada uma das 20 parcelas a serem pagas:"
   ]
  },
  {
   "cell_type": "code",
   "execution_count": 11,
   "metadata": {},
   "outputs": [
    {
     "data": {
      "text/plain": [
       "94.15932153499952"
      ]
     },
     "execution_count": 11,
     "metadata": {},
     "output_type": "execute_result"
    }
   ],
   "source": [
    "Par(0.06)"
   ]
  }
 ],
 "metadata": {
  "kernelspec": {
   "display_name": "Python 3",
   "language": "python",
   "name": "python3"
  },
  "language_info": {
   "codemirror_mode": {
    "name": "ipython",
    "version": 3
   },
   "file_extension": ".py",
   "mimetype": "text/x-python",
   "name": "python",
   "nbconvert_exporter": "python",
   "pygments_lexer": "ipython3",
   "version": "3.5.2"
  }
 },
 "nbformat": 4,
 "nbformat_minor": 2
}
