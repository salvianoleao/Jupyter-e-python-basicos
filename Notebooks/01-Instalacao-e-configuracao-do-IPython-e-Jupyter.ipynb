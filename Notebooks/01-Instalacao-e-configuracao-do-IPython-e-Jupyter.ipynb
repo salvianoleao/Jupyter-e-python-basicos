{
 "cells": [
  {
   "cell_type": "markdown",
   "metadata": {},
   "source": [
    "![Logo do Instuto de Física da UFG](Cab_IF_Red.png)\n",
    "\n",
    "#  Python e o Jupyter/IPython Notebook\n",
    "\n",
    "Autor: Prof. Salviano A. Leão\n",
    "\n",
    "\n",
    "\n",
    "## Contéudo\n",
    "\n",
    "- [Porque Python](#Porque-Python)\n",
    "  - [Documentação](#Documentação)\n",
    "  - [O projeto Jupyter/IPython](#O-projeto-Jupyter/IPython)\n",
    "- [O que você precisa instalar](#O-que-você-precisa-instalar)\n",
    "- [Instalando o Jupyter Notebook](#Instalando-o-Jupyter-Notebook)\n",
    "- [Pré-requisito: Python](#Prerequisito)\n",
    "- [Instalando o Jupyter Notebook usando o Anaconda e conda](#Anaconda)\n",
    "- [Usuários Linux: Instalar o Jupyter com o pip](#pip)\n",
    "- [Verificando Minha Instalação](#Verificando-Minha-Instalação)\n",
    "- [IPython](#IPython)\n",
    "  * [A saída é assíncrona](#A-saída-é-assíncrona)\n",
    "  * [Introspecção](#Introspecção)\n",
    "  * [Completar com Tab](#Completar-com-Tab)\n",
    "  * [Comandos do sistema](#Comandos-do-sistema)\n",
    "  * [Console  Qt](#Console -Qt)\n",
    "- [Jupyter Notebook](#Jupyter-Notebook)\n",
    "  * [Código Remoto](#Código-Remoto)\n",
    "  * [Suporte ao Mathjax](#Suporte-ao-Mathjax)\n",
    "  * [Suporte SymPy](#Suporte-SymPy)\n",
    "  * [Funções mágicas](#Funções-mágicas)\n",
    "  * [LaTeX](#LaTeX)\n",
    "  * [A biblioteca matplotlib2tikz](#A-biblioteca-matplotlib2tikz)\n",
    "  * [Javascript](#Javascript)\n",
    "- [Instalando o kernel do Fortran](#Kernel-Fortran)\n",
    "- [Instalando o kernel do C](#Instalando-o-kernel-do-C)\n",
    "- [Instalando os kernels do Gnuplot e do Scilab](#Instalando-os-kernels-do-Gnuplot-e-do-Scilab)\n",
    "- [Instalando o kernel do C ++ para o notebook Jupyter: Cling](#Kernel-Cpp)\n",
    "- [Exportando e Convertendo Notebooks](#Exportando-e-Convertendo-Notebooks)\n",
    "- [Pesquisa Reproduzível](#Pesquisa Reproduzível)\n",
    "- [IPython paralelo](#IPython paralelo)\n",
    "- [Células Markdown](#Células-Markdown)\n",
    "- [Links e Referências](#Links-e-Referências)\n",
    "\n",
    "\n",
    "## Porque Python\n",
    "\n",
    "Python é a linguagem de programação de escolha para muitos cientistas em grande medida porque oferece um grande  poder para analisar e modelar dados científicos com relativamente pouca sobrecarga em termos de aprendizagem, instalação ou tempo de desenvolvimento. É uma linguagem que você pode aprender o básico em um fim de semana, e usa-lá pelo resto de sua vida.\n",
    "\n",
    "### Documentação \n",
    "\n",
    "O Python é uma linguagem muito bem documentada e há muitas opções em português: \n",
    "\n",
    "- [Python](https://www.python.org/) página oficial. Aqui ele disponibiliza um shell iterativo no qual voê pode rodar seu códgio sem precisar instalar ele em sua máquina.\n",
    "- [Python Brasil](http://wiki.python.org.br/PythonBrasil)\n",
    "- [O livro \"Python para desenvolvedores\"](https://ark4n.wordpress.com/)\n",
    "- [Como Pensar Como um Cientista da Computação](https://panda.ime.usp.br/pensepy/static/pensepy/index.html)\n",
    "- O livro \"Think Python How to Think Like a Computer Scientist\", pode ser baixado aqui [versão em PDF](http://www.greenteapress.com/thinkpython/thinkpython.pdf )\n",
    "- O livro [A byte of Python](https://www.gitbook.com/book/swaroopch/byte-of-python/details) foi traduzido pelo [Rodrigo Amaral](https://ramaral.wordpress.com/2012/08/05/e-book-do-livro-a-byte-of-python-em-portugues/).\n",
    "- O [Python Tutorial](http://docs.python.org/3/tutorial/) é um ótimo lugar para começar a ter uma idéia da linguagem.\n",
    "- [Aprendendo a Programar](http://www.alan-g.me.uk/tutor/port/). Note entretanto que ela usa a versão 2.7 do Python\n",
    "- [The Runestone Interactive tools](http://runestoneinteractive.org/library.html)\n",
    "\n",
    "\n",
    "## O projeto Jupyter/IPython\n",
    "\n",
    "Com o [Projeto IPython](http://ipython.org) montou-se uma interface de notebook que acho incrivelmente valiosa, por permite em um único local escrever um documento, analisar a os dados, fazer os gráfios, etc. Entretanto o projeto inical cresceu muito e ele então foi dividido em duas partes o [Projeto IPython](http://ipython.org) o qual ficou basicamente com o kernel do Python e o [Jupyter](https://jupyter.org/), o qual inclui o kernel das outras quase 40 linguagens de programação conforme [Jupyter kernels](https://github.com/jupyter/jupyter/wiki/Jupyter-kernels).\n",
    "\n",
    "\n",
    "De acordo com o [site do projeto](http://ipython.org/), o IPython/Jupyter é uma aplicação de código aberto (BSD license) que permite criar e compartilhar documentos que contenham um código iterativo, equações e formulas matemáticas renderizadas pelo LaTeX, visualizações de imagens (via scikit) e gráficos (matplotlib) e textos explicativos. Atualmente o Jupyter notebook é um dos principais ambientes para a análise de dados, onde você pode usar não apenas Python, mas várias outras linguagens como você pode ver aqui.\n",
    "\n",
    "O [IPython](http://ipython.org) fornece uma arquitetura rica para uma computação iterativa com:\n",
    "- Um poderoso shell iterativo.\n",
    "- Um kernel para o [Jupyter](https://jupyter.org/).\n",
    "- Um suporte para visualização de dados iterativa e o use de [GUI toolkits](http://ipython.org/ipython-doc/stable/interactive/reference.html#gui-event-loop-support).\n",
    "- etc.\n",
    "\n",
    "O [IPython](http://ipython.org) é um projeto crescente, com componentes cada vez mais agnósticas de linguagem. O IPython 3.x foi o último lançamento monolítico do IPython, contendo o servidor notebook, qtconsole, etc. A partir do IPython 4.0, as partes agnósticas linguísticas do projeto: o formato do notebook, o protocolo da mensagem, o qtconsole, a aplicação web do notebook, etc. mudaram-se para novos projetos sob o nome de [Jupyter](https://jupyter.org/). O IPython ficou focado somente no Python interativo, parte do qual está fornecendo um kernel Python para o Jupyter.\n",
    "\n",
    "\n",
    "Atualmente no [GitHub](https://github.com/) em uma pesquisa rápida pode-se encontrar centenas de notebooks, pois há uma comunidade de usuários muito grade dipostos a compartilhar seu trabalho. Um grande número de pessoas têm disponibilizado muitos Jupyter/IPython Notebooks os quais serviram de apoio na montagem deste. Usei um grande número de material para a construção deste, particularmente destaco os seguintes:\n",
    "\n",
    "* Hans Fangohr [Python for Computational Science and Engineering](http://www.southampton.ac.uk/~fangohr/index.html) Uma execelente página e contém diversos elementos de programção em python e algumas dicas de bibliotecas para cáculo e visualização.\n",
    "* Rob Johansson's [excellent notebooks](http://jrjohansson.github.io/), incluindo [Scientific Computing with Python](https://github.com/jrjohansson/scientific-python-lectures) e [Computational Quantum Physics with QuTiP](https://github.com/jrjohansson/qutip-lectures) lectures;\n",
    "* [XKCD style graphs in matplotlib](http://nbviewer.ipython.org/url/jakevdp.github.com/downloads/notebooks/XKCD_plots.ipynb);\n",
    "* [A collection of Notebooks for using IPython effectively](https://github.com/ipython/ipython/tree/master/examples/notebooks#a-collection-of-notebooks-for-using-ipython-effectively)\n",
    "* [A gallery of interesting IPython Notebooks](https://github.com/ipython/ipython/wiki/A-gallery-of-interesting-IPython-Notebooks)\n",
    "\n",
    "\n",
    "## O que você precisa instalar\n",
    "\n",
    "Existem atualmente duas versões do Python que estão convivendo entre-si: a sintaxe mais antiga Python 2 e a sintaxe mais recente Python 3. Essa esquizofrenia é em grande parte intencional: quando ficou claro que algumas mudanças não compatíveis com a linguagem eram necessárias, a Python dev-team decidiu passar por uma transição de cinco anos (ou assim), durante o qual os novos recursos de linguagem seria introduzida e a versão 2 da linguagem ainda seria ativamente mantida, para fazer essa transição tão fácil quanto possível. \n",
    "\n",
    "Com isso em mente, essas notas assumem que você tem uma distribuição Python que inclui:\n",
    "\n",
    "* [Python](http://www.python.org) versão $\\ge$ 3.5;\n",
    "* [Numpy](http://www.numpy.org), o núcleo de extensões numéricas para álgebra linear e arrays multidimensionais;\n",
    "* [Scipy](http://www.scipy.org), bibliotecas adicionais para programação científica;\n",
    "* [Matplotlib](http://matplotlib.sf.net), excelente traçado e bibliotecas de gráficos;\n",
    "* [Pandas](http://pandas.pydata.org/), é uma biblioteca de código aberto (BSD-licensed), fácil de usar na análise  e estruturas de dados, para a lingugem python.\n",
    "  - [StatsModels](http://www.statsmodels.org/stable/index.html) é um módulo Python que fornece classes e funções para estimativas de muitos modelos estatísticos diferentes, assim como testes estatíscticos e exploração estatística de dados.\n",
    "  - [scikit-learn](http://scikit-learn.org/stable/) é uma ferramente simples e eficiente para mineração e análise de dados em Python. \n",
    "* [Jupyter/IPython](http://ipython.org), com as bibliotecas adicionais necessárias para a interface do notebook. O projeto do IPythone evolui e agor é chamado de [Jupyter](http://jupyter.org)\n",
    "\n",
    "\n",
    "\n",
    "# Instalando o Jupyter Notebook\n",
    "\n",
    "A seguir será explicado como instalar o Jupyter Notebook e o kernel do IPython em uma máquina Linux baseada no [Debian](http://www.debian.org/), como [Debian](http://www.debian.org/), [Ubuntu](https://www.ubuntu.com/), [LinuxMint](https://linuxmint.com/), etc.\n",
    "\n",
    "\n",
    "## Pré-requisito: Python <a name=\"Prerequisito\"></a>\n",
    "\n",
    "O IPython/Jupyter executa códigos de muitas linguagens de programação, entretanto, o Python é um requisito necessário (Python 3.5 ou superior, ou Python 2.7) para instalar o Jupyter Notebook. Nas distribuições GNU/Linux baseadas no Debian, assim como o Ubuntu e familia, o Linux Mint, etc, a instalação dos seguintes pacotes é essencial para o desenvolvimento do curso:\n",
    "\n",
    "```bash\n",
    "sudo apt-get update\n",
    "sudo apt-get install -y python3 python3-all python3-pip python3-setuptools python3-markdown \n",
    "sudo apt-get install -y ipython3 ipython3-notebook ipython3-qtconsole python3-all-dev \n",
    "sudo apt-get install -y pandoc pandoc-data python3-pandocfilters python3-sphinx\n",
    "```\n",
    "\n",
    "Eu gosto de instalar a documentação, exemplos e os pacotes para debugs:\n",
    "\n",
    "```bash\n",
    "sudo apt-get install -y python3-doc python3-examples python3-all-dbg\n",
    "```\n",
    "\n",
    "Aqui vai um rápida descrição das bibliotecas acima:\n",
    "- *python3-setuptools* é pacote que permite emapcotar/instalar um aplicativo/biblioiteca python\n",
    "- *python3-markdown* é a liguagem usada nos IPython/Jupyter notebooks\n",
    "- *python3-pandocfilters* é uma ligação python direta com o conversor de linguagem de marcação o *pandoc*\n",
    "- *python3-sphinx* é um gerador de documentação para os projetos python, usando textos restruturados com liguagens de marcação.\n",
    "\n",
    "\n",
    "**OBS.:** O IPython/Jupyter podem exportar os notebooks no formato pdf, gerando um artigo elegante, entretanto para tal ele usa o LaTeX, logo para quem deseja usar dessa funcionalidade recomenda-se que instale o texlive no Linux, no sistema operacional Windows recomenda-se o [MikTeX](https://miktex.org/) ou o próprio [TeX LIve](https://www.tug.org/texlive/).\n",
    "\n",
    "\n",
    "\n",
    "## PyPi\n",
    "\n",
    "As duas características mais relevantes do Python são a sua capacidade de integração com outras linguagens e seu sistema de pacote maduro que é bem incorporado pelo PyPI \\([O Índice do Pacote Python](https://pypi.python.org/pypi)\\), um repositório comum Para a maioria dos pacotes do Python. O pacote *python3-pip* é que nos permite termos acesso a esse repositório. Pois nem todos os pacotes Python possuem uma versão no repositório da sua distribuição Linux. \n",
    "\n",
    "\n",
    "Digitando somente `pip` no terminal, \n",
    "```bash\n",
    "> pip3 \n",
    "Usage:   \n",
    "  pip <command> [options]\n",
    "\n",
    "Commands:\n",
    "  install                     Install packages.\n",
    "  download                    Download packages.\n",
    "  uninstall                   Uninstall packages.\n",
    "  freeze                      Output installed packages in requirements format.\n",
    "  list                        List installed packages.\n",
    "  show                        Show information about installed packages.\n",
    "  check                       Verify installed packages have compatible dependencies.\n",
    "  search                      Search PyPI for packages.\n",
    "  wheel                       Build wheels from your requirements.\n",
    "  hash                        Compute hashes of package archives.\n",
    "  completion                  A helper command used for command completion.\n",
    "  help                        Show help for commands.\n",
    "\n",
    "General Options:\n",
    "  -h, --help                  Show help.\n",
    "  --isolated                  Run pip in an isolated mode, ignoring\n",
    "                              environment variables and user configuration.\n",
    "  -v, --verbose               Give more output. Option is additive, and can be\n",
    "                              used up to 3 times.\n",
    "  -V, --version               Show version and exit.\n",
    "  -q, --quiet                 Give less output. Option is additive, and can be\n",
    "                              used up to 3 times (corresponding to WARNING,\n",
    "                              ERROR, and CRITICAL logging levels).\n",
    "  --log <path>                Path to a verbose appending log.\n",
    "  --proxy <proxy>             Specify a proxy in the form\n",
    "                              [user:passwd@]proxy.server:port.\n",
    "  --retries <retries>         Maximum number of retries each connection should\n",
    "                              attempt (default 5 times).\n",
    "  --timeout <sec>             Set the socket timeout (default 15 seconds).\n",
    "  --exists-action <action>    Default action when a path already exists:\n",
    "                              (s)witch, (i)gnore, (w)ipe, (b)ackup, (a)bort.\n",
    "  --trusted-host <hostname>   Mark this host as trusted, even though it does\n",
    "                              not have valid or any HTTPS.\n",
    "  --cert <path>               Path to alternate CA bundle.\n",
    "  --client-cert <path>        Path to SSL client certificate, a single file\n",
    "                              containing the private key and the certificate\n",
    "                              in PEM format.\n",
    "  --cache-dir <dir>           Store the cache data in <dir>.\n",
    "  --no-cache-dir              Disable the cache.\n",
    "  --disable-pip-version-check\n",
    "                              Don't periodically check PyPI to determine\n",
    "                              whether a new version of pip is available for\n",
    "                              download. Implied with --no-index.\n",
    "```\n",
    "\n",
    "Então por exemplo, para pesquisar o pacote `qutitp`\n",
    "\n",
    "```bash\n",
    "> pip3 search qutip\n",
    "qutip (4.2.0)  - QuTiP: The Quantum Toolbox in Python\n",
    "  INSTALLED: 4.2.0 (latest)\n",
    "```\n",
    "Esse como pode-se ver já está instalado, mas o pacote `statsmodel`\n",
    "\n",
    "```bash\n",
    "> pip3 search statsmodel\n",
    "scikits.statsmodels (0.3.1)  - Statistical computations and models for use with SciPy\n",
    "statsmodels (0.8.0)          - Statistical computations and models for Python\n",
    "```\n",
    "Mostra que há dois pocatoes disponíveis os quais não estão instalados. Para instalar use\n",
    "```bash\n",
    "> sudo -H pip3 install statsmodels\n",
    "```\n",
    "e ele irá instalar o pacote para todos os usuários do sistema, a opção `-H` do sudo. Note que o comando \n",
    "```bash\n",
    "> pip3 install statsmodels\n",
    "```\n",
    "irá instalar o pacote localmente na área do usuário. \n",
    "\n",
    "**OBS:** Na instalação use a opção `-U` ou `--upgrade` para força todos os pacotes a fazerem um *upgrade* para a versão mais nova. \n",
    "\n",
    "Para desinstalar o pacote `statsmodels` proceda da seguinte forma:\n",
    "```bash\n",
    "> sudo -H pip3 uninstall statsmodels\n",
    "```\n",
    "\n",
    "Tanto na instalação \n",
    "\n",
    "```bash\n",
    "> sudo -H pip3 install statsmodels\n",
    "```\n",
    "\n",
    "Para obter informações do pacote use a opção `show` \n",
    "```bash\n",
    "> pip3 show qutip\n",
    "Name: qutip\n",
    "Version: 4.2.0\n",
    "Summary: QuTiP: The Quantum Toolbox in Python\n",
    "Home-page: http://qutip.org\n",
    "Author: Alexander Pitchford, Paul D. Nation, Robert J. Johansson, Chris Granade, Arne Grimsmo\n",
    "Author-email: alex.pitchford@gmail.com, nonhermitian@gmail.com, jrjohansson@gmail.com, cgranade@cgranade.com, arne.grimsmo@gmail.com\n",
    "License: BSD\n",
    "Location: /usr/local/lib/python3.5/dist-packages\n",
    "Requires: numpy, scipy, cython\n",
    "```"
   ]
  },
  {
   "cell_type": "markdown",
   "metadata": {},
   "source": [
    "## Instalação\n",
    "\n",
    "Para os usuários menos experientes, a página de documentação do [Jupyter Notebook](http://jupyter.org/) recomenda que se faça uso da distribuição [Anaconda](https://www.continuum.io/) para instalar o Python e o Jupyter, por ser fácil de instalar em qualquer que seja seu sistema operacional. Uma outra boa opção que também é fácil de instalar e que  suporta Mac, Windows e Linux, e que tem todos esses pacotes (e muito mais) é a [Entought Python Distribution](https://www.enthought.com/products/epd), também conhecido como EPD, que parece estar mudando seu nome para Enthought Canopy. Enthought é uma empresa comercial que suporta um monte de muito bom trabalho em desenvolvimento e aplicação científica Python. Você pode adquirir uma licença para usar EPD, ou há também uma [versão gratuita](https://www.enthought.com/products/epd/free/) que você pode baixar e instalar. \n",
    "\n",
    "A seguir descrevemos como instalar o jupyter.\n",
    "\n",
    "### Via o Anaconda e conda <a name=\"Anaconda\"></a>\n",
    "\n",
    "Os usuários de outros sistemas operacionais e também do linux podem optar por uma distribuição do python e suas bibliotecas chamada  [Anaconda](https://www.continuum.io/). A página oficial do Jupyter Notebook recomenda, que se instale o [Anaconda](https://www.continuum.io/downloads). Isso deve-se ao fato de que o [Anaconda](https://www.continuum.io/) convenientemente instala Python, o [Jupyter Notebook](http://jupyter.org/), e outros pacotes comumente usados para computação científica e nas ciências de análise de dados.\n",
    "\n",
    "Use as seguintes etapas de instalação:\n",
    "\n",
    "- Faça o download do Anaconda. Recomenda-se que você baixe a última versão do Python 3 da Anaconda (atualmente Python 3.6).\n",
    "- Instale a versão do Anaconda que você baixou, seguindo as instruções na página de download.\n",
    "- Ao término da etapa anterior, você terá instalado o Jupyter Notebook. Para executar o notebook, digite na linha de comando:\n",
    "\n",
    "> jupyter-notebook\n",
    "\n",
    "\n",
    "Aqui temos alguns sites que detalham como instalar o anaconda\n",
    "\n",
    "- [Como instalar o anaconda](https://programandociencia.com/2015/08/07/instalando-o-anaconda/)\n",
    "- [Como instalar Python e Jupyter Notebook usando Anaconda](https://paulovasconcellos.com.br/como-baixar-anaconda-31fd49c19bd8)\n",
    "- [How to install anaconda on ubuntu 16.04](https://www.digitalocean.com/community/tutorials/how-to-install-the-anaconda-python-distribution-on-ubuntu-16-04)\n",
    "\n",
    "\n",
    "### Usuários Linux: Instalar o Jupyter com o pip <a name=\"pip\"></a>\n",
    "\n",
    "#### Importante\n",
    "\n",
    "A instalação do Jupyter requer Python 3.3 ou superior, ou Python 2.7. IPython 1.x, que incluiu as partes que mais tarde se tornou Jupyter, foi a última versão para suportar Python 3.2 e 2.6.\n",
    "\n",
    "Como um usuário mais experiente do Python, você pode querer instalar o Jupyter usando o gerenciador de pacotes do Python, pip, em vez de Anaconda.\n",
    "\n",
    "Nos ambientes GNU/Linu, primeiro, certifique-se de que você tem o pip mais recente; Versões mais antigas podem ter problemas com algumas dependências:\n",
    "\n",
    "> sudo -H pip3 install --upgrade pip3\n",
    "\n",
    "ou\n",
    "\n",
    "> sudo -H pip3 install -U pip3\n",
    "\n",
    "Em seguida, instale o Jupyter Notebook usando:\n",
    "\n",
    "> sudo -H pip3 install jupyter\n",
    "\n",
    "(Use pip se estiver usando o Python 2.)\n",
    "\n",
    "Para instalar algumas extensões do jupyter notebook consulte:\n",
    "\n",
    "- [Jupyter notebook extensions](https://github.com/ipython-contrib/jupyter_contrib_nbextensions)\n",
    "- [Notebook extensions](https://carreau.gitbooks.io/jupyter-book/content/notebook-extensions.html)\n",
    "- [Installing Jupyter Notebook Extensions](https://www.oreilly.com/learning/installing-jupyter-notebook-extensions)\n",
    "- [An easy way to install Jupyter Notebook extensions](http://blog.rtwilson.com/an-easy-way-to-install-jupyter-notebook-extensions/)\n",
    "- [Installing jupyter_contrib_nbextensions](http://jupyter-contrib-nbextensions.readthedocs.io/en/latest/install.html)\n",
    "- [Distributing Jupyter Extensions as Python Packages](http://jupyter-notebook.readthedocs.io/en/latest/examples/Notebook/Distributing%20Jupyter%20Extensions%20as%20Python%20Packages.html)\n"
   ]
  },
  {
   "cell_type": "markdown",
   "metadata": {},
   "source": [
    "## Bibliotecas essenciais <a name=\"CP1-Bibliotecas\"></a>\n",
    "\n",
    "Bibliotecas científicas que todos devem instalar:\n",
    "\n",
    "```bash\n",
    "sudo apt-get install -y python3-matplotlib python3-numpy python3-numpydoc \n",
    "sudo apt-get install -y python3-pandas python3-pandas-lib python3-mpmath \n",
    "sudo apt-get install -y python3-numexpr python3-scipy python3-sympy\n",
    "sudo apt-get install -y python3-pyfftw python3-opengl python3-seaborn\n",
    "sudo apt-get install -y python3-matplotlib-dbg python3-numpy-dbg python3-numexpr-dbg\n",
    "```\n",
    "seus pacotes para permitir debugs:\n",
    "```bash\n",
    "sudo apt-get install -y python3-matplotlib-dbg python3-numpy-dbg python3-numexpr-dbg\n",
    "```\n",
    "Alguns pacotes úteis para tratar imagens, textos html, etc:\n",
    "\n",
    "```bash\n",
    "sudo apt-get install -y python3-html2text python3-html5lib python3-urllib3 python3-bs4 \n",
    "sudo apt-get install -y python3-pdfrw python3-pil python3-pil.imagetk python3-pilkit\n",
    "sudo apt-get install -y python3-img2pdf python3-skimage-lib python3-sklearn-lib \n",
    "sudo apt-get install -y python3-pil-dbg python3-pil.imagetk-dbg python3-pyfftw-dbg \n",
    "```\n",
    "\n",
    "### Descrição das bibliotecas mais importantes\n",
    "\n",
    "\n",
    "#### NumPy <a name=\"CP1-Lib-NumPy\"></a>\n",
    "\n",
    "NumPy, que é a criação de Travis Oliphant, é o verdadeiro laboratório analítico da linguagem Python. Ele fornece ao usuário arrays multidimensionais, juntamente com um grande conjunto de funções para lidar com uma multiplicidade de operações matemáticas sobre matrizes (\"arrays\"). Arrays são blocos de dados dispostos ao longo de múltiplas dimensões, que implementam vetores matemáticos e matrizes. As matrizes são úteis não apenas para armazenar dados, mas também para operações de matriz rápida (vectorization), que são indispensáveis quando você deseja resolver problemas ad hoc de ciência de dados.\n",
    "\n",
    "Site: http://www.numpy.org/\n",
    "Versão atual: 1.9.1\n",
    "\n",
    "> Nota: Como uma convenção amplamente adotada pela comunidade Python, ao importar NumPy, sugere-se que você o alias como np:\n",
    ">\n",
    "> import numpy as np\n",
    ">\n",
    "> Estaremos fazendo isso ao longo deste.\n",
    "\n",
    "#### SciPy <a name=\"CP1-Lib-SciPy\"></a>\n",
    "\n",
    "Um projeto original de Travis Oliphant, Pearu Peterson e Eric Jones, SciPy completa as funcionalidades do NumPy, oferecendo uma maior variedade de algoritmos científicos para álgebra linear, matrizes esparsas, processamento de sinais e imagens, otimização, transformada rápida de Fourier e muito mais.\n",
    "\n",
    "Site: http://www.scipy.org/\n",
    "Versão atual: 0.14.0\n",
    "\n",
    "\n",
    "#### Matplotlib <a name=\"CP1-Lib-Matplotlib\"></a>\n",
    "\n",
    "Originalmente desenvolvido por John Hunter, matplotlib é a biblioteca que contém todos os blocos de construção que são necessários para criar gráficos de qualidade a partir de arrays e visualizá-los interativamente.\n",
    "\n",
    "Você pode encontrar todas as estruturas de plotagem de tipo MATLAB dentro do módulo pylab.\n",
    "\n",
    "Website: http://matplotlib.org/\n",
    "Versão atual: 1.4.2\n",
    "\n",
    ">Você pode simplesmente importar o que você precisa para suas finalidades de visualização com o seguinte comando:\n",
    ">\n",
    ">import matplotlib.pyplot as plt\n",
    "\n",
    "\n",
    "#### SymPy\n",
    "\n",
    "SymPy é uma biblioteca Python para matemática simbólica. Ele pretende tornar-se um sistema completo de álgebra computacional (CAS), mantendo o código o mais simples possível para ser compreensível e facilmente extensível. A SymPy foi escrita inteiramente em Python. Você não precisa instalar o SymPy para iniciar o seu uso. Você pode usar o shell on-line em http://live.sympy.org.\n",
    "\n",
    "Página: http://www.sympy.org/\n",
    "\n",
    "\n",
    "#### Pandas <a name=\"CP1-Lib-Pandas\"></a>\n",
    "\n",
    "O pacote pandas lida com tudo o que NumPy e SciPy não pode fazer. Graças às suas estruturas de dados de objetos específicos, DataFrames e Series, pandas permite manipular tabelas complexas de dados de diferentes tipos (que é algo que as matrizes de NumPy não podem fazer) e séries temporais. Graças à criação de Wes McKinney, você será capaz de facilmente e sem problemas carregar dados de uma variedade de fontes. Você pode então cortar, fragmentar, manipular elementos ausentes, adicionar, renomear, agregar, reformular e, finalmente, visualizar esses dados em sua vontade.\n",
    "\n",
    "Website: http://pandas.pydata.org/\n",
    "Versão atual: 0.15.2\n",
    "\n",
    ">Convencionalmente, os pandas são importados como pd:\n",
    ">\n",
    ">import pandas as pd\n",
    "\n",
    "\n",
    "#### Beautiful Soup <a name=\"CP1-Lib-BeautifulSoup\"></a>\n",
    "\n",
    "Beautiful Soup, uma criação de Leonard Richardson, é uma ótima ferramenta para tratar dados de arquivos HTML e XML obtidos da Internet. Funciona incrivelmente bem, mesmo no caso das sopas de tags (daí o nome), que são coleções de etiquetas malformadas e contraditórias e incorretas. Depois de escolher o analisador (basicamente, o analisador HTML incluído na biblioteca padrão do Python funciona bem), graças à Beautiful Soup, você pode navegar pelos objetos na página e extrair texto, tabelas e qualquer outra informação que possa ser útil.\n",
    "\n",
    "Site: http://www.crummy.com/software/BeautifulSoup/\n",
    "Versão atual: 4.3.2\n",
    "O pacote python: python3-bs4\n",
    "\n",
    ">Nota: Observe que o módulo importado é denominado bs4.\n",
    "> from bs4 import BeautifulSoup\n",
    "\n",
    "\n",
    "#### Scikit-learn <a name=\"CP1-Lib-Scikit-learn\"></a>\n",
    "\n",
    "Iniciado como parte do SciKits (SciPy Toolkits), Scikit-learn é o núcleo das operações de ciência de dados em Python. Ele oferece tudo o que você pode precisar em termos de pré-processamento de dados, aprendizado supervisionado e não supervisionado, seleção de modelos, validação e métricas de erro.  O Scikit-learn começou em 2007 como um projeto Google Summer of Code de David Cournapeau. Desde 2013, foi retomado pelos investigadores do INRA (Instituto Francês de Investigação em Informática e Automação).\n",
    "\n",
    "Website: http://scikit-learn.org/stable/\n",
    "Versão atual: 0.15.2\n",
    "instalar via pip3 e o nome do pacote é: scikit-learn\n",
    "\n",
    "> *Nota*: Observe que o módulo importado é denominado sklearn.\n",
    "\n",
    "\n",
    "\n",
    "#### Statsmodels <a name=\"CP1-Lib-Statsmodel\"></a>\n",
    "\n",
    "Anteriormente parte de SciKits, statsmodels foi pensado para ser um complemento para SciPy funções estatísticas. Ele apresenta modelos lineares generalizados, modelos de escolha discreta, análise de séries temporais e uma série de estatísticas descritivas, bem como testes paramétricos e não paramétricos.\n",
    "\n",
    "Site: http://statsmodels.sourceforge.net/\n",
    "Versão atual: 0.6.0\n",
    "Instalação via pip3 e o nome do pacote é:\n",
    "- scikits.statsmodels (0.3.1)  - Statistical computations and models for use with SciPy\n",
    "- statsmodels (0.8.0)          - Statistical computations and models for Python\n",
    "\n",
    "#### Seaborn\n",
    "\n",
    "É uma biblioteca para visualização de dados estatísticos, baseada na matplotlib.\n",
    "\n",
    "Site:https://seaborn.pydata.org/\n",
    "Versão atual: 0.8.1\n",
    "Instalada via pip, mas possui um pacote debian\n",
    "\n",
    "#### NetworkX <a name=\"CP1-Lib-NetworkX\"></a>\n",
    "\n",
    "Desenvolvido pelo Laboratório Nacional de Los Alamos, NetworkX é um pacote especializado na criação, manipulação, análise e representação gráfica de dados de rede da vida real (pode facilmente operar com gráficos compostos de um milhão de nós e bordas). Além de estruturas de dados especializadas para gráficos e métodos de visualização fina (2D e 3D), ele fornece ao usuário muitas medidas de gráfico padrão e algoritmos, como o caminho mais curto, centralidade, componentes, comunidades, cluster e PageRank. \n",
    "\n",
    "Site: https://networkx.github.io/\n",
    "Versão atul: 1.9.1\n",
    "pacote: python3-networkx\n",
    "\n",
    ">Convencionalmente, o NetworkX é importado como nx:\n",
    ">\n",
    ">import networkx as nx"
   ]
  },
  {
   "cell_type": "code",
   "execution_count": null,
   "metadata": {},
   "outputs": [],
   "source": [
    "%%writefile install_python.sh\n",
    "#!/bin/sh\n",
    "sudo apt-get update\n",
    "sudo apt-get install -y python3 python3-doc python3-all python3-pip python3-bs4 python3-all-dev python3-examples ipython3 ipython3-notebook ipython3-qtconsole python3-markdown python3-matplotlib python3-numpy python3-pandas python3-opengl python3-mpmath python3-nltk python3-numexpr python3-pandas-lib python3-html2text python3-html5lib python3-img2pdf python3-magic python3-matplotlib-dbg python3-numpy-dbg python3-numexpr-dbg python3-numpydoc python3-pandocfilters python3-setuptools python3-pdfrw python3-pil python3-pil-dbg python3-pil.imagetk python3-pil.imagetk-dbg python3-pilkit python3-pip python3-pyfftw python3-pyfftw-dbg python3-scipy python3-sympy python3-skimage-lib python3-sklearn-lib python3-seaborn python3-sphinx"
   ]
  },
  {
   "cell_type": "code",
   "execution_count": 1,
   "metadata": {},
   "outputs": [
    {
     "name": "stdout",
     "output_type": "stream",
     "text": [
      "#!/bin/sh\r\n",
      "sudo apt-get update\r\n",
      "sudo apt-get install -y python3 python3-doc python3-all python3-pip python3-bs4 python3-all-dev python3-examples ipython3 ipython3-notebook ipython3-qtconsole python3-markdown python3-matplotlib python3-numpy python3-pandas python3-opengl python3-mpmath python3-nltk python3-numexpr python3-pandas-lib python3-html2text python3-html5lib python3-img2pdf python3-magic python3-matplotlib-dbg python3-numpy-dbg python3-numexpr-dbg python3-numpydoc python3-pandocfilters python3-setuptools python3-pdfrw python3-pil python3-pil-dbg python3-pil.imagetk python3-pil.imagetk-dbg python3-pilkit python3-pip python3-pyfftw python3-pyfftw-dbg python3-scipy python3-sympy python3-skimage-lib python3-sklearn-lib python3-seaborn python3-sphinx"
     ]
    }
   ],
   "source": [
    "! cat install_python.sh"
   ]
  },
  {
   "cell_type": "markdown",
   "metadata": {},
   "source": [
    "Agora para instalar o script abra um terminal na pasta onde enoctra-se o scpript e digite:\n",
    "```bash\n",
    "sh ./install_python.sh\n",
    "```"
   ]
  },
  {
   "cell_type": "markdown",
   "metadata": {},
   "source": [
    "## Ajustando a configuração do Linux\n",
    "\n",
    "Uma das habilidades do Jupyter Notebook reside no fato de que não é necessário deixar o ambiente para realizar muitas das tarefas do sistema, mesmo a instalação de softwares. Entretanto nesse caso é necessário fazer um pequeno ajuste no sistema. Vamos permitir que o administrador da máquina que é quem está usando ela não precise mais de digitar o seu password ao usar o sudo. Para isso edite o arquivo <span style=\"color:blue\">/etc/sudoers</span>\n",
    "e acrescente uma linha contendo\n",
    "\n",
    "```bash\n",
    "login_do_usuario  ALL=(ALL:ALL) NOPASSWD:ALL\n",
    "```\n",
    "\n",
    "Devendo ficar conforme o exemplo abaixo, no qual o meu login é <span style=\"color:blue\">salviano</span>.\n",
    "\n",
    "[Blog do Da2k](https://blog.da2k.com.br \"Clique e acesse agora!\")\n",
    "<span style=\"color:blue\">Esse é um pequeno texto em *azul*</span>"
   ]
  },
  {
   "cell_type": "code",
   "execution_count": 2,
   "metadata": {},
   "outputs": [
    {
     "name": "stdout",
     "output_type": "stream",
     "text": [
      "#\r\n",
      "# This file MUST be edited with the 'visudo' command as root.\r\n",
      "#\r\n",
      "# Please consider adding local content in /etc/sudoers.d/ instead of\r\n",
      "# directly modifying this file.\r\n",
      "#\r\n",
      "# See the man page for details on how to write a sudoers file.\r\n",
      "#\r\n",
      "Defaults\tenv_reset\r\n",
      "Defaults\tmail_badpass\r\n",
      "Defaults\tsecure_path=\"/usr/local/sbin:/usr/local/bin:/usr/sbin:/usr/bin:/sbin:/bin:/snap/bin\"\r\n",
      "\r\n",
      "# Host alias specification\r\n",
      "\r\n",
      "# User alias specification\r\n",
      "\r\n",
      "# Cmnd alias specification\r\n",
      "\r\n",
      "# User privilege specification\r\n",
      "root\tALL=(ALL:ALL) ALL\r\n",
      "\r\n",
      "# Members of the admin group may gain root privileges\r\n",
      "%admin ALL=(ALL) ALL\r\n",
      "\r\n",
      "# Allow members of group sudo to execute any command\r\n",
      "%sudo\tALL=(ALL:ALL) ALL\r\n",
      "salviano ALL=(ALL:ALL) NOPASSWD:ALL\r\n",
      "\r\n",
      "# See sudoers(5) for more information on \"#include\" directives:\r\n",
      "\r\n",
      "#includedir /etc/sudoers.d\r\n"
     ]
    }
   ],
   "source": [
    "!sudo cat /etc/sudoers"
   ]
  },
  {
   "cell_type": "markdown",
   "metadata": {},
   "source": [
    "Para ver o seu login:"
   ]
  },
  {
   "cell_type": "code",
   "execution_count": 3,
   "metadata": {},
   "outputs": [
    {
     "name": "stdout",
     "output_type": "stream",
     "text": [
      "salviano\r\n"
     ]
    }
   ],
   "source": [
    "! echo $USER"
   ]
  },
  {
   "cell_type": "markdown",
   "metadata": {},
   "source": [
    "Considerando que o resultado do comando acima, ou seja o login do usuário, seja `pedro`, então para ajustar o arquivo `/etc/sudoers` abra um terminal e digite:\n",
    "```bash\n",
    "sudo sed -i \"/^%sudo/ a\\pedro  ALL=(ALL:ALL) NOPASSWD:ALL\" /etc/sudoers\n",
    "```\n",
    "ou\n",
    " \n",
    "```bash\n",
    "sudo sed -i \"/^%sudo/ a\\ $USER  ALL=(ALL:ALL) NOPASSWD:ALL\" /etc/sudoers\n",
    "```\n",
    "\n",
    "A seguir verifique se o comando rodou corretamente. Para isso abra um terminal e digite:\n",
    "```bash\n",
    "sudo cat /etc/gshadow\n",
    "```\n",
    "\n",
    "Se o comando acima não te pedir a senha e mostar a listagem do arquivo `/etc/gshadow`, então pode continuar e executar a próxima célula."
   ]
  },
  {
   "cell_type": "markdown",
   "metadata": {},
   "source": [
    "Uma vez feito isso teste verificando se o sistema não está pedindo o password e para isso abra um terminal e digite:\n",
    "```bash\n",
    "sudo apt update\n",
    "```\n",
    "\n",
    "Se o comando rodou sem te pedir a senha então, pode continuar e executar a próxima célula."
   ]
  },
  {
   "cell_type": "code",
   "execution_count": 4,
   "metadata": {},
   "outputs": [
    {
     "name": "stdout",
     "output_type": "stream",
     "text": [
      "Requirement already satisfied: version_information in /usr/local/lib/python3.5/dist-packages\r\n"
     ]
    }
   ],
   "source": [
    "!sudo -H pip3 install version_information"
   ]
  },
  {
   "cell_type": "markdown",
   "metadata": {},
   "source": [
    "## Verificando a instalação\n",
    "\n",
    "ISe você instalou tudo corretamente, então abra um terminal e digite\n",
    "\n",
    "> jupyter-notebook\n",
    "\n",
    "Ele então vai abrir o navegador e você terá o jupyter funcionando.\n",
    "\n",
    "Para verificar a versão atual instalada dos pacotes selecionados, considere por exemplo: o numpy, scipy, matplotlib, sympy, pandas, ipython, jupyter. Digite o comando abaixo na célula do Jupyter"
   ]
  },
  {
   "cell_type": "code",
   "execution_count": 5,
   "metadata": {},
   "outputs": [
    {
     "data": {
      "application/json": {
       "Software versions": [
        {
         "module": "Python",
         "version": "3.5.2 64bit [GCC 5.4.0 20160609]"
        },
        {
         "module": "IPython",
         "version": "6.2.1"
        },
        {
         "module": "OS",
         "version": "Linux 4.10.0 40 generic x86_64 with LinuxMint 18.2 sonya"
        },
        {
         "module": "numpy",
         "version": "1.13.3"
        },
        {
         "module": "scipy",
         "version": "1.0.0"
        },
        {
         "module": "matplotlib",
         "version": "2.1.0"
        },
        {
         "module": "sympy",
         "version": "1.1.1"
        },
        {
         "module": "pandas",
         "version": "0.21.0"
        },
        {
         "module": "ipython",
         "version": "6.2.1"
        },
        {
         "module": "jupyter",
         "version": "1.0.0"
        }
       ]
      },
      "text/html": [
       "<table><tr><th>Software</th><th>Version</th></tr><tr><td>Python</td><td>3.5.2 64bit [GCC 5.4.0 20160609]</td></tr><tr><td>IPython</td><td>6.2.1</td></tr><tr><td>OS</td><td>Linux 4.10.0 40 generic x86_64 with LinuxMint 18.2 sonya</td></tr><tr><td>numpy</td><td>1.13.3</td></tr><tr><td>scipy</td><td>1.0.0</td></tr><tr><td>matplotlib</td><td>2.1.0</td></tr><tr><td>sympy</td><td>1.1.1</td></tr><tr><td>pandas</td><td>0.21.0</td></tr><tr><td>ipython</td><td>6.2.1</td></tr><tr><td>jupyter</td><td>1.0.0</td></tr><tr><td colspan='2'>Wed Nov 22 07:48:14 2017 -02</td></tr></table>"
      ],
      "text/latex": [
       "\\begin{tabular}{|l|l|}\\hline\n",
       "{\\bf Software} & {\\bf Version} \\\\ \\hline\\hline\n",
       "Python & 3.5.2 64bit [GCC 5.4.0 20160609] \\\\ \\hline\n",
       "IPython & 6.2.1 \\\\ \\hline\n",
       "OS & Linux 4.10.0 40 generic x86\\_64 with LinuxMint 18.2 sonya \\\\ \\hline\n",
       "numpy & 1.13.3 \\\\ \\hline\n",
       "scipy & 1.0.0 \\\\ \\hline\n",
       "matplotlib & 2.1.0 \\\\ \\hline\n",
       "sympy & 1.1.1 \\\\ \\hline\n",
       "pandas & 0.21.0 \\\\ \\hline\n",
       "ipython & 6.2.1 \\\\ \\hline\n",
       "jupyter & 1.0.0 \\\\ \\hline\n",
       "\\hline \\multicolumn{2}{|l|}{Wed Nov 22 07:48:14 2017 -02} \\\\ \\hline\n",
       "\\end{tabular}\n"
      ],
      "text/plain": [
       "Software versions\n",
       "Python 3.5.2 64bit [GCC 5.4.0 20160609]\n",
       "IPython 6.2.1\n",
       "OS Linux 4.10.0 40 generic x86_64 with LinuxMint 18.2 sonya\n",
       "numpy 1.13.3\n",
       "scipy 1.0.0\n",
       "matplotlib 2.1.0\n",
       "sympy 1.1.1\n",
       "pandas 0.21.0\n",
       "ipython 6.2.1\n",
       "jupyter 1.0.0\n",
       "Wed Nov 22 07:48:14 2017 -02"
      ]
     },
     "execution_count": 5,
     "metadata": {},
     "output_type": "execute_result"
    }
   ],
   "source": [
    "%load_ext version_information\n",
    "%version_information numpy, scipy, matplotlib, sympy, pandas, ipython, jupyter"
   ]
  },
  {
   "cell_type": "markdown",
   "metadata": {},
   "source": [
    "# Jupyter/IPython\n",
    "\n",
    "**Jupyter/IPython** (Python interativo) é um shell Python aprimorado que fornece um ambiente de desenvolvimento mais robusto e produtivo para os usuários. Existem várias características-chave que o diferenciam do shell padrão do Python.\n",
    "\n",
    "### História\n",
    "\n",
    "No Jupyter/IPython, todas as suas entradas e saídas são salvas. Há duas variáveis chamadas `In` e` Out` que são atribuídas à medida que você trabalha com seus resultados. Todas as saídas são salvas automaticamente em variáveis da forma `_N`, onde `N` é o número do prompt, e as entradas para `_iN`. Isso permite que você recupere rapidamente o resultado de uma computação anterior, referindo-se a seu número, mesmo se você se esqueceu de armazená-lo como uma variável.\n"
   ]
  },
  {
   "cell_type": "code",
   "execution_count": 6,
   "metadata": {},
   "outputs": [
    {
     "data": {
      "text/plain": [
       "3.872983346207417"
      ]
     },
     "execution_count": 6,
     "metadata": {},
     "output_type": "execute_result"
    }
   ],
   "source": [
    "from math import sqrt\n",
    "sqrt(15.0)"
   ]
  },
  {
   "cell_type": "markdown",
   "metadata": {},
   "source": [
    "Para referenciar o resultado da célula anterior, faça"
   ]
  },
  {
   "cell_type": "code",
   "execution_count": 7,
   "metadata": {},
   "outputs": [
    {
     "data": {
      "text/plain": [
       "7.745966692414834"
      ]
     },
     "execution_count": 7,
     "metadata": {},
     "output_type": "execute_result"
    }
   ],
   "source": [
    "_6 * 2.0"
   ]
  },
  {
   "cell_type": "markdown",
   "metadata": {},
   "source": [
    "Você também pode referenciar a entrada, nesse caso considere a entrada da célula 3 anteriror, e nesse caso observe que ela é uma string, logo"
   ]
  },
  {
   "cell_type": "code",
   "execution_count": 8,
   "metadata": {},
   "outputs": [
    {
     "data": {
      "text/plain": [
       "'from math import sqrt\\nsqrt(15.0)'"
      ]
     },
     "execution_count": 8,
     "metadata": {},
     "output_type": "execute_result"
    }
   ],
   "source": [
    "_i6"
   ]
  },
  {
   "cell_type": "code",
   "execution_count": 9,
   "metadata": {},
   "outputs": [
    {
     "data": {
      "text/plain": [
       "0.9682458365518543"
      ]
     },
     "execution_count": 9,
     "metadata": {},
     "output_type": "execute_result"
    }
   ],
   "source": [
    "_6 / 4."
   ]
  },
  {
   "cell_type": "code",
   "execution_count": 10,
   "metadata": {},
   "outputs": [
    {
     "data": {
      "text/plain": [
       "0.1411200080598672"
      ]
     },
     "execution_count": 10,
     "metadata": {},
     "output_type": "execute_result"
    }
   ],
   "source": [
    "import math\n",
    "math.sin(3.0)  # Note o uso. Aqui carregou-se toda a biblioteca"
   ]
  },
  {
   "cell_type": "code",
   "execution_count": 12,
   "metadata": {},
   "outputs": [
    {
     "data": {
      "text/plain": [
       "3.605551275463989"
      ]
     },
     "execution_count": 12,
     "metadata": {},
     "output_type": "execute_result"
    }
   ],
   "source": [
    "sqrt(13.0)"
   ]
  },
  {
   "cell_type": "markdown",
   "metadata": {},
   "source": [
    "Os notebooks são iterativos "
   ]
  },
  {
   "cell_type": "code",
   "execution_count": 13,
   "metadata": {},
   "outputs": [
    {
     "name": "stdout",
     "output_type": "stream",
     "text": [
      "Entre com o seu nomeSalviano\n",
      "O nome entrado foi:  Salviano\n"
     ]
    }
   ],
   "source": [
    "a=input(\"Entre com o seu nome\")\n",
    "print(\"O nome entrado foi: \",a)"
   ]
  },
  {
   "cell_type": "markdown",
   "metadata": {},
   "source": [
    "### A saída é assíncrona\n",
    "\n",
    "Toda a saída é exibida de forma assíncrona à medida que é gerada no Kernel. Se você executar a próxima célula, você verá a saída uma peça de cada vez, nem todas no final.\n",
    "\n",
    "[comment]: <> (Esse é um comentário, ele não é mostrado)\n",
    "[comment]: <> (no arquivo de saída)\n",
    "\n",
    "[comment]: <> (Podemos ir mais adiante)\n",
    "\n",
    "[//]: <> (Esse também é um comentário .)\n",
    "\n",
    "[//]: <> ( Para melhorar a compatibilidade da plataforma (e salvar uma digitação), também é possível usar # (que é um alvo de hiperlink legítimo) em vez de <>:)\n",
    "\n",
    "[//]: # (Este pode ser o comentário mais independente da plataforma)\n",
    "\n",
    "[//]: <> ($$ \\int\\limits_{0}^{\\infty} f(x) dx$$)\n",
    "\n",
    "\n",
    "\n",
    "[//]: # (Pode-se usar as tags do HTML tags, como:)\n",
    "\n",
    "<!---\n",
    "O seu comentário vem aqui.\n",
    "---\n",
    "Observe o traço triplo no início. A vantagem é que ele funciona com pandoc \n",
    "ao gerar saída de TeX ou HTML. Mais informações estão disponíveis \n",
    "no grupo pandoc-discuss.\n",
    "-->\n",
    "\n",
    "\n"
   ]
  },
  {
   "cell_type": "code",
   "execution_count": 14,
   "metadata": {},
   "outputs": [
    {
     "name": "stdout",
     "output_type": "stream",
     "text": [
      "i =  1\n",
      "i =  2\n",
      "i =  3\n",
      "i =  4\n",
      "i =  5\n",
      "i =  6\n",
      "i =  7\n",
      "i =  8\n"
     ]
    }
   ],
   "source": [
    "import time\n",
    "inicio = 1\n",
    "fim = 9\n",
    "passo = 1\n",
    "for i in range(inicio,fim,passo):\n",
    "    print(\"i = \", i)\n",
    "    time.sleep(0.5) # usado para fornecer um pequeno delay"
   ]
  },
  {
   "cell_type": "markdown",
   "metadata": {},
   "source": [
    "### Introspecção\n",
    "\n",
    "Se desejar detalhes sobre as propriedades e funcionalidades de qualquer objeto Python atualmente carregado no Jupyter/IPython, você pode usar o `?` Para revelar quaisquer detalhes disponíveis:\n"
   ]
  },
  {
   "cell_type": "code",
   "execution_count": 15,
   "metadata": {},
   "outputs": [],
   "source": [
    "i?"
   ]
  },
  {
   "cell_type": "code",
   "execution_count": 16,
   "metadata": {},
   "outputs": [],
   "source": [
    "algum_dic = {}\n",
    "algum_dic?"
   ]
  },
  {
   "cell_type": "markdown",
   "metadata": {},
   "source": [
    "Se estiverem disponível, os detalhes adicionais serão fornecidos com dois pontos de interrogação, incluindo o código-fonte do próprio objeto.\n"
   ]
  },
  {
   "cell_type": "code",
   "execution_count": null,
   "metadata": {},
   "outputs": [],
   "source": [
    "from numpy.linalg import cholesky\n",
    "cholesky??"
   ]
  },
  {
   "cell_type": "markdown",
   "metadata": {},
   "source": [
    "Essa sintaxe também pode ser usada para pesquisar *namespaces* com curingas (\\*)."
   ]
  },
  {
   "cell_type": "code",
   "execution_count": 17,
   "metadata": {},
   "outputs": [],
   "source": [
    "%matplotlib inline\n",
    "import pylab as plt\n",
    "plt.*plot*?"
   ]
  },
  {
   "cell_type": "code",
   "execution_count": 18,
   "metadata": {},
   "outputs": [
    {
     "name": "stdout",
     "output_type": "stream",
     "text": [
      "Available matplotlib backends: ['notebook', 'qt4', 'agg', 'ipympl', 'qt', 'osx', 'gtk', 'widget', 'tk', 'nbagg', 'qt5', 'gtk3', 'inline', 'wx']\n"
     ]
    }
   ],
   "source": [
    "%matplotlib --list"
   ]
  },
  {
   "cell_type": "markdown",
   "metadata": {},
   "source": [
    "As opções de visualização da matplotlib são:\n",
    "\n",
    "'auto', 'gtk', 'gtk3', 'inline', 'nbagg', 'notebook', 'osx', 'qt', 'qt4', 'qt5', 'tk', 'wx'\n",
    "\n",
    "\n",
    "\n",
    "%matplotlib --list\n",
    "   Available matplotlib backends: ['osx', 'qt4', 'qt5', 'gtk3', 'notebook', 'wx', 'qt', 'nbagg',\n",
    "   'gtk', 'tk', 'inline']\n",
    "\n",
    "positional arguments:\n",
    "  gui         Name of the matplotlib backend to use ('agg', 'gtk', 'gtk3',\n",
    "              'inline', 'ipympl', 'nbagg', 'notebook', 'osx', 'qt', 'qt4',\n",
    "              'qt5', 'tk', 'wx'). If given, the corresponding matplotlib\n",
    "              backend is used, otherwise it will be matplotlib's default\n",
    "              (which you can set in your matplotlib config file).\n",
    "\n",
    "optional arguments:"
   ]
  },
  {
   "cell_type": "markdown",
   "metadata": {},
   "source": [
    "### Completar com Tab\n",
    "\n",
    "Como o Jupyter/IPython permitem a introspecção, ele é capaz de dar ao usuário a capacidade de completar comandos que foram parcialmente digitados com um tab. Isso é feito pressionando a tecla `<tab>` em qualquer ponto durante o processo de digitar um comando:"
   ]
  },
  {
   "cell_type": "code",
   "execution_count": null,
   "metadata": {},
   "outputs": [],
   "source": [
    "plt.p"
   ]
  },
  {
   "cell_type": "markdown",
   "metadata": {},
   "source": [
    "Isso pode até ser usado para ajudar com a especificação dos argumentos de algumas funções, o que às vezes pode ser difícil de lembrar:"
   ]
  },
  {
   "cell_type": "code",
   "execution_count": null,
   "metadata": {},
   "outputs": [],
   "source": [
    "plt.hist"
   ]
  },
  {
   "cell_type": "markdown",
   "metadata": {},
   "source": [
    "### Comandos do sistema\n",
    "\n",
    "No Jupyter/IPython, você pode digitar `ls` para ver seus arquivos ou `cd` para alterar diretórios, assim como você faria em um prompt do sistema, mas para isso adicione o caracter `!`:"
   ]
  },
  {
   "cell_type": "code",
   "execution_count": null,
   "metadata": {},
   "outputs": [],
   "source": [
    "!ls /home/salviano/Cursos/FisComp/Python/ipython/Cursos/"
   ]
  },
  {
   "cell_type": "markdown",
   "metadata": {},
   "source": [
    "Praticamente qualquer comando do sistema pode ser acessado prepending `!`,  o qual passa qualquer comando subsequente diretamente para o sistema operacional."
   ]
  },
  {
   "cell_type": "code",
   "execution_count": null,
   "metadata": {},
   "outputs": [],
   "source": [
    "!locate python3 | grep pdf"
   ]
  },
  {
   "cell_type": "markdown",
   "metadata": {},
   "source": [
    "Você pode até usar variáveis Python em comandos enviados para o sistema operacional:"
   ]
  },
  {
   "cell_type": "code",
   "execution_count": 19,
   "metadata": {},
   "outputs": [
    {
     "name": "stdout",
     "output_type": "stream",
     "text": [
      "./01-Instalacao-e-configuracao-do-IPython-e-Jupyter.ipynb\r\n",
      "./Exemplo-de-notebook-em-c.ipynb\r\n",
      "./Fortran_Exemplo-notebook.ipynb\r\n"
     ]
    }
   ],
   "source": [
    "file_type = 'ipynb'\n",
    "!ls ./*$file_type"
   ]
  },
  {
   "cell_type": "markdown",
   "metadata": {},
   "source": [
    "A saída de um comando do sistema usando a sintaxe do ponto de exclamação pode ser atribuída a uma variável Python."
   ]
  },
  {
   "cell_type": "code",
   "execution_count": 20,
   "metadata": {},
   "outputs": [],
   "source": [
    "notebooks = !ls ./"
   ]
  },
  {
   "cell_type": "code",
   "execution_count": 21,
   "metadata": {},
   "outputs": [
    {
     "data": {
      "text/plain": [
       "['01-Instalacao-e-configuracao-do-IPython-e-Jupyter.ipynb',\n",
       " 'Cab_IF_Red.png',\n",
       " 'contour_frontpage.png',\n",
       " 'Exemplo-de-notebook-em-c.ipynb',\n",
       " 'Fortran_Exemplo-notebook.ipynb',\n",
       " 'funcs.mod',\n",
       " 'install_python.sh',\n",
       " 'LICENSE',\n",
       " 'README.md',\n",
       " 'README.md~']"
      ]
     },
     "execution_count": 21,
     "metadata": {},
     "output_type": "execute_result"
    }
   ],
   "source": [
    "notebooks"
   ]
  },
  {
   "cell_type": "code",
   "execution_count": 22,
   "metadata": {},
   "outputs": [
    {
     "data": {
      "text/plain": [
       "IPython.utils.text.SList"
      ]
     },
     "execution_count": 22,
     "metadata": {},
     "output_type": "execute_result"
    }
   ],
   "source": [
    "type(notebooks)"
   ]
  },
  {
   "cell_type": "markdown",
   "metadata": {},
   "source": [
    "## Console  Qt \n",
    "\n",
    "Se você digitar no prompt do sistema:\n",
    "\n",
    "> $ ipython3 qtconsole\n",
    "\n",
    "ou \n",
    "\n",
    "> $ jupyter-qtconsole\n",
    "\n",
    "Em vez de abrir em um terminal, IPython irá iniciar um console gráfico que à primeira vista aparece como um terminal, mas que é, de fato, muito mais capaz do que um terminal somente de texto. Este é um terminal especializado projetado para o trabalho científico interativo, e suporta a edição de multi-linha cheia com realce de cor e calltips gráficos para funções, pode manter múltiplas sessões de IPython abertas simultaneamente em abas, e quando scripts funcionam pode exibir os números diretamente Na área de trabalho.\n",
    "\n",
    "![qtconsole](Figs/Jupyter_QtConsole.png)"
   ]
  },
  {
   "cell_type": "markdown",
   "metadata": {},
   "source": [
    "# Jupyter Notebook\n",
    "\n",
    "\n",
    "Ao longo do tempo, o projeto IPython cresceu para incluir vários componentes, incluindo:\n",
    "\n",
    "* Um shell interativo\n",
    "* Um protocolo REPL\n",
    "* Um documento de caderno fromat\n",
    "* Uma ferramenta de conversão de documentos do notebook\n",
    "* Uma ferramenta de criação de notebooks baseada na web\n",
    "* Ferramentas para a construção de interface interativa (widgets)\n",
    "* Python paralelo interativo\n",
    "\n",
    "Como cada componente evoluiu, vários tinham crescido ao ponto que eles warrented projetos de seus próprios. Por exemplo, peças como o notebook e o protocolo não são nem mesmo específicas do Python. Como resultado, a equipe do IPython criou o Projeto Jupyter, que é a nova casa de projetos agnósticos de linguagem que começou como parte do IPython, como o notebook no qual você está lendo este texto.\n",
    "\n",
    "O notebook HTML que faz parte do projeto Jupyter suporta ** visualização de dados interativos ** e fácil de alto desempenho ** computação paralela **.\n"
   ]
  },
  {
   "cell_type": "code",
   "execution_count": 23,
   "metadata": {},
   "outputs": [
    {
     "data": {
      "text/plain": [
       "[<matplotlib.lines.Line2D at 0x7f255c18e550>]"
      ]
     },
     "execution_count": 23,
     "metadata": {},
     "output_type": "execute_result"
    },
    {
     "data": {
      "image/png": "[encoded data removed]",
      "text/plain": [
       "<matplotlib.figure.Figure at 0x7f255c1cc748>"
      ]
     },
     "metadata": {},
     "output_type": "display_data"
    }
   ],
   "source": [
    "import matplotlib.pyplot as plt\n",
    "plt.style.use('fivethirtyeight')\n",
    "\n",
    "def f(x):\n",
    "    return x**2-10*x\n",
    "#(x-3)*(x-5)*(x-7)+85\n",
    "\n",
    "import numpy as np\n",
    "x0 = -10        # origem\n",
    "xf = 10         # fim do intervalo\n",
    "n  = 200        # número de pontos que se discretiza o intervalo (x0,xf)\n",
    "x = np.linspace(x0, xf, n)\n",
    "y = f(x)\n",
    "plt.plot(x,y)"
   ]
  },
  {
   "cell_type": "code",
   "execution_count": 24,
   "metadata": {},
   "outputs": [
    {
     "data": {
      "text/plain": [
       "[<matplotlib.lines.Line2D at 0x7f255a0f7860>]"
      ]
     },
     "execution_count": 24,
     "metadata": {},
     "output_type": "execute_result"
    },
    {
     "data": {
      "image/png": "[encoded data removed]",
      "text/plain": [
       "<matplotlib.figure.Figure at 0x7f2593e5fdd8>"
      ]
     },
     "metadata": {},
     "output_type": "display_data"
    }
   ],
   "source": [
    "def g(x):\n",
    "    return x**4 -3*x**2 +4*x -x +2\n",
    "\n",
    "x = np.linspace(-10, 10, 100)\n",
    "y = g(x)\n",
    "plt.plot(x,y)"
   ]
  },
  {
   "cell_type": "markdown",
   "metadata": {},
   "source": [
    "O notebook permite documentar seu fluxo de trabalho usando HTML ou Markdown.\n",
    "\n",
    "O Jupyter Notebook consiste em dois componentes relacionados:\n",
    "\n",
    "* Um formato de documento JSON baseado em Notebook para gravação e distribuição de código Python e texto rico.\n",
    "  - subb1\n",
    "  - sub2\n",
    "* Uma interface de usuário baseada na web para a criação e execução de documentos do notebook.\n",
    "\n",
    "O Notebook pode ser usado iniciando o servidor Notebook com o comando:\n",
    "\n",
    "> $ ipython3 notebook\n",
    "    \n",
    "Isso inicia um **mecanismo IPython**, que é uma instância Python que leva comandos Python através de uma conexão de rede.\n",
    "\n",
    "O **controlador IPython** fornece uma interface para trabalhar com um conjunto de mecanismos, aos quais um ou mais **clientes IPython** podem se conectar.\n",
    "\n",
    "O Notebook dá-lhe tudo o que um navegador lhe dá. Por exemplo, você pode incorporar imagens, vídeos ou sites inteiros."
   ]
  },
  {
   "cell_type": "code",
   "execution_count": 25,
   "metadata": {},
   "outputs": [
    {
     "data": {
      "text/html": [
       "<iframe src=http://jupyter.org/ width=700 height=350></iframe>"
      ],
      "text/plain": [
       "<IPython.core.display.HTML object>"
      ]
     },
     "execution_count": 25,
     "metadata": {},
     "output_type": "execute_result"
    }
   ],
   "source": [
    "from IPython.display import HTML\n",
    "HTML(\"<iframe src=http://jupyter.org/ width=700 height=350></iframe>\")"
   ]
  },
  {
   "cell_type": "code",
   "execution_count": 26,
   "metadata": {
    "slideshow": {
     "slide_type": "slide"
    }
   },
   "outputs": [
    {
     "data": {
      "image/jpeg": "[encoded data removed]",
      "text/html": [
       "\n",
       "        <iframe\n",
       "            width=\"400\"\n",
       "            height=\"300\"\n",
       "            src=\"https://www.youtube.com/embed/rl5DaFbLc60\"\n",
       "            frameborder=\"0\"\n",
       "            allowfullscreen\n",
       "        ></iframe>\n",
       "        "
      ],
      "text/plain": [
       "<IPython.lib.display.YouTubeVideo at 0x7f255df890b8>"
      ]
     },
     "execution_count": 26,
     "metadata": {},
     "output_type": "execute_result"
    }
   ],
   "source": [
    "from IPython.display import YouTubeVideo\n",
    "YouTubeVideo(\"rl5DaFbLc60\")"
   ]
  },
  {
   "cell_type": "markdown",
   "metadata": {},
   "source": [
    "### Código Remoto\n",
    "\n",
    "Use `%load` para adicionar um código remoto"
   ]
  },
  {
   "cell_type": "code",
   "execution_count": 27,
   "metadata": {},
   "outputs": [
    {
     "data": {
      "image/png": "[encoded data removed]",
      "text/plain": [
       "<matplotlib.figure.Figure at 0x7f255a0ab978>"
      ]
     },
     "metadata": {},
     "output_type": "display_data"
    }
   ],
   "source": [
    "# %load http://matplotlib.org/_downloads/polar_legend.py\n",
    "\"\"\"\n",
    "============\n",
    "Polar Legend\n",
    "============\n",
    "\n",
    "Demo of a legend on a polar-axis plot.\n",
    "\"\"\"\n",
    "import numpy as np\n",
    "from matplotlib.pyplot import figure, show, rc\n",
    "\n",
    "# radar green, solid grid lines\n",
    "rc('grid', color='#316931', linewidth=1, linestyle='-')\n",
    "rc('xtick', labelsize=15)\n",
    "rc('ytick', labelsize=15)\n",
    "\n",
    "# force square figure and square axes looks better for polar, IMO\n",
    "fig = figure(figsize=(8, 8))\n",
    "ax = fig.add_axes([0.1, 0.1, 0.8, 0.8],\n",
    "                  projection='polar', facecolor='#d5de9c')\n",
    "\n",
    "r = np.arange(0, 3.0, 0.01)\n",
    "theta = 2 * np.pi * r\n",
    "ax.plot(theta, r, color='#ee8d18', lw=3, label='a line')\n",
    "ax.plot(0.5 * theta, r, color='blue', ls='--', lw=3, label='another line')\n",
    "ax.legend()\n",
    "\n",
    "show()\n"
   ]
  },
  {
   "cell_type": "code",
   "execution_count": 28,
   "metadata": {},
   "outputs": [
    {
     "data": {
      "image/png": "[encoded data removed]",
      "text/plain": [
       "<matplotlib.figure.Figure at 0x7f255c12ad30>"
      ]
     },
     "metadata": {},
     "output_type": "display_data"
    }
   ],
   "source": [
    "# %load http://matplotlib.org/mpl_examples/shapes_and_collections/scatter_demo.py\n",
    "\"\"\"\n",
    "Simple demo of a scatter plot.\n",
    "\"\"\"\n",
    "import numpy as np\n",
    "import matplotlib.pyplot as plt\n",
    "\n",
    "\n",
    "N = 50\n",
    "x = np.random.rand(N)\n",
    "y = np.random.rand(N)\n",
    "colors = np.random.rand(N)\n",
    "area = np.pi * (15 * np.random.rand(N))**2  # 0 to 15 point radii\n",
    "\n",
    "plt.scatter(x, y, s=area, c=colors, alpha=0.5)\n",
    "plt.show()\n"
   ]
  },
  {
   "cell_type": "code",
   "execution_count": 29,
   "metadata": {},
   "outputs": [
    {
     "data": {
      "image/png": "[encoded data removed]",
      "text/plain": [
       "<matplotlib.figure.Figure at 0x7f255819b5c0>"
      ]
     },
     "metadata": {},
     "output_type": "display_data"
    }
   ],
   "source": [
    "# %load http://matplotlib.org/examples/frontpage/plot_contour.py\n",
    "\"\"\"\n",
    "=========================\n",
    "Frontpage contour example\n",
    "=========================\n",
    "\n",
    "This example reproduces the frontpage contour example.\n",
    "\"\"\"\n",
    "\n",
    "import matplotlib.pyplot as plt\n",
    "import numpy as np\n",
    "from matplotlib import mlab, cm\n",
    "\n",
    "extent = (-3, 3, -3, 3)\n",
    "\n",
    "delta = 0.1\n",
    "x = np.arange(-3.0, 4.001, delta)\n",
    "y = np.arange(-4.0, 3.001, delta)\n",
    "X, Y = np.meshgrid(x, y)\n",
    "Z1 = mlab.bivariate_normal(X, Y, 1.0, 1.0, 0.0, -0.5)\n",
    "Z2 = mlab.bivariate_normal(X, Y, 1.5, 0.5, 1, 1)\n",
    "Z = (Z1 - Z2) * 10\n",
    "\n",
    "levels = np.linspace(-2.0, 1.601, 40)\n",
    "norm = cm.colors.Normalize(vmax=abs(Z).max(), vmin=-abs(Z).max())\n",
    "\n",
    "fig, ax = plt.subplots()\n",
    "cset1 = ax.contourf(\n",
    "    X, Y, Z, levels,\n",
    "    norm=norm)\n",
    "ax.set_xlim(-3, 3)\n",
    "ax.set_ylim(-3, 3)\n",
    "ax.set_xticks([])\n",
    "ax.set_yticks([])\n",
    "fig.savefig(\"contour_frontpage.png\", dpi=300)  # results in 160x120 px image\n"
   ]
  },
  {
   "cell_type": "code",
   "execution_count": null,
   "metadata": {},
   "outputs": [],
   "source": [
    "%matplotlib qt5"
   ]
  },
  {
   "cell_type": "code",
   "execution_count": 30,
   "metadata": {},
   "outputs": [
    {
     "data": {
      "image/png": "[encoded data removed]",
      "text/plain": [
       "<matplotlib.figure.Figure at 0x7f2559a0a860>"
      ]
     },
     "metadata": {},
     "output_type": "display_data"
    }
   ],
   "source": [
    "# %load http://matplotlib.org/mpl_examples/mplot3d/contour3d_demo3.py\n",
    "# Para fazer o gráfico em uma janela habilite:\n",
    "# %matplotlib qt\n",
    "from mpl_toolkits.mplot3d import axes3d\n",
    "import matplotlib.pyplot as plt\n",
    "from matplotlib import cm\n",
    "\n",
    "fig = plt.figure()\n",
    "ax = fig.gca(projection='3d')\n",
    "X, Y, Z = axes3d.get_test_data(0.02)\n",
    "ax.plot_surface(X, Y, Z, rstride=10, cstride=10, alpha=0.3)\n",
    "cset = ax.contour(X, Y, Z, zdir='z', offset=-100, cmap=cm.coolwarm)\n",
    "cset = ax.contour(X, Y, Z, zdir='x', offset=-40, cmap=cm.coolwarm)\n",
    "cset = ax.contour(X, Y, Z, zdir='y', offset=40, cmap=cm.coolwarm)\n",
    "\n",
    "ax.set_xlabel('X')\n",
    "ax.set_xlim(-40, 40)\n",
    "ax.set_ylabel('Y')\n",
    "ax.set_ylim(-40, 40)\n",
    "ax.set_zlabel('Z')\n",
    "ax.set_zlim(-100, 100)\n",
    "\n",
    "plt.show()\n"
   ]
  },
  {
   "cell_type": "markdown",
   "metadata": {},
   "source": [
    "### Suporte ao Mathjax \n",
    "\n",
    "Mathjax é uma implementação javascript $\\alpha$ do LaTeX que permite que as equações sejam incorporadas em HTML. Por exemplo, esta marcação:\n",
    "\n",
    "    \"\"\"$$ \\int_{a}^{b} f(x)\\, dx \\approx \\frac{1}{2} \\sum_{k=1}^{N} \\left( x_{k} - x_{k-1} \\right) \\left( f(x_{k}) + f(x_{k-1}) \\right). $$\"\"\"\n",
    "    \n",
    "torna-se:\n",
    "\n",
    "$$\n",
    "\\int_{a}^{b} f(x)\\, dx \\approx \\frac{1}{2} \\sum_{k=1}^{N} \\left( x_{k} - x_{k-1} \\right) \\left( f(x_{k}) + f(x_{k-1}) \\right).\n",
    "$$"
   ]
  },
  {
   "cell_type": "markdown",
   "metadata": {},
   "source": [
    "## Suporte SymPy\n",
    "\n",
    "SymPy é uma biblioteca Python para cálculo simbólico mathematics. Ela suporta:\n",
    "\n",
    "* polinômios\n",
    "* cálculo\n",
    "* resolvendo equações\n",
    "* matemática discreta\n",
    "* matrizes"
   ]
  },
  {
   "cell_type": "code",
   "execution_count": 31,
   "metadata": {},
   "outputs": [],
   "source": [
    "from sympy import *\n",
    "init_printing()\n",
    "x, y = symbols(\"x y\")"
   ]
  },
  {
   "cell_type": "code",
   "execution_count": 32,
   "metadata": {},
   "outputs": [
    {
     "data": {
      "image/png": "[encoded data removed]",
      "text/latex": [
       "$$\\left(x + 1\\right) \\left(x + y\\right)^{3}$$"
      ],
      "text/plain": [
       "               3\n",
       "(x + 1)⋅(x + y) "
      ]
     },
     "execution_count": 32,
     "metadata": {},
     "output_type": "execute_result"
    }
   ],
   "source": [
    "eq = ((x+y)**3 * (x+1))\n",
    "eq"
   ]
  },
  {
   "cell_type": "code",
   "execution_count": 33,
   "metadata": {},
   "outputs": [
    {
     "data": {
      "image/png": "[encoded data removed]",
      "text/latex": [
       "$$x^{4} + 3 x^{3} y + x^{3} + 3 x^{2} y^{2} + 3 x^{2} y + x y^{3} + 3 x y^{2} + y^{3}$$"
      ],
      "text/plain": [
       " 4      3      3      2  2      2        3        2    3\n",
       "x  + 3⋅x ⋅y + x  + 3⋅x ⋅y  + 3⋅x ⋅y + x⋅y  + 3⋅x⋅y  + y "
      ]
     },
     "execution_count": 33,
     "metadata": {},
     "output_type": "execute_result"
    }
   ],
   "source": [
    "expand(eq)"
   ]
  },
  {
   "cell_type": "code",
   "execution_count": 34,
   "metadata": {},
   "outputs": [
    {
     "data": {
      "image/png": "[encoded data removed]",
      "text/latex": [
       "$$1 + \\frac{x^{2}}{2} + \\frac{5 x^{4}}{24} + \\frac{61 x^{6}}{720} + \\frac{277 x^{8}}{8064} + \\frac{50521 x^{10}}{3628800} + \\mathcal{O}\\left(x^{12}\\right)$$"
      ],
      "text/plain": [
       "     2      4       6        8          10         \n",
       "    x    5⋅x    61⋅x    277⋅x    50521⋅x      ⎛ 12⎞\n",
       "1 + ── + ──── + ───── + ────── + ───────── + O⎝x  ⎠\n",
       "    2     24     720     8064     3628800          "
      ]
     },
     "execution_count": 34,
     "metadata": {},
     "output_type": "execute_result"
    }
   ],
   "source": [
    "(1/cos(x)).series(x, 0, 12)"
   ]
  },
  {
   "cell_type": "code",
   "execution_count": 35,
   "metadata": {},
   "outputs": [
    {
     "data": {
      "image/png": "[encoded data removed]",
      "text/latex": [
       "$$- \\frac{1}{6}$$"
      ],
      "text/plain": [
       "-1/6"
      ]
     },
     "execution_count": 35,
     "metadata": {},
     "output_type": "execute_result"
    }
   ],
   "source": [
    "limit((sin(x)-x)/x**3, x, 0)"
   ]
  },
  {
   "cell_type": "code",
   "execution_count": 36,
   "metadata": {},
   "outputs": [
    {
     "data": {
      "image/png": "[encoded data removed]",
      "text/latex": [
       "$$- \\frac{4 x \\cos{\\left (x^{2} \\right )}}{x + 1} \\sin{\\left (x^{2} \\right )} - \\frac{\\cos^{2}{\\left (x^{2} \\right )}}{\\left(x + 1\\right)^{2}}$$"
      ],
      "text/plain": [
       "         ⎛ 2⎞    ⎛ 2⎞      2⎛ 2⎞\n",
       "  4⋅x⋅sin⎝x ⎠⋅cos⎝x ⎠   cos ⎝x ⎠\n",
       "- ─────────────────── - ────────\n",
       "         x + 1                 2\n",
       "                        (x + 1) "
      ]
     },
     "execution_count": 36,
     "metadata": {},
     "output_type": "execute_result"
    }
   ],
   "source": [
    "diff(cos(x**2)**2 / (1+x), x)"
   ]
  },
  {
   "cell_type": "code",
   "execution_count": 37,
   "metadata": {},
   "outputs": [
    {
     "data": {
      "image/png": "[encoded data removed]",
      "text/latex": [
       "$$\\sqrt{x^{2} + y^{2}}$$"
      ],
      "text/plain": [
       "   _________\n",
       "  ╱  2    2 \n",
       "╲╱  x  + y  "
      ]
     },
     "execution_count": 37,
     "metadata": {},
     "output_type": "execute_result"
    }
   ],
   "source": [
    "integrate(x/sqrt(x**2 +y**2),x)"
   ]
  },
  {
   "cell_type": "markdown",
   "metadata": {},
   "source": [
    "### Funções mágicas\n",
    "\n",
    "O IPython tem um conjunto de \"funções mágicas\" predefinidas que você pode chamar com uma sintaxe de estilo de linha de comando. Esses incluem:\n",
    "\n",
    "* `%run`\n",
    "* `%edit`\n",
    "* `%debug`\n",
    "* `%timeit`\n",
    "* `%paste`\n",
    "* `%load_ext`\n",
    "\n"
   ]
  },
  {
   "cell_type": "code",
   "execution_count": null,
   "metadata": {},
   "outputs": [],
   "source": [
    "%lsmagic"
   ]
  },
  {
   "cell_type": "markdown",
   "metadata": {},
   "source": [
    "## Exemplo: O tutor\n",
    "\n",
    "Para executar o código abaixo você precisa de uuma conexão com a internet, pois ele irá executar o comando abaixo no site [Python Tutor](http://pythontutor.com/). Esse site é muito bom para aqueles que estão aprendendo uma linguagem de programação, pois ele linha por linha o que ocorrer na execução de um código. Usando essa ferramenta é possível visualizar códigos escritos nas seguintes linguagens: Python2, Python3, Java, JavaScript, TypeScript, Ruby, C, and C++.\n",
    "\n",
    "Como exemplo, considere o seguinte código:"
   ]
  },
  {
   "cell_type": "code",
   "execution_count": 38,
   "metadata": {},
   "outputs": [
    {
     "data": {
      "text/html": [
       "\n",
       "        <iframe\n",
       "            width=\"100%\"\n",
       "            height=\"500\"\n",
       "            src=\"https://pythontutor.com/iframe-embed.html#code=inicio%3D4%0Afim%3D%2013%20%23%20ele%20sempre%20vai%20terminar%20um%20passo%20antes%2C%20ou%20seja%2C%20em%2012%0Apasso%20%3D%202%0Afor%20i%20in%20range%28inicio%2Cfim%2Cpasso%29%3A%0A%20%20%20%20print%28i%29&origin=opt-frontend.js&cumulative=false&heapPrimitives=false&textReferences=false&py=3&rawInputLstJSON=%5B%5D&curInstr=0&codeDivWidth=350&codeDivHeight=400\"\n",
       "            frameborder=\"0\"\n",
       "            allowfullscreen\n",
       "        ></iframe>\n",
       "        "
      ],
      "text/plain": [
       "<IPython.lib.display.IFrame at 0x7f2553f60e10>"
      ]
     },
     "metadata": {},
     "output_type": "display_data"
    }
   ],
   "source": [
    "%%tutor\n",
    "inicio=4\n",
    "fim= 13 # ele sempre vai terminar um passo antes, ou seja, em 12\n",
    "passo = 2\n",
    "for i in range(inicio,fim,passo):\n",
    "    print(i)"
   ]
  },
  {
   "cell_type": "markdown",
   "metadata": {},
   "source": [
    "Determinando o tempo de execução do código; O comando magic `timeit` existe tanto na forma de linha como de célula:"
   ]
  },
  {
   "cell_type": "code",
   "execution_count": 39,
   "metadata": {},
   "outputs": [
    {
     "name": "stdout",
     "output_type": "stream",
     "text": [
      "13.8 ms ± 1.3 ms per loop (mean ± std. dev. of 7 runs, 100 loops each)\n"
     ]
    }
   ],
   "source": [
    "import numpy as np\n",
    "%timeit np.linalg.eigvals(np.random.rand(100,100))"
   ]
  },
  {
   "cell_type": "code",
   "execution_count": 40,
   "metadata": {},
   "outputs": [
    {
     "name": "stdout",
     "output_type": "stream",
     "text": [
      "12.5 ms ± 149 µs per loop (mean ± std. dev. of 7 runs, 100 loops each)\n"
     ]
    }
   ],
   "source": [
    "%%timeit a = np.random.rand(100, 100)\n",
    "np.linalg.eigvals(a)"
   ]
  },
  {
   "cell_type": "markdown",
   "metadata": {},
   "source": [
    "O IPython também cria *aliases* para alguns intérpretes comuns, como bash, ruby, perl, etc.\n",
    "\n",
    "Estes são todos equivalentes a `%%script <nome>`"
   ]
  },
  {
   "cell_type": "code",
   "execution_count": 41,
   "metadata": {},
   "outputs": [
    {
     "name": "stdout",
     "output_type": "stream",
     "text": [
      "Hello from Ruby 2.3.1\n"
     ]
    }
   ],
   "source": [
    "%%ruby\n",
    "puts \"Hello from Ruby #{RUBY_VERSION}\""
   ]
  },
  {
   "cell_type": "code",
   "execution_count": 42,
   "metadata": {},
   "outputs": [
    {
     "name": "stdout",
     "output_type": "stream",
     "text": [
      "hello from /bin/bash\n"
     ]
    }
   ],
   "source": [
    "%%bash\n",
    "echo \"hello from $BASH\""
   ]
  },
  {
   "cell_type": "markdown",
   "metadata": {},
   "source": [
    "IPython tem uma extensão `rmagic` que contém algumas funções mágicas para trabalhar com R via rpy2. Esta extensão pode ser carregada usando a magia `%load_ext` da seguinte forma:\n"
   ]
  },
  {
   "cell_type": "code",
   "execution_count": null,
   "metadata": {},
   "outputs": [],
   "source": [
    "%load_ext rpy2.ipython"
   ]
  },
  {
   "cell_type": "markdown",
   "metadata": {},
   "source": [
    "Se o comando anterior gerar um erro, é provável que você não tenha o módulo `rpy2` instalado. Você pode instalar isso agora, em uma nova célula, usando o seguinte código:\n",
    "\n",
    "> !sudo apt install python3-rpy2\n",
    "\n",
    "Caso não encontre o pacote, vocẽ pode instalar ele usando o seguinte código:\n",
    "\n",
    "> !sudo -H pip3 install rpy2"
   ]
  },
  {
   "cell_type": "code",
   "execution_count": 43,
   "metadata": {},
   "outputs": [],
   "source": [
    "%load_ext watermark"
   ]
  },
  {
   "cell_type": "code",
   "execution_count": 44,
   "metadata": {},
   "outputs": [
    {
     "name": "stdout",
     "output_type": "stream",
     "text": [
      "2017-11-22T07:52:40-02:00\n",
      "\n",
      "CPython 3.5.2\n",
      "IPython 6.2.1\n",
      "\n",
      "compiler   : GCC 5.4.0 20160609\n",
      "system     : Linux\n",
      "release    : 4.10.0-40-generic\n",
      "machine    : x86_64\n",
      "processor  : x86_64\n",
      "CPU cores  : 4\n",
      "interpreter: 64bit\n"
     ]
    }
   ],
   "source": [
    "%watermark"
   ]
  },
  {
   "cell_type": "code",
   "execution_count": 45,
   "metadata": {},
   "outputs": [
    {
     "name": "stdout",
     "output_type": "stream",
     "text": [
      "last updated: Wed Nov 22 2017 07:52:41 -02\n"
     ]
    }
   ],
   "source": [
    "%watermark -t -n -u -z"
   ]
  },
  {
   "cell_type": "code",
   "execution_count": 46,
   "metadata": {},
   "outputs": [
    {
     "name": "stdout",
     "output_type": "stream",
     "text": [
      "CPython 3.5.2\n",
      "IPython 6.2.1\n",
      "\n",
      "numpy 1.13.3\n",
      "matplotlib 2.1.0\n",
      "scipy 1.0.0\n",
      "\n",
      "compiler   : GCC 5.4.0 20160609\n",
      "system     : Linux\n",
      "release    : 4.10.0-40-generic\n",
      "machine    : x86_64\n",
      "processor  : x86_64\n",
      "CPU cores  : 4\n",
      "interpreter: 64bit\n",
      "Git hash   :\n"
     ]
    }
   ],
   "source": [
    "%watermark -v -m -p numpy,matplotlib,scipy -g"
   ]
  },
  {
   "cell_type": "code",
   "execution_count": null,
   "metadata": {},
   "outputs": [],
   "source": [
    "%watermark?"
   ]
  },
  {
   "cell_type": "markdown",
   "metadata": {},
   "source": [
    "O comando acima retorna a saída:\n",
    "\n",
    "```\n",
    " %watermark [-a AUTHOR] [-d] [-n] [-t] [-i] [-z] [-u] [-c CUSTOM_TIME]\n",
    "                 [-v] [-p PACKAGES] [-h] [-m] [-g] [-r] [-w] [-iv]\n",
    "\n",
    "IPython magic function to print date/time stamps\n",
    "and various system information.\n",
    "\n",
    "optional arguments:\n",
    "  -a AUTHOR, --author AUTHOR\n",
    "                        prints author name\n",
    "  -d, --date            prints current date as YYYY-mm-dd\n",
    "  -n, --datename        prints date with abbrv. day and month names\n",
    "  -t, --time            prints current time as HH-MM-SS\n",
    "  -i, --iso8601         prints the combined date and time including the time\n",
    "                        zone in the ISO 8601 standard with UTC offset\n",
    "  -z, --timezone        appends the local time zone\n",
    "  -u, --updated         appends a string \"Last updated: \"\n",
    "  -c CUSTOM_TIME, --custom_time CUSTOM_TIME\n",
    "                        prints a valid strftime() string\n",
    "  -v, --python          prints Python and IPython version\n",
    "  -p PACKAGES, --packages PACKAGES\n",
    "                        prints versions of specified Python modules and\n",
    "                        packages\n",
    "  -h, --hostname        prints the host name\n",
    "  -m, --machine         prints system and machine info\n",
    "  -g, --githash         prints current Git commit hash\n",
    "  -r, --gitrepo         prints current Git remote address\n",
    "  -w, --watermark       prints the current version of watermark\n",
    "  -iv, --iversions      prints the name/version of all imported modules\n",
    "File:      /usr/local/lib/python3.5/dist-packages/watermark/watermark.py\n",
    "```"
   ]
  },
  {
   "cell_type": "code",
   "execution_count": null,
   "metadata": {},
   "outputs": [],
   "source": [
    "x,y = np.arange(10), np.random.normal(size=10)\n",
    "%R print(lm(rnorm(10)~rnorm(10)))"
   ]
  },
  {
   "cell_type": "markdown",
   "metadata": {},
   "source": [
    "Exemplo de uso do R"
   ]
  },
  {
   "cell_type": "code",
   "execution_count": null,
   "metadata": {},
   "outputs": [],
   "source": [
    "%%R -i x,y -o XYcoef\n",
    "lm.fit <- lm(y~x)\n",
    "par(mfrow=c(2,2))\n",
    "print(summary(lm.fit))\n",
    "plot(lm.fit)\n",
    "XYcoef <- coef(lm.fit)"
   ]
  },
  {
   "cell_type": "code",
   "execution_count": null,
   "metadata": {},
   "outputs": [],
   "source": [
    "XYcoef"
   ]
  },
  {
   "cell_type": "markdown",
   "metadata": {},
   "source": [
    "### LaTeX\n",
    "\n",
    "Além do suporte MathJax, você pode declarar uma célula LaTeX usando o comando magic `%latex`:\n"
   ]
  },
  {
   "cell_type": "code",
   "execution_count": 47,
   "metadata": {},
   "outputs": [
    {
     "data": {
      "text/latex": [
       "\\begin{align}\n",
       "\\nabla \\times \\vec{\\mathbf{B}} -\\, \\frac1c\\, \\frac{\\partial\\vec{\\mathbf{E}}}{\\partial t} & = \\frac{4\\pi}{c}\\vec{\\mathbf{j}} \\\\\n",
       "\\nabla \\cdot \\vec{\\mathbf{E}} & = 4 \\pi \\rho \\\\\n",
       "\\nabla \\times \\vec{\\mathbf{E}}\\, +\\, \\frac1c\\, \\frac{\\partial\\vec{\\mathbf{B}}}{\\partial t} & = \\vec{\\mathbf{0}} \\\\\n",
       "\\nabla \\cdot \\vec{\\mathbf{B}} & = 0\n",
       "\\end{align}"
      ],
      "text/plain": [
       "<IPython.core.display.Latex object>"
      ]
     },
     "metadata": {},
     "output_type": "display_data"
    }
   ],
   "source": [
    "%%latex\n",
    "\\begin{align}\n",
    "\\nabla \\times \\vec{\\mathbf{B}} -\\, \\frac1c\\, \\frac{\\partial\\vec{\\mathbf{E}}}{\\partial t} & = \\frac{4\\pi}{c}\\vec{\\mathbf{j}} \\\\\n",
    "\\nabla \\cdot \\vec{\\mathbf{E}} & = 4 \\pi \\rho \\\\\n",
    "\\nabla \\times \\vec{\\mathbf{E}}\\, +\\, \\frac1c\\, \\frac{\\partial\\vec{\\mathbf{B}}}{\\partial t} & = \\vec{\\mathbf{0}} \\\\\n",
    "\\nabla \\cdot \\vec{\\mathbf{B}} & = 0\n",
    "\\end{align}"
   ]
  },
  {
   "cell_type": "markdown",
   "metadata": {},
   "source": [
    "### A biblioteca matplotlib2tikz\n",
    "\n",
    "A biblioteca [matplotlib2tikz](https://github.com/nschloe/matplotlib2tikz) do Python, é uma ferramenta a qual irá converter as figuras feitas pela biblioteca [matplotlib](#http://matplotlib.org/) em figura PGFPlots (TikZ).\n",
    "\n",
    "\n",
    "This is matplotlib2tikz, a Python tool for converting matplotlib figures into [PGFPlots](#https://www.ctan.org/pkg/pgfplots) ([TikZ](#https://www.ctan.org/pkg/pgf)).\n",
    "\n",
    "Para instalar a biblioteca faça o seguinte:"
   ]
  },
  {
   "cell_type": "code",
   "execution_count": null,
   "metadata": {},
   "outputs": [],
   "source": [
    "!sudo -H pip3.5 install --upgrade matplotlib2tikz"
   ]
  },
  {
   "cell_type": "code",
   "execution_count": 48,
   "metadata": {},
   "outputs": [],
   "source": [
    "%matplotlib inline"
   ]
  },
  {
   "cell_type": "code",
   "execution_count": 49,
   "metadata": {},
   "outputs": [
    {
     "name": "stdout",
     "output_type": "stream",
     "text": [
      "Upgrade to   \u001b[92mmatplotlib2tikz 0.6.14\u001b[0m    available! (installed: 0.6.13)\n",
      "\n",
      "To upgrade matplotlib2tikz with pip, type\n",
      "\n",
      "   pip install -U matplotlib2tikz\n",
      "\n",
      "To upgrade _all_ pip-installed packages, use\n",
      "\n",
      "   pipdate/pipdate3\n",
      "\n",
      "To disable these checks, set SecondsBetweenChecks in /home/salviano/.config/pipdate/config.ini to -1.\n",
      "=========================================================\n",
      "Please add the following lines to your LaTeX preamble:\n",
      "\n",
      "\\usepackage[utf8]{inputenc}\n",
      "\\usepackage{fontspec} % This line only for XeLaTeX and LuaLaTeX\n",
      "\\usepackage{pgfplots}\n",
      "=========================================================\n",
      "Horizontal alignment will be ignored as no 'x tick label text width' has been passed in the 'extra' parameter\n",
      "Horizontal alignment will be ignored as no 'y tick label text width' has been passed in the 'extra' parameter\n"
     ]
    },
    {
     "data": {
      "image/png": "[encoded data removed]",
      "text/plain": [
       "<matplotlib.figure.Figure at 0x7f2553bd96d8>"
      ]
     },
     "metadata": {},
     "output_type": "display_data"
    }
   ],
   "source": [
    "#Agora vamos testar com o seguinte código\n",
    "from matplotlib import pyplot as plt\n",
    "from matplotlib import style\n",
    "import numpy as np\n",
    "fig = plt.figure()\n",
    "style.use('ggplot')\n",
    "t = np.arange(0.0, 2.0, 0.1)\n",
    "s = np.sin(2*np.pi*t)\n",
    "s2 = np.cos(2*np.pi*t)\n",
    "plt.plot(t, s, 'o-', lw=4.1)\n",
    "plt.plot(t, s2, 'o-', lw=4.1)\n",
    "plt.xlabel('time(s)')\n",
    "plt.ylabel('Voltage (mV)')\n",
    "plt.title('Simple plot $\\\\frac{\\\\alpha}{2}$')\n",
    "plt.grid(True)\n",
    "\n",
    "from matplotlib2tikz import save as tikz_save\n",
    "tikz_save('test.pgf')\n",
    "plt.show()"
   ]
  },
  {
   "cell_type": "code",
   "execution_count": 50,
   "metadata": {},
   "outputs": [
    {
     "name": "stdout",
     "output_type": "stream",
     "text": [
      "% This file was created by matplotlib2tikz v0.6.13.\r\n",
      "\\begin{tikzpicture}\r\n",
      "\r\n",
      "\\definecolor{color1}{rgb}{0.203921568627451,0.541176470588235,0.741176470588235}\r\n",
      "\\definecolor{color0}{rgb}{0.886274509803922,0.290196078431373,0.2}\r\n",
      "\r\n",
      "\\begin{axis}[\r\n",
      "title={Simple plot $\\frac{\\alpha}{2}$},\r\n",
      "xlabel={time(s)},\r\n",
      "ylabel={Voltage (mV)},\r\n",
      "xmin=-0.095, xmax=1.995,\r\n",
      "ymin=-1.1, ymax=1.1,\r\n",
      "tick align=outside,\r\n",
      "tick pos=left,\r\n",
      "xmajorgrids,\r\n",
      "x grid style={white},\r\n",
      "ymajorgrids,\r\n",
      "y grid style={white},\r\n",
      "axis line style={white},\r\n",
      "axis background/.style={fill=white!89.803921568627459!black}\r\n",
      "]\r\n",
      "\\addplot [line width=1.64pt, color0, mark=*, mark size=3, mark options={solid}, forget plot]\r\n",
      "table {%\r\n",
      "0 0\r\n",
      "0.1 0.587785252292473\r\n",
      "0.2 0.951056516295154\r\n",
      "0.3 0.951056516295154\r\n",
      "0.4 0.587785252292473\r\n",
      "0.5 1.22464679914735e-16\r\n",
      "0.6 -0.587785252292473\r\n",
      "0.7 -0.951056516295154\r\n",
      "0.8 -0.951056516295154\r\n",
      "0.9 -0.587785252292473\r\n",
      "1 -2.44929359829471e-16\r\n",
      "1.1 0.587785252292474\r\n",
      "1.2 0.951056516295154\r\n",
      "1.3 0.951056516295154\r\n",
      "1.4 0.587785252292473\r\n",
      "1.5 3.67394039744206e-16\r\n",
      "1.6 -0.587785252292473\r\n",
      "1.7 -0.951056516295154\r\n",
      "1.8 -0.951056516295154\r\n",
      "1.9 -0.587785252292473\r\n",
      "};\r\n",
      "\\addplot [line width=1.64pt, color1, mark=*, mark size=3, mark options={solid}, forget plot]\r\n",
      "table {%\r\n",
      "0 1\r\n",
      "0.1 0.809016994374947\r\n",
      "0.2 0.309016994374947\r\n",
      "0.3 -0.309016994374948\r\n",
      "0.4 -0.809016994374947\r\n",
      "0.5 -1\r\n",
      "0.6 -0.809016994374947\r\n",
      "0.7 -0.309016994374948\r\n",
      "0.8 0.309016994374947\r\n",
      "0.9 0.809016994374947\r\n",
      "1 1\r\n",
      "1.1 0.809016994374947\r\n",
      "1.2 0.309016994374947\r\n",
      "1.3 -0.309016994374947\r\n",
      "1.4 -0.809016994374947\r\n",
      "1.5 -1\r\n",
      "1.6 -0.809016994374948\r\n",
      "1.7 -0.309016994374946\r\n",
      "1.8 0.309016994374947\r\n",
      "1.9 0.809016994374947\r\n",
      "};\r\n",
      "\\end{axis}\r\n",
      "\r\n",
      "\\end{tikzpicture}"
     ]
    }
   ],
   "source": [
    "!cat test.pgf"
   ]
  },
  {
   "cell_type": "code",
   "execution_count": 51,
   "metadata": {},
   "outputs": [],
   "source": [
    "%load_ext tikzmagic"
   ]
  },
  {
   "cell_type": "code",
   "execution_count": 52,
   "metadata": {},
   "outputs": [
    {
     "data": {
      "image/png": "[encoded data removed]"
     },
     "metadata": {},
     "output_type": "display_data"
    }
   ],
   "source": [
    "%%tikz \n",
    "\\draw[ultra thick,fill=yellow!60] (1,1) rectangle (9,6);\n",
    "\\begin{scope}\n",
    "  \\clip (6.5,3.5) circle (2);\n",
    "  \\fill[red,ultra thick] (3.5,3.5) circle (2);\n",
    "\\end{scope}\n",
    "\\draw[ultra thick] (3.5,3.5) circle (2) node{\\large A};\n",
    "\\draw[ultra thick] (6.5,3.5) circle (2) node{\\large B};"
   ]
  },
  {
   "cell_type": "markdown",
   "metadata": {},
   "source": [
    "##### Uso\n",
    "\n",
    "Gere seu gráfico com a matplotlib como sempre. Agora ao invez de `pyplot.show()`, deve-se chamar a `matplotlib2tikz` \n",
    "da seguinte forma:\n",
    "```python\n",
    "tikz_save('meu_tikz.pgf')\n",
    "```\n",
    "para a criar um arquivo TikZ com o nome de \"meu_tikz.pgf\". Para isso carregue a biblioteca  com:\n",
    "```python\n",
    "from matplotlib2tikz import save as tikz_save\n",
    "```\n",
    "\n",
    "#### Opcional\n",
    "\n",
    "Os scripts aceitam várias opções, por exemplo `height`, `width`, `encoding`, e algumas outras. Chame elas da seguinte forma:\n",
    "```python\n",
    "tikz_save('meu_tikz.pgf', figureheight='4cm', figurewidth='6cm')\n",
    "```\n",
    "\n",
    "Observe que altura e largura devem ser definidas grandes o suficiente; Configurá-lo muito baixo pode resultar em uma falha de compilação do LaTeX ao longo das linhas de dimensões muito grande ou um `Arithmetic Overflow`; Consulte informações sobre esses erros no manual PGFPlots. Para especificar a dimensão do gráfico a partir do documento \\LaTeX, tente\n",
    "\n",
    "```python\n",
    "    tikz_save(\n",
    "        'meu_tikz.pgf',\n",
    "        figureheight = '\\\\figureheight',\n",
    "        figurewidth = '\\\\figurewidth'\n",
    "        )\n",
    "```\n",
    "\n",
    "e no código fonte LaTeX escreva\n",
    "\n",
    "```latex\n",
    "    \\newlength\\figureheight\n",
    "    \\newlength\\figurewidth\n",
    "    \\setlength\\figureheight{4cm}\n",
    "    \\setlength\\figurewidth{6cm}\n",
    "    \\input{mytikz.tex}\n",
    "```\n",
    "Adicione o conteúdo do arquivo \"meu_tikz.pgf\" em seu código-fonte LaTeX; uma maneira conveniente de fazê-lo é através de \\input{/path/to/meu_tikz.pgf}. Também certifique-se de que no cabeçalho do documento os pacotes para PGFPlots e suporte a Unicode adequada e estão incluídos:\n",
    "\n",
    "```latex\n",
    "    \\usepackage[utf8]{inputenc}\n",
    "    \\usepackage{pgfplots}\n",
    "```\n",
    "Adicionalmente, com o LuaLaTeX\n",
    "\n",
    "```latex\n",
    "    \\usepackage{fontspec}\n",
    "```\n",
    "\n",
    "será necessário para compor os caracteres Unicode. Opcionalmente, para usar os recursos PGFPlots mais recentes,\n",
    "\n",
    "```latex\n",
    "    \\pgfplotsset{compat=newest}\n",
    "```"
   ]
  },
  {
   "cell_type": "markdown",
   "metadata": {},
   "source": [
    "## Javscript\n",
    "\n",
    "O Jupyter também permite que os objetos declarem uma representação JavaScript. No início, isso pode parecer estranho como saída é inerentemente visual e JavaScript é uma linguagem de programação. No entanto, isso abre a porta para a saída rica que aproveita toda a potência do JavaScript e bibliotecas associadas, como D3 para a saída.\n"
   ]
  },
  {
   "cell_type": "code",
   "execution_count": 53,
   "metadata": {},
   "outputs": [
    {
     "data": {
      "application/javascript": [
       "\n",
       "alert(\"Hello world!\");"
      ],
      "text/plain": [
       "<IPython.core.display.Javascript object>"
      ]
     },
     "metadata": {},
     "output_type": "display_data"
    }
   ],
   "source": [
    "%%javascript\n",
    "\n",
    "alert(\"Hello world!\");"
   ]
  },
  {
   "cell_type": "markdown",
   "metadata": {},
   "source": [
    "# Instalando o kernel do Fortran <a name=\"Kernel-Fortran\"></a>\n",
    "\n",
    "Para instalar o [kernel do fortran](https://github.com/ZedThree/jupyter-fortran-kernel) siga os passos a seguir:\n",
    "\n",
    "### Instalação Manual \n",
    "\n",
    "Certifique-se que o seu sistemas tem o seguintes programas instalados:\n",
    "\n",
    "- gfortran\n",
    "- jupyter\n",
    "- python 3\n",
    "- pip3\n",
    "\n",
    "### Instalação passo a passo\n",
    "\n",
    "Siga as instruções na sequência a seguir:\n",
    "\n",
    "```bash\n",
    "> git clone https://github.com/ZedThree/jupyter-fortran-kernel.git\n",
    "> sudo -H pip3 install jupyter-fortran-kernel\n",
    "> cd jupyter-fortran-kernel\n",
    "> sudo -H jupyter-kernelspec install fortran_spec/\n",
    "> jupyter-notebook. \n",
    "```\n",
    "Agora é só testar. Reinicie o jupyter notebook \n"
   ]
  },
  {
   "cell_type": "markdown",
   "metadata": {},
   "source": [
    "# Instalando o kernel do C\n",
    "\n",
    "Para instalar o [kernel do C](https://github.com/brendan-rius/jupyter-c-kernel) siga os passos a seguir:\n",
    "\n",
    "### Instalação Manual \n",
    "\n",
    "Certifique-se que o seu sistemas tem o seguintes programas instalados:\n",
    "\n",
    "- gcc\n",
    "- jupyter\n",
    "- python 3\n",
    "- pip3\n",
    "\n",
    "### Instalação passo a passo\n",
    "\n",
    "Siga as instruções na sequência a seguir:\n",
    "\n",
    "\n",
    "```bash\n",
    "> git clone https://github.com/brendan-rius/jupyter-c-kernel.git\n",
    "> sudo -H pip3 install -U jupyter-c-kernel\n",
    "> cd jupyter-c-kernel\n",
    "> sudo -H jupyter-kernelspec install jupyter_c_kernel/\n",
    "> sudo mv resources /usr/local/lib/python3.5/dist-packages/.\n",
    "> sudo chown -cR root.root /usr/local/lib/python3.5/dist-packages/resources\n",
    "> jupyter-notebook. \n",
    "```\n",
    "Agora é só testar. Reinicie o jupyter notebook "
   ]
  },
  {
   "cell_type": "code",
   "execution_count": null,
   "metadata": {},
   "outputs": [],
   "source": [
    "# Vamos instalar o kernel do C Manualmente\n",
    "!sudo -H pip3 install jupyter-c-kernel"
   ]
  },
  {
   "cell_type": "markdown",
   "metadata": {},
   "source": [
    "É necessário informar ao python onde está o kernel e para isso faremos"
   ]
  },
  {
   "cell_type": "code",
   "execution_count": null,
   "metadata": {},
   "outputs": [],
   "source": [
    "! git clone https://github.com/brendan-rius/jupyter-c-kernel.git"
   ]
  },
  {
   "cell_type": "code",
   "execution_count": null,
   "metadata": {},
   "outputs": [],
   "source": [
    "! sudo pip3.5 install jupyter-c-kernel/"
   ]
  },
  {
   "cell_type": "code",
   "execution_count": null,
   "metadata": {},
   "outputs": [],
   "source": [
    "%%bash\n",
    "sudo cat <<FIM > jupyter-c-kernel/jupyter_c_kernel/kernel.json\n",
    "{\n",
    "  \"argv\": [\n",
    "    \"python3\",\n",
    "    \"-m\",\n",
    "    \"jupyter_c_kernel\",\n",
    "    \"-f\",\n",
    "    \"{connection_file}\"\n",
    "  ],\n",
    "  \"display_name\": \"C\",\n",
    "  \"language\": \"c\"\n",
    "}\n",
    "FIM"
   ]
  },
  {
   "cell_type": "code",
   "execution_count": null,
   "metadata": {},
   "outputs": [],
   "source": [
    "! cd jupyter-c-kernel && sudo -H jupyter-kernelspec install jupyter_c_kernel/"
   ]
  },
  {
   "cell_type": "code",
   "execution_count": null,
   "metadata": {},
   "outputs": [],
   "source": [
    "%%bash\n",
    "if [ -d /usr/local/lib/python3.5/dist-packages/ ]\n",
    "then \n",
    "   echo \"O diretório já existe e foi movido o seu conteúdo\"\n",
    "   sudo mv -f jupyter-c-kernel/resources/* /usr/local/lib/python3.5/dist-packages/resources/.\n",
    "else \n",
    "   echo \"O diretório foi movido com o seu conteúdo\"\n",
    "   sudo mv -f resources /usr/local/lib/python3.5/dist-packages/.\n",
    "fi"
   ]
  },
  {
   "cell_type": "code",
   "execution_count": null,
   "metadata": {},
   "outputs": [],
   "source": [
    "!sudo chown -cR root.root /usr/local/lib/python3.5/dist-packages/resources"
   ]
  },
  {
   "cell_type": "code",
   "execution_count": null,
   "metadata": {},
   "outputs": [],
   "source": [
    "# Se tudo ocorreu bem você já pode remover a pasta do jupyte-c-kernel\n",
    "! rm -rf jupyter-c-kernel"
   ]
  },
  {
   "cell_type": "markdown",
   "metadata": {},
   "source": [
    "O kernel deve estar instalado no diretório: /usr/local/share/jupyter/kernels/c_spec"
   ]
  },
  {
   "cell_type": "code",
   "execution_count": null,
   "metadata": {},
   "outputs": [],
   "source": [
    "# Para verificar liste o diretório\n",
    "! ls -alh /usr/local/share/jupyter/kernels/"
   ]
  },
  {
   "cell_type": "code",
   "execution_count": null,
   "metadata": {},
   "outputs": [],
   "source": [
    "# Para verificar se o arquivo foi criado e o seu conteúdo\n",
    "! cat /usr/local/share/jupyter/kernels/jupyter_c_kernel/kernel.json"
   ]
  },
  {
   "cell_type": "markdown",
   "metadata": {},
   "source": [
    "# Instalando os kernels do Gnuplot e do Scilab\n",
    "\n",
    "Ele é um kernel do Jupyter/IPython para o [Gnuplot](https://github.com/has2k1/gnuplot_kernel) e para o [Scilab](https://github.com/Calysto/scilab_kernel).\n",
    "\n",
    "### Instalação Manual \n",
    "\n",
    "Certifique-se que o seu sistemas tem o seguintes programas instalados:\n",
    "\n",
    "- gnuplot\n",
    "- scilab\n",
    "- jupyter\n",
    "- python 3\n",
    "- pip3\n",
    "- [metakernel](https://github.com/Calysto/metakernel)\n",
    "\n",
    "\n",
    "### Instalação passo a passo\n",
    "\n",
    "```bash\n",
    "sudo -H pip3 install --upgrade metakernel\n",
    "sudo -H pip3 install --upgrade gnuplot_kernel\n",
    "sudo -H pip3 install --upgrade scilab_kernel\n",
    "```\n",
    "\n",
    "Será necessário gera as especificações do metakernel \n",
    "\n",
    "```bash\n",
    "> mkdir metakernel_spec\n",
    "```\n",
    "crie dentro desse diretório o arquivo \"kernel.json\" com o seguinte conteúdo:\n",
    "```json\n",
    "{\n",
    "  \"argv\": [\n",
    "    \"python3\",\n",
    "    \"-m\",\n",
    "    \"metakernel_kernel\",\n",
    "    \"-f\",\n",
    "    \"{connection_file}\"\n",
    "  ],\n",
    "  \"display_name\": \"Metakernel\",\n",
    "  \"language\": \"metakernel\"\n",
    "}\n",
    "```\n",
    "\n",
    "Será necessário gera as especificações do gnuplot_kernel e para isso faça\n",
    "\n",
    "```bash\n",
    "> mkdir metakernel_spec\n",
    "> mkdir gnuplot_spec\n",
    "```\n",
    "crie dentro desse diretório o arquivo \"kernel.json\" com o seguinte conteúdo:\n",
    "```json\n",
    "{\n",
    "  \"argv\": [\n",
    "    \"python3\",\n",
    "    \"-m\",\n",
    "    \"gnuplot_kernel\",\n",
    "    \"-f\",\n",
    "    \"{connection_file}\"\n",
    "  ],\n",
    "  \"display_name\": \"Gnuplot\",\n",
    "  \"language\": \"gnuplot\"\n",
    "}\n",
    "```\n",
    "\n",
    "Agora ative os dois kernels fazendo:\n",
    "\n",
    "```bash\n",
    "> sudo -H jupyter-kernelspec install metakernel_spec/\n",
    "> sudo -H jupyter-kernelspec install gnuplot_spec/\n",
    "> jupyter-notebook. \n",
    "```\n",
    "\n",
    "O metakernel exige que se adicione o seguinte arquivo\n",
    "```bash\n",
    "# /etc/ipython/ipython_config.py\n",
    "c = get_config()\n",
    "startup = [\n",
    "   'from metakernel import register_ipython_magics',\n",
    "   'register_ipython_magics()',\n",
    "]\n",
    "c.InteractiveShellApp.exec_lines = startup\n",
    "```\n",
    "\n",
    "Agora é só testar. Reinicie o jupyter notebook \n",
    "\n",
    "\n",
    "#### Para instalar execute as células  abaixo\n",
    "\n",
    "Para realizar a instalação do kernel do gnuplot e scilab é necessário instalar o metakernel. Antes vá ao menu Kernel --> Change Kernel e veja quais são os kernels que já se  encontram instalados. \n",
    "\n",
    "Portanto siga os passos das células abaixo: "
   ]
  },
  {
   "cell_type": "code",
   "execution_count": null,
   "metadata": {},
   "outputs": [],
   "source": [
    "!sudo -H pip3 install --upgrade metakernel"
   ]
  },
  {
   "cell_type": "code",
   "execution_count": null,
   "metadata": {},
   "outputs": [],
   "source": [
    "%%file ipython_config.py\n",
    "c = get_config()\n",
    "startup = [\n",
    "   'from metakernel import register_ipython_magics',\n",
    "   'register_ipython_magics()',\n",
    "]\n",
    "c.InteractiveShellApp.exec_lines = startup"
   ]
  },
  {
   "cell_type": "code",
   "execution_count": null,
   "metadata": {},
   "outputs": [],
   "source": [
    "!sudo -p mkdir /etc/ipython"
   ]
  },
  {
   "cell_type": "code",
   "execution_count": null,
   "metadata": {},
   "outputs": [],
   "source": [
    "!sudo mv ipython_config.py /etc/ipython/."
   ]
  },
  {
   "cell_type": "code",
   "execution_count": null,
   "metadata": {},
   "outputs": [],
   "source": [
    "!ls -alh /etc/ipython/"
   ]
  },
  {
   "cell_type": "code",
   "execution_count": null,
   "metadata": {},
   "outputs": [],
   "source": [
    "! sudo chown -c root.root /etc/ipython/ipython_config.py"
   ]
  },
  {
   "cell_type": "code",
   "execution_count": null,
   "metadata": {},
   "outputs": [],
   "source": [
    "!sudo -H pip3 install --upgrade gnuplot_kernel"
   ]
  },
  {
   "cell_type": "code",
   "execution_count": null,
   "metadata": {},
   "outputs": [],
   "source": [
    "!sudo -H pip3 install --upgrade scilab_kernel"
   ]
  },
  {
   "cell_type": "code",
   "execution_count": null,
   "metadata": {},
   "outputs": [],
   "source": [
    "!mkdir -p metakernel_spec"
   ]
  },
  {
   "cell_type": "code",
   "execution_count": null,
   "metadata": {},
   "outputs": [],
   "source": [
    "%%file metakernel_spec/kernel.json\n",
    "{\n",
    "  \"argv\": [\n",
    "    \"python3\",\n",
    "    \"-m\",\n",
    "    \"metakernel_kernel\",\n",
    "    \"-f\",\n",
    "    \"{connection_file}\"\n",
    "  ],\n",
    "  \"display_name\": \"Metakernel\",\n",
    "  \"language\": \"metakernel\"\n",
    "}"
   ]
  },
  {
   "cell_type": "code",
   "execution_count": null,
   "metadata": {},
   "outputs": [],
   "source": [
    "!sudo -H jupyter-kernelspec install metakernel_spec/"
   ]
  },
  {
   "cell_type": "code",
   "execution_count": null,
   "metadata": {},
   "outputs": [],
   "source": [
    "!rm -rf metakernel_spec"
   ]
  },
  {
   "cell_type": "code",
   "execution_count": null,
   "metadata": {},
   "outputs": [],
   "source": [
    "!mkdir -p gnuplot_spec"
   ]
  },
  {
   "cell_type": "code",
   "execution_count": null,
   "metadata": {},
   "outputs": [],
   "source": [
    "%%file gnuplot_spec/kernel.json\n",
    "{\n",
    "  \"argv\": [\n",
    "    \"python3\",\n",
    "    \"-m\",\n",
    "    \"gnuplot_kernel\",\n",
    "    \"-f\",\n",
    "    \"{connection_file}\"\n",
    "  ],\n",
    "  \"display_name\": \"Gnuplot\",\n",
    "  \"language\": \"gnuplot\"\n",
    "}"
   ]
  },
  {
   "cell_type": "code",
   "execution_count": null,
   "metadata": {},
   "outputs": [],
   "source": [
    "!cat gnuplot_spec/kernel.json"
   ]
  },
  {
   "cell_type": "code",
   "execution_count": null,
   "metadata": {},
   "outputs": [],
   "source": [
    "!sudo -H jupyter-kernelspec install gnuplot_spec/"
   ]
  },
  {
   "cell_type": "code",
   "execution_count": null,
   "metadata": {},
   "outputs": [],
   "source": [
    "!rm -rf gnuplot_spec"
   ]
  },
  {
   "cell_type": "code",
   "execution_count": null,
   "metadata": {},
   "outputs": [],
   "source": [
    "!mkdir -p scilab_spec"
   ]
  },
  {
   "cell_type": "code",
   "execution_count": null,
   "metadata": {},
   "outputs": [],
   "source": [
    "%%file scilab_spec/kernel.json\n",
    "{\n",
    "  \"argv\": [\n",
    "    \"python3\",\n",
    "    \"-m\",\n",
    "    \"scilab_kernel\",\n",
    "    \"-f\",\n",
    "    \"{connection_file}\"\n",
    "  ],\n",
    "  \"display_name\": \"Scilab\",\n",
    "  \"language\": \"scilab\"\n",
    "}"
   ]
  },
  {
   "cell_type": "code",
   "execution_count": null,
   "metadata": {},
   "outputs": [],
   "source": [
    "!sudo -H jupyter-kernelspec install scilab_spec/"
   ]
  },
  {
   "cell_type": "code",
   "execution_count": null,
   "metadata": {},
   "outputs": [],
   "source": [
    "!rm -rf scilab_spec"
   ]
  },
  {
   "cell_type": "code",
   "execution_count": null,
   "metadata": {},
   "outputs": [],
   "source": [
    "!sudo -H pip3 install --upgrade bash_kernel"
   ]
  },
  {
   "cell_type": "code",
   "execution_count": null,
   "metadata": {},
   "outputs": [],
   "source": [
    "!mkdir -p bash_spec"
   ]
  },
  {
   "cell_type": "code",
   "execution_count": null,
   "metadata": {},
   "outputs": [],
   "source": [
    "%%file bash_spec/kernel.joson\n",
    "{\n",
    "  \"argv\": [\n",
    "    \"python3\",\n",
    "    \"-m\",\n",
    "    \"bash_kernel\",\n",
    "    \"-f\",\n",
    "    \"{connection_file}\"\n",
    "  ],\n",
    "  \"display_name\": \"Bash\",\n",
    "  \"language\": \"bash\"\n",
    "}"
   ]
  },
  {
   "cell_type": "code",
   "execution_count": null,
   "metadata": {},
   "outputs": [],
   "source": [
    "!sudo -H jupyter-kernelspec install bash_spec/"
   ]
  },
  {
   "cell_type": "code",
   "execution_count": null,
   "metadata": {},
   "outputs": [],
   "source": [
    "!rm -rf bash_spec"
   ]
  },
  {
   "cell_type": "markdown",
   "metadata": {},
   "source": [
    "Agora é só testar. Reinicie o jupyter notebook e depois vá no menu Kernel --> Change Kernel e veja se aparece os kernels instalados? Se apareceu está tudo ok."
   ]
  },
  {
   "cell_type": "markdown",
   "metadata": {},
   "source": [
    "## Kernel do Gnuplot\n",
    "\n",
    "Ao iniciar um novo notebook vocẽ agora deve seelcionar o kernel a ser usado. No caso da selecção ter sido o do gnuplo, todas as células de código serão interpretadas como declarações para gnuplot a menos que a célula magic esteja sendo usada. Da mesma forma, cada linha é uma declaração para gnuplot a menos que seja uma linha magic. Vamos ver o que tudo isso significa.\n",
    "\n",
    "Entretanto aqui o kernel que está sendo usado é do Python 3, conforme mostra o canto superior direito da linha que contém o menu deste notebook.\n",
    "\n",
    "Pode-se fazer alguns gráficos usando o gnuplot, para isso deve-se usar as `magics` do notebook. Para carregar a extensão do gnuplot faça `%load_ext gnuplot_kernel`\n"
   ]
  },
  {
   "cell_type": "code",
   "execution_count": 54,
   "metadata": {},
   "outputs": [],
   "source": [
    "# Esse código as magics para o gnuplot\n",
    "%load_ext gnuplot_kernel"
   ]
  },
  {
   "cell_type": "markdown",
   "metadata": {},
   "source": [
    "Agora coloque o seguinte código `%%gnuplot` no início de toda célula que contém um código do gnuplot.\n",
    "\n",
    "Primeiro, um gráfico e um cálculo simples."
   ]
  },
  {
   "cell_type": "code",
   "execution_count": 55,
   "metadata": {},
   "outputs": [
    {
     "data": {
      "image/png": "[encoded data removed]",
      "text/plain": [
       "<IPython.core.display.Image object>"
      ]
     },
     "metadata": {},
     "output_type": "display_data"
    },
    {
     "data": {
      "text/plain": [
       "set grid\n",
       "set samples 200\n",
       "set output '/tmp/gnuplot-inline-1511344442.2007608.12986944765.png'\n",
       "plot sin(x), cos(x),  exp(-x/10)*sin(x)**2\n",
       "\n",
       "\n",
       "\n",
       "\n",
       "gnuplot> gnuplot> gnuplot> gnuplot> unset output"
      ]
     },
     "metadata": {},
     "output_type": "display_data"
    }
   ],
   "source": [
    "%%gnuplot\n",
    "set grid\n",
    "set samples 200\n",
    "plot sin(x), cos(x),  exp(-x/10)*sin(x)**2"
   ]
  },
  {
   "cell_type": "code",
   "execution_count": 56,
   "metadata": {},
   "outputs": [
    {
     "data": {
      "image/png": "[encoded data removed]",
      "text/plain": [
       "<IPython.core.display.Image object>"
      ]
     },
     "metadata": {},
     "output_type": "display_data"
    },
    {
     "data": {
      "text/plain": [
       "set parametric\n",
       "\n",
       "\tdummy variable is t for curves, u/v for surfaces\n",
       "set contour base\n",
       "set grid xtics ytics ztics\n",
       "unset key\n",
       "set output '/tmp/gnuplot-inline-1511344448.213879.121646573712.png'\n",
       "splot cos(u)*cos(v),2*sin(u)*cos(v),3*sin(v)\n",
       "unset output"
      ]
     },
     "metadata": {},
     "output_type": "display_data"
    }
   ],
   "source": [
    "%%gnuplot\n",
    "set parametric\n",
    "set contour base\n",
    "set grid xtics ytics ztics\n",
    "unset key\n",
    "splot cos(u)*cos(v),2*sin(u)*cos(v),3*sin(v)"
   ]
  },
  {
   "cell_type": "markdown",
   "metadata": {},
   "source": [
    "# Instalando o kernel do C ++ para o notebook Jupyter: Cling <a name=\"Kernel-Cpp\"></a>\n",
    "\n",
    "A seguir mostramos como instalar o [kernel do c++](http://shuvomoy.github.io/blog/programming/2016/08/04/Cpp-kernel-for-Jupyter.html) no jupyter e para isso será usado o interpretador cling.\n",
    "\n",
    "O cling é um intérpretador interativo do C++; Ele nos permite digitar e executar código C ++ dinamicamente, como Python ou Julia. Os desenvolvedores fornecem instantâneos binários para Cling em https://root.cern.ch/download/cling/. Baixe e extraia o associado à sua plataforma e sistema operacional. Considere que o nome do caminho para a pasta extraída é `/home/ubuntu_user/cling_ubuntu`. Haverá uma pasta chamada `bin`, que contém o binário Cling. Precisamos adicionar o caminho, ou seja, `/home/ubuntu_user/cling_ubuntu/bin` no caminho (*PATH*). Então, abra um terminal e digite o seguinte.\n",
    "\n",
    "\n",
    "```bassh\n",
    "export PATH=/home/ubuntu_user/cling_ubuntu/bin:$PATH\n",
    "```\n",
    "\n",
    "\n",
    "Agora precisamos instalar o kernel Cling para o Jupyter. Para fazer isso, adicione o caminho para o kernel do Jupyter chamado `/home/ubuntu_user/cling_ubuntu/share/cling/Jupyter/kernel`. No terminal, alteramos o diretório para ele e instalamos o kernel da seguinte forma.\n",
    "\n",
    "```bash\n",
    "cd /cling-install-prefix/share/cling/Jupyter/kernel\n",
    "\n",
    "sudo -H pip3 install -e .\n",
    "```\n",
    "\n",
    "Agora, para finalizar devemos registrar para o kernelspec:\n",
    "\n",
    "sudo -H jupyter-kernelspec install cling.\n",
    "\n",
    "Se você ainda não o fez, instale um compilador C++ como g++ e para isso use o terminal ou synaptic.\n",
    "\n",
    "Certo, já terminamos. Para iniciar um notebook jupyter com kernel C++, basta digitar o seguinte no terminal:\n",
    "\n",
    "> jupyter-notebook\n",
    "\n",
    "Uma página da Web denominada Início será aberta. No canto superior direito, teremos um botão intitulado novo, clique nele e selecione C ++."
   ]
  },
  {
   "cell_type": "markdown",
   "metadata": {},
   "source": [
    "## Exportando e Convertendo Notebooks\n",
    "\n",
    "No Jupyter, é possível converter um arquivo de documentos do notebook `.ipynb` em vários formatos estáticos através da ferramenta `nbconvert`. Atualmente, nbconvert é uma ferramenta de linha de comando, executado como um script usando Jupyter."
   ]
  },
  {
   "cell_type": "code",
   "execution_count": 65,
   "metadata": {},
   "outputs": [
    {
     "name": "stdout",
     "output_type": "stream",
     "text": [
      "[NbConvertApp] Converting notebook 01-Instalacao-e-configuracao-do-IPython-e-Jupyter.ipynb to pdf\n",
      "pandoc: Duplicate link reference `[//]' \"source\" (line 20, column 1)\n",
      "pandoc: Duplicate link reference `[//]' \"source\" (line 16, column 1)\n",
      "pandoc: Duplicate link reference `[//]' \"source\" (line 14, column 1)\n",
      "pandoc: Duplicate link reference `[//]' \"source\" (line 12, column 1)\n",
      "pandoc: Duplicate link reference `[comment]' \"source\" (line 8, column 1)\n",
      "pandoc: Duplicate link reference `[comment]' \"source\" (line 6, column 1)\n",
      "[NbConvertApp] Support files will be in 01-Instalacao-e-configuracao-do-IPython-e-Jupyter_files/\n",
      "[NbConvertApp] Making directory 01-Instalacao-e-configuracao-do-IPython-e-Jupyter_files\n",
      "[NbConvertApp] Making directory 01-Instalacao-e-configuracao-do-IPython-e-Jupyter_files\n",
      "[NbConvertApp] Making directory 01-Instalacao-e-configuracao-do-IPython-e-Jupyter_files\n",
      "[NbConvertApp] Making directory 01-Instalacao-e-configuracao-do-IPython-e-Jupyter_files\n",
      "[NbConvertApp] Making directory 01-Instalacao-e-configuracao-do-IPython-e-Jupyter_files\n",
      "[NbConvertApp] Making directory 01-Instalacao-e-configuracao-do-IPython-e-Jupyter_files\n",
      "[NbConvertApp] Making directory 01-Instalacao-e-configuracao-do-IPython-e-Jupyter_files\n",
      "[NbConvertApp] Making directory 01-Instalacao-e-configuracao-do-IPython-e-Jupyter_files\n",
      "[NbConvertApp] Making directory 01-Instalacao-e-configuracao-do-IPython-e-Jupyter_files\n",
      "[NbConvertApp] Making directory 01-Instalacao-e-configuracao-do-IPython-e-Jupyter_files\n",
      "[NbConvertApp] Making directory 01-Instalacao-e-configuracao-do-IPython-e-Jupyter_files\n",
      "[NbConvertApp] Making directory 01-Instalacao-e-configuracao-do-IPython-e-Jupyter_files\n",
      "[NbConvertApp] Making directory 01-Instalacao-e-configuracao-do-IPython-e-Jupyter_files\n",
      "[NbConvertApp] Making directory 01-Instalacao-e-configuracao-do-IPython-e-Jupyter_files\n",
      "[NbConvertApp] Making directory 01-Instalacao-e-configuracao-do-IPython-e-Jupyter_files\n",
      "[NbConvertApp] Making directory 01-Instalacao-e-configuracao-do-IPython-e-Jupyter_files\n",
      "[NbConvertApp] Making directory 01-Instalacao-e-configuracao-do-IPython-e-Jupyter_files\n",
      "[NbConvertApp] Making directory 01-Instalacao-e-configuracao-do-IPython-e-Jupyter_files\n",
      "[NbConvertApp] Writing 160008 bytes to notebook.tex\n",
      "[NbConvertApp] Building PDF\n",
      "[NbConvertApp] Running xelatex 3 times: ['xelatex', 'notebook.tex']\n",
      "[NbConvertApp] CRITICAL | xelatex failed: ['xelatex', 'notebook.tex']\n",
      "This is XeTeX, Version 3.14159265-2.6-0.99992 (TeX Live 2015/Debian) (preloaded format=xelatex)\n",
      " restricted \\write18 enabled.\n",
      "entering extended mode\n",
      "(./notebook.tex\n",
      "LaTeX2e <2016/02/01>\n",
      "Babel <3.9q> and hyphenation patterns for 81 language(s) loaded.\n",
      "(/usr/share/texlive/texmf-dist/tex/latex/base/article.cls\n",
      "Document Class: article 2014/09/29 v1.4h Standard LaTeX document class\n",
      "(/usr/share/texlive/texmf-dist/tex/latex/base/size11.clo))\n",
      "(/usr/share/texlive/texmf-dist/tex/latex/base/fontenc.sty\n",
      "(/usr/share/texlive/texmf-dist/tex/latex/base/t1enc.def))\n",
      "(/usr/share/texlive/texmf-dist/tex/latex/psnfss/mathpazo.sty)\n",
      "(/usr/share/texlive/texmf-dist/tex/latex/graphics/graphicx.sty\n",
      "(/usr/share/texlive/texmf-dist/tex/latex/graphics/keyval.sty)\n",
      "(/usr/share/texlive/texmf-dist/tex/latex/graphics/graphics.sty\n",
      "(/usr/share/texlive/texmf-dist/tex/latex/graphics/trig.sty)\n",
      "(/usr/share/texlive/texmf-dist/tex/latex/latexconfig/graphics.cfg)\n",
      "(/usr/share/texlive/texmf-dist/tex/xelatex/xetex-def/xetex.def\n",
      "(/usr/share/texlive/texmf-dist/tex/generic/oberdiek/infwarerr.sty)\n",
      "(/usr/share/texlive/texmf-dist/tex/generic/oberdiek/ltxcmds.sty))))\n",
      "(/usr/share/texlive/texmf-dist/tex/latex/caption/caption.sty\n",
      "(/usr/share/texlive/texmf-dist/tex/latex/caption/caption3.sty))\n",
      "(/usr/share/texlive/texmf-dist/tex/latex/adjustbox/adjustbox.sty\n",
      "(/usr/share/texlive/texmf-dist/tex/latex/xkeyval/xkeyval.sty\n",
      "(/usr/share/texlive/texmf-dist/tex/generic/xkeyval/xkeyval.tex\n",
      "(/usr/share/texlive/texmf-dist/tex/generic/xkeyval/xkvutils.tex)))\n",
      "(/usr/share/texlive/texmf-dist/tex/latex/adjustbox/adjcalc.sty)\n",
      "(/usr/share/texlive/texmf-dist/tex/latex/adjustbox/trimclip.sty\n",
      "(/usr/share/texlive/texmf-dist/tex/latex/collectbox/collectbox.sty)\n",
      "(/usr/share/texlive/texmf-dist/tex/latex/adjustbox/tc-xetex.def))\n",
      "(/usr/share/texlive/texmf-dist/tex/latex/ifoddpage/ifoddpage.sty)\n",
      "(/usr/share/texlive/texmf-dist/tex/latex/varwidth/varwidth.sty))\n",
      "(/usr/share/texmf/tex/latex/xcolor/xcolor.sty\n",
      "(/usr/share/texlive/texmf-dist/tex/latex/latexconfig/color.cfg))\n",
      "(/usr/share/texlive/texmf-dist/tex/latex/tools/enumerate.sty)\n",
      "(/usr/share/texlive/texmf-dist/tex/latex/geometry/geometry.sty\n",
      "(/usr/share/texlive/texmf-dist/tex/generic/oberdiek/ifpdf.sty)\n",
      "(/usr/share/texlive/texmf-dist/tex/generic/oberdiek/ifvtex.sty)\n",
      "(/usr/share/texlive/texmf-dist/tex/generic/ifxetex/ifxetex.sty))\n",
      "(/usr/share/texlive/texmf-dist/tex/latex/amsmath/amsmath.sty\n",
      "For additional information on amsmath, use the `?' option.\n",
      "(/usr/share/texlive/texmf-dist/tex/latex/amsmath/amstext.sty\n",
      "(/usr/share/texlive/texmf-dist/tex/latex/amsmath/amsgen.sty))\n",
      "(/usr/share/texlive/texmf-dist/tex/latex/amsmath/amsbsy.sty)\n",
      "(/usr/share/texlive/texmf-dist/tex/latex/amsmath/amsopn.sty))\n",
      "(/usr/share/texlive/texmf-dist/tex/latex/amsfonts/amssymb.sty\n",
      "(/usr/share/texlive/texmf-dist/tex/latex/amsfonts/amsfonts.sty))\n",
      "(/usr/share/texlive/texmf-dist/tex/latex/base/textcomp.sty\n",
      "(/usr/share/texlive/texmf-dist/tex/latex/base/ts1enc.def))\n",
      "(/usr/share/texlive/texmf-dist/tex/latex/upquote/upquote.sty)\n",
      "(/usr/share/texlive/texmf-dist/tex/latex/eurosym/eurosym.sty)\n",
      "(/usr/share/texlive/texmf-dist/tex/latex/ucs/ucs.sty\n",
      "(/usr/share/texlive/texmf-dist/tex/latex/ucs/data/uni-global.def))\n",
      "(/usr/share/texlive/texmf-dist/tex/latex/base/inputenc.sty\n",
      "\n",
      "Package inputenc Warning: inputenc package ignored with utf8 based engines.\n",
      "\n",
      ") (/usr/share/texlive/texmf-dist/tex/latex/fancyvrb/fancyvrb.sty\n",
      "Style option: `fancyvrb' v2.7a, with DG/SPQR fixes, and firstline=lastline fix \n",
      "<2008/02/07> (tvz))\n",
      "(/usr/share/texlive/texmf-dist/tex/latex/oberdiek/grffile.sty\n",
      "(/usr/share/texlive/texmf-dist/tex/latex/oberdiek/kvoptions.sty\n",
      "(/usr/share/texlive/texmf-dist/tex/generic/oberdiek/kvsetkeys.sty\n",
      "(/usr/share/texlive/texmf-dist/tex/generic/oberdiek/etexcmds.sty\n",
      "(/usr/share/texlive/texmf-dist/tex/generic/oberdiek/ifluatex.sty))))\n",
      "(/usr/share/texlive/texmf-dist/tex/generic/oberdiek/pdftexcmds.sty))\n",
      "(/usr/share/texlive/texmf-dist/tex/latex/hyperref/hyperref.sty\n",
      "(/usr/share/texlive/texmf-dist/tex/generic/oberdiek/hobsub-hyperref.sty\n",
      "(/usr/share/texlive/texmf-dist/tex/generic/oberdiek/hobsub-generic.sty))\n",
      "(/usr/share/texlive/texmf-dist/tex/latex/oberdiek/auxhook.sty)\n",
      "(/usr/share/texlive/texmf-dist/tex/latex/hyperref/pd1enc.def)\n",
      "(/usr/share/texlive/texmf-dist/tex/latex/latexconfig/hyperref.cfg)\n",
      "(/usr/share/texlive/texmf-dist/tex/latex/url/url.sty))\n",
      "\n",
      "Package hyperref Message: Driver (autodetected): hxetex.\n",
      "\n",
      "(/usr/share/texlive/texmf-dist/tex/latex/hyperref/hxetex.def\n",
      "(/usr/share/texlive/texmf-dist/tex/latex/hyperref/puenc.def)\n",
      "(/usr/share/texlive/texmf-dist/tex/generic/oberdiek/stringenc.sty)\n",
      "(/usr/share/texlive/texmf-dist/tex/latex/oberdiek/rerunfilecheck.sty))\n",
      "(/usr/share/texlive/texmf-dist/tex/latex/tools/longtable.sty)\n",
      "(/usr/share/texlive/texmf-dist/tex/latex/booktabs/booktabs.sty)\n",
      "(/usr/share/texlive/texmf-dist/tex/latex/enumitem/enumitem.sty)\n",
      "(/usr/share/texlive/texmf-dist/tex/generic/ulem/ulem.sty)\n",
      "No file notebook.aux.\n",
      "(/usr/share/texlive/texmf-dist/tex/latex/base/ts1cmr.fd)\n",
      "(/usr/share/texlive/texmf-dist/tex/latex/psnfss/t1ppl.fd)\n",
      "(/usr/share/texlive/texmf-dist/tex/latex/caption/ltcaption.sty)\n",
      "*geometry* driver: auto-detecting\n",
      "*geometry* detected driver: xetex\n",
      "*geometry* verbose mode - [ preamble ] result:\n",
      "* driver: xetex\n",
      "* paper: <default>\n",
      "* layout: <same size as paper>\n",
      "* layoutoffset:(h,v)=(0.0pt,0.0pt)\n",
      "* modes: \n",
      "* h-part:(L,W,R)=(72.26999pt, 469.75502pt, 72.26999pt)\n",
      "* v-part:(T,H,B)=(72.26999pt, 650.43001pt, 72.26999pt)\n",
      "* \\paperwidth=614.295pt\n",
      "* \\paperheight=794.96999pt\n",
      "* \\textwidth=469.75502pt\n",
      "* \\textheight=650.43001pt\n",
      "* \\oddsidemargin=0.0pt\n",
      "* \\evensidemargin=0.0pt\n",
      "* \\topmargin=-37.0pt\n",
      "* \\headheight=12.0pt\n",
      "* \\headsep=25.0pt\n",
      "* \\topskip=11.0pt\n",
      "* \\footskip=30.0pt\n",
      "* \\marginparwidth=59.0pt\n",
      "* \\marginparsep=10.0pt\n",
      "* \\columnsep=10.0pt\n",
      "* \\skip\\footins=10.0pt plus 4.0pt minus 2.0pt\n",
      "* \\hoffset=0.0pt\n",
      "* \\voffset=0.0pt\n",
      "* \\mag=1000\n",
      "* \\@twocolumnfalse\n",
      "* \\@twosidefalse\n",
      "* \\@mparswitchfalse\n",
      "* \\@reversemarginfalse\n",
      "* (1in=72.27pt=25.4mm, 1cm=28.453pt)\n",
      "\n",
      "(/usr/share/texlive/texmf-dist/tex/latex/ucs/ucsencs.def)\n",
      "(/usr/share/texlive/texmf-dist/tex/latex/hyperref/nameref.sty\n",
      "(/usr/share/texlive/texmf-dist/tex/generic/oberdiek/gettitlestring.sty))\n",
      "\n",
      "Package hyperref Warning: Rerun to get /PageLabels entry.\n",
      "\n",
      "(/usr/share/texlive/texmf-dist/tex/latex/psnfss/ot1ppl.fd)\n",
      "(/usr/share/texlive/texmf-dist/tex/latex/psnfss/omlzplm.fd)\n",
      "(/usr/share/texlive/texmf-dist/tex/latex/psnfss/omszplm.fd)\n",
      "(/usr/share/texlive/texmf-dist/tex/latex/psnfss/omxzplm.fd)\n",
      "(/usr/share/texlive/texmf-dist/tex/latex/psnfss/ot1zplm.fd)\n",
      "\n",
      "LaTeX Warning: No \\author given.\n",
      "\n",
      "<use  \"Cab_IF_Red.png\" >\n",
      "(/usr/share/texlive/texmf-dist/tex/generic/oberdiek/se-ascii-print.def)\n",
      "(/usr/share/texlive/texmf-dist/tex/latex/psnfss/ts1ppl.fd)\n",
      "\n",
      "LaTeX Warning: Reference `porque-python' on page 1 undefined on input line 299.\n",
      "\n",
      "\n",
      "\n",
      "LaTeX Warning: Reference `documentação' on page 1 undefined on input line 301.\n",
      "\n",
      "\n",
      "LaTeX Warning: Reference `o-projeto-jupyteripython' on page 1 undefined on inpu\n",
      "t line 303.\n",
      "\n",
      "\n",
      "LaTeX Warning: Reference `o-que-você-precisa-instalar' on page 1 undefined on i\n",
      "nput line 305.\n",
      "\n",
      "\n",
      "LaTeX Warning: Reference `instalando-o-jupyter-notebook' on page 1 undefined on\n",
      " input line 307.\n",
      "\n",
      "\n",
      "LaTeX Warning: Reference `prerequisito' on page 1 undefined on input line 309.\n",
      "\n",
      "\n",
      "LaTeX Warning: Reference `anaconda' on page 1 undefined on input line 311.\n",
      "\n",
      "\n",
      "LaTeX Warning: Reference `pip' on page 1 undefined on input line 313.\n",
      "\n",
      "\n",
      "LaTeX Warning: Reference `verificando-minha-instalação' on page 1 undefined on \n",
      "input line 315.\n",
      "\n",
      "\n",
      "LaTeX Warning: Reference `ipython' on page 1 undefined on input line 317.\n",
      "\n",
      "\n",
      "LaTeX Warning: Reference `a-saída-é-assíncrona' on page 1 undefined on input li\n",
      "ne 319.\n",
      "\n",
      "\n",
      "LaTeX Warning: Reference `introspecção' on page 1 undefined on input line 321.\n",
      "\n",
      "\n",
      "LaTeX Warning: Reference `completar-com-tab' on page 1 undefined on input line \n",
      "323.\n",
      "\n",
      "\n",
      "LaTeX Warning: Reference `comandos-do-sistema' on page 1 undefined on input lin\n",
      "e 325.\n",
      "\n",
      "\n",
      "LaTeX Warning: Reference `console20-qt' on page 1 undefined on input line 327.\n",
      "\n",
      "\n",
      "LaTeX Warning: Reference `jupyter-notebook' on page 1 undefined on input line 3\n",
      "29.\n",
      "\n",
      "\n",
      "LaTeX Warning: Reference `código-remoto' on page 1 undefined on input line 331.\n",
      "\n",
      "\n",
      "\n",
      "LaTeX Warning: Reference `suporte-ao-mathjax' on page 1 undefined on input line\n",
      " 333.\n",
      "\n",
      "\n",
      "LaTeX Warning: Reference `suporte-sympy' on page 1 undefined on input line 335.\n",
      "\n",
      "\n",
      "\n",
      "LaTeX Warning: Reference `funções-mágicas' on page 1 undefined on input line 33\n",
      "7.\n",
      "\n",
      "\n",
      "LaTeX Warning: Reference `latex' on page 1 undefined on input line 339.\n",
      "\n",
      "\n",
      "LaTeX Warning: Reference `a-biblioteca-matplotlib2tikz' on page 1 undefined on \n",
      "input line 341.\n",
      "\n",
      "\n",
      "LaTeX Warning: Reference `javascript' on page 1 undefined on input line 343.\n",
      "\n",
      "[1]\n",
      "\n",
      "LaTeX Warning: Reference `kernel-fortran' on page 2 undefined on input line 345\n",
      ".\n",
      "\n",
      "\n",
      "LaTeX Warning: Reference `instalando-o-kernel-do-c' on page 2 undefined on inpu\n",
      "t line 347.\n",
      "\n",
      "\n",
      "LaTeX Warning: Reference `instalando-os-kernels-do-gnuplot-e-do-scilab' on page\n",
      " 2 undefined on input line 349.\n",
      "\n",
      "\n",
      "LaTeX Warning: Reference `kernel-cpp' on page 2 undefined on input line 351.\n",
      "\n",
      "\n",
      "LaTeX Warning: Reference `exportando-e-convertendo-notebooks' on page 2 undefin\n",
      "ed on input line 353.\n",
      "\n",
      "\n",
      "LaTeX Warning: Reference `pesquisa20reproduzível' on page 2 undefined on input \n",
      "line 355.\n",
      "\n",
      "\n",
      "LaTeX Warning: Reference `ipython20paralelo' on page 2 undefined on input line \n",
      "357.\n",
      "\n",
      "\n",
      "LaTeX Warning: Reference `células-markdown' on page 2 undefined on input line 3\n",
      "59.\n",
      "\n",
      "\n",
      "LaTeX Warning: Reference `links-e-referências' on page 2 undefined on input lin\n",
      "e 361.\n",
      "\n",
      "[2] [3] (/usr/share/texlive/texmf-dist/tex/latex/base/t1cmtt.fd) [4]\n",
      "(/usr/share/texlive/texmf-dist/tex/latex/base/ts1cmtt.fd) [5] [6] [7] [8]\n",
      "Underfull \\hbox (badness 1681) in paragraph at lines 982--984\n",
      "[]\\T1/ppl/m/n/10.95 Site: http://www.crummy.com/software/BeautifulSoup/ Ver-são\n",
      " at-ual: 4.3.2 O pa-cote\n",
      "[9] [10] [11] [12]\n",
      "\n",
      "Package hyperref Warning: Difference (2) between bookmark levels is greater \n",
      "(hyperref)                than one, level fixed on input line 1251.\n",
      "\n",
      "[13] [14] [15]\n",
      "\n",
      "LaTeX Warning: File `Figs/Jupyter_QtConsole.png' not found on input line 1546.\n",
      "\n",
      "! Unable to load picture or PDF file 'Figs/Jupyter_QtConsole.png'.\n",
      "<to be read again> \n",
      "                   }\n",
      "l.1546 ...ludegraphics{Figs/Jupyter_QtConsole.png}\n",
      "                                                  \n",
      "? \n",
      "! Emergency stop.\n",
      "<to be read again> \n",
      "                   }\n",
      "l.1546 ...ludegraphics{Figs/Jupyter_QtConsole.png}\n",
      "                                                  \n",
      "Output written on notebook.pdf (15 pages).\n",
      "Transcript written on notebook.log.\n",
      "\n",
      "[NbConvertApp] PDF successfully created\n",
      "[NbConvertApp] Writing 91851 bytes to 01-Instalacao-e-configuracao-do-IPython-e-Jupyter.pdf\n"
     ]
    }
   ],
   "source": [
    "!jupyter nbconvert --to pdf 01-Instalacao-e-configuracao-do-IPython-e-Jupyter.ipynb"
   ]
  },
  {
   "cell_type": "markdown",
   "metadata": {},
   "source": [
    "Atualmente, `nbconvert` suporta HTML (padrão), LaTeX, Markdown, reStructuredText, Python e Slides HTML5 para apresentações. Alguns tipos podem ser pós-processados, como LaTeX para PDF (isso requer [Pandoc](http://johnmacfarlane.net/pandoc/) para ser instalado, no entanto)."
   ]
  },
  {
   "cell_type": "code",
   "execution_count": 66,
   "metadata": {},
   "outputs": [
    {
     "name": "stdout",
     "output_type": "stream",
     "text": [
      "[NbConvertApp] Converting notebook 01-Instalacao-e-configuracao-do-IPython-e-Jupyter.ipynb to latex\n",
      "pandoc: Duplicate link reference `[//]' \"source\" (line 20, column 1)\n",
      "pandoc: Duplicate link reference `[//]' \"source\" (line 16, column 1)\n",
      "pandoc: Duplicate link reference `[//]' \"source\" (line 14, column 1)\n",
      "pandoc: Duplicate link reference `[//]' \"source\" (line 12, column 1)\n",
      "pandoc: Duplicate link reference `[comment]' \"source\" (line 8, column 1)\n",
      "pandoc: Duplicate link reference `[comment]' \"source\" (line 6, column 1)\n",
      "[NbConvertApp] Support files will be in 01-Instalacao-e-configuracao-do-IPython-e-Jupyter_files/\n",
      "[NbConvertApp] Making directory 01-Instalacao-e-configuracao-do-IPython-e-Jupyter_files\n",
      "[NbConvertApp] Making directory 01-Instalacao-e-configuracao-do-IPython-e-Jupyter_files\n",
      "[NbConvertApp] Making directory 01-Instalacao-e-configuracao-do-IPython-e-Jupyter_files\n",
      "[NbConvertApp] Making directory 01-Instalacao-e-configuracao-do-IPython-e-Jupyter_files\n",
      "[NbConvertApp] Making directory 01-Instalacao-e-configuracao-do-IPython-e-Jupyter_files\n",
      "[NbConvertApp] Making directory 01-Instalacao-e-configuracao-do-IPython-e-Jupyter_files\n",
      "[NbConvertApp] Making directory 01-Instalacao-e-configuracao-do-IPython-e-Jupyter_files\n",
      "[NbConvertApp] Making directory 01-Instalacao-e-configuracao-do-IPython-e-Jupyter_files\n",
      "[NbConvertApp] Making directory 01-Instalacao-e-configuracao-do-IPython-e-Jupyter_files\n",
      "[NbConvertApp] Making directory 01-Instalacao-e-configuracao-do-IPython-e-Jupyter_files\n",
      "[NbConvertApp] Making directory 01-Instalacao-e-configuracao-do-IPython-e-Jupyter_files\n",
      "[NbConvertApp] Making directory 01-Instalacao-e-configuracao-do-IPython-e-Jupyter_files\n",
      "[NbConvertApp] Making directory 01-Instalacao-e-configuracao-do-IPython-e-Jupyter_files\n",
      "[NbConvertApp] Making directory 01-Instalacao-e-configuracao-do-IPython-e-Jupyter_files\n",
      "[NbConvertApp] Making directory 01-Instalacao-e-configuracao-do-IPython-e-Jupyter_files\n",
      "[NbConvertApp] Making directory 01-Instalacao-e-configuracao-do-IPython-e-Jupyter_files\n",
      "[NbConvertApp] Making directory 01-Instalacao-e-configuracao-do-IPython-e-Jupyter_files\n",
      "[NbConvertApp] Making directory 01-Instalacao-e-configuracao-do-IPython-e-Jupyter_files\n",
      "[NbConvertApp] Writing 160009 bytes to 01-Instalacao-e-configuracao-do-IPython-e-Jupyter.tex\n"
     ]
    }
   ],
   "source": [
    "!jupyter nbconvert --to latex 01-Instalacao-e-configuracao-do-IPython-e-Jupyter.ipynb"
   ]
  },
  {
   "cell_type": "code",
   "execution_count": 67,
   "metadata": {},
   "outputs": [],
   "source": [
    "!evince 01-Instalacao-e-configuracao-do-IPython-e-Jupyter.pdf"
   ]
  },
  {
   "cell_type": "markdown",
   "metadata": {},
   "source": [
    "Um serviço on-line muito útil é o [IPython Notebook Viewer](http://nbviewer.ipython.org) que permite que você exiba seu notebook como uma página HTML estática, que é útil para compartilhar com outras pessoas:"
   ]
  },
  {
   "cell_type": "code",
   "execution_count": 63,
   "metadata": {},
   "outputs": [
    {
     "data": {
      "text/html": [
       "<iframe src=http://nbviewer.ipython.org/2352771 width=700 height=300></iframe>"
      ],
      "text/plain": [
       "<IPython.core.display.HTML object>"
      ]
     },
     "metadata": {},
     "output_type": "display_data"
    }
   ],
   "source": [
    "%%html\n",
    "<iframe src=http://nbviewer.ipython.org/2352771 width=700 height=300></iframe>"
   ]
  },
  {
   "cell_type": "markdown",
   "metadata": {},
   "source": [
    "Além disso, o GitHub suporta [renderização de Notebooks Jupyter](https://github.com/fonnesbeck/Bios8366/blob/master/notebooks/Section1_2-Programming-with-Python.ipynb) armazenado em seus repositórios."
   ]
  },
  {
   "cell_type": "markdown",
   "metadata": {},
   "source": [
    "### Coverter código python em notebook\n",
    "\n",
    "Uma API IPythonpossui funções para ler e escrever arquivo Notebooks. Você deve usar esta API e não criar JSON diretamente. Por exemplo, o seguinte fragmento de código converte um script test.py em um notebook test.ipynb.\n",
    "\n",
    "```python3\n",
    "import IPython.nbformat.current as nbf\n",
    "nb = nbf.read(open('test.py', 'r'), 'py')\n",
    "nbf.write(nb, open('test.ipynb', 'w'), 'ipynb')\n",
    "```\n",
    "\n",
    "veja maiores detalhes em [Converting to (not from) ipython Notebook format](https://stackoverflow.com/questions/23292242/converting-to-not-from-ipython-notebook-format)\n",
    "\n",
    "Aqui temos um código completa para fazer isso:"
   ]
  },
  {
   "cell_type": "code",
   "execution_count": null,
   "metadata": {},
   "outputs": [],
   "source": [
    "import nbformat\n",
    "from nbformat.v4 import new_code_cell,new_notebook\n",
    "\n",
    "import codecs\n",
    "\n",
    "sourceFile = \"codigo-fonte.py\"       # <<<< Código a ser convertido em ipynb\n",
    "destFile   = \"codigo-fonte.ipynb\"    # <<<< Código convertido em ipynb\n",
    "\n",
    "\n",
    "def parsePy(fn):\n",
    "    \"\"\" Generator that parses a .py file exported from a IPython notebook and\n",
    "extracts code cells (whatever is between occurrences of \"In[*]:\").\n",
    "Returns a string containing one or more lines\n",
    "\"\"\"\n",
    "    with open(fn,\"r\") as f:\n",
    "        lines = []\n",
    "        for l in f:\n",
    "            l1 = l.strip()\n",
    "            if l1.startswith('# In[') and l1.endswith(']:') and lines:\n",
    "                yield \"\".join(lines)\n",
    "                lines = []\n",
    "                continue\n",
    "            lines.append(l)\n",
    "        if lines:\n",
    "            yield \"\".join(lines)\n",
    "\n",
    "# Create the code cells by parsing the file in input\n",
    "cells = []\n",
    "for c in parsePy(sourceFile):\n",
    "    cells.append(new_code_cell(source=c))\n",
    "\n",
    "# This creates a V4 Notebook with the code cells extracted above\n",
    "nb0 = new_notebook(cells=cells,\n",
    "                   metadata={'language': 'python',})\n",
    "\n",
    "with codecs.open(destFile, encoding='utf-8', mode='w') as f:\n",
    "    nbformat.write(nb0, f, 4)"
   ]
  },
  {
   "cell_type": "markdown",
   "metadata": {},
   "source": [
    "O código abaixo irá converter todos os arquivos .py em notebooks. Escolha o diretório e excute o código. "
   ]
  },
  {
   "cell_type": "code",
   "execution_count": null,
   "metadata": {},
   "outputs": [],
   "source": [
    "import nbformat\n",
    "from nbformat.v4 import new_code_cell,new_notebook\n",
    "import codecs\n",
    "import os\n",
    "\n",
    "\n",
    "def parsePy(fn):\n",
    "    \"\"\" Generator that parses a .py file exported from a IPython notebook and\n",
    "extracts code cells (whatever is between occurrences of \"In[*]:\").\n",
    "Returns a string containing one or more lines\n",
    "\"\"\"\n",
    "    with open(fn,\"r\") as f:\n",
    "        lines = []\n",
    "        for l in f:\n",
    "            l1 = l.strip()\n",
    "            if l1.startswith('# In[') and l1.endswith(']:') and lines:\n",
    "                yield \"\".join(lines)\n",
    "                lines = []\n",
    "                continue\n",
    "            lines.append(l)\n",
    "        if lines:\n",
    "            yield \"\".join(lines)\n",
    "            \n",
    "def genNb(sourceFile,destFile):\n",
    "    # Create the code cells by parsing the file in input\n",
    "    cells = []\n",
    "    for c in parsePy(sourceFile):\n",
    "        cells.append(new_code_cell(source=c))\n",
    "\n",
    "    # This creates a V4 Notebook with the code cells extracted above\n",
    "    nb0 = new_notebook(cells=cells,\n",
    "                   metadata={'language': 'python',})\n",
    "\n",
    "    with codecs.open(destFile, encoding='utf-8', mode='w') as f:\n",
    "        nbformat.write(nb0, f, 4)\n",
    "\n",
    "\n",
    "dir='.'  # quando vazio significa diretório local\n",
    "\n",
    "# Aqui encontramos todos os arquivo python no diretório \n",
    "arq_python = [x for x in os.listdir(dir) if x.endswith(\".py\")]\n",
    "\n",
    "for x in arq_python :\n",
    "    sourcefile=x\n",
    "    destfile=x.split('.')[0]+'.ipynb'\n",
    "    print(\"Source= \", sourcefile, \" Destino = \", destfile)\n",
    "    genNb(sourcefile,destfile)\n",
    "\n",
    "# Para verificar o resultado\n",
    "arq_conv = [x for x in os.listdir(dir) if x.endswith(\".py\") or x.endswith(\".ipynb\")]\n",
    "print(arq_conv)"
   ]
  },
  {
   "cell_type": "markdown",
   "metadata": {},
   "source": [
    "## IPython paralelo\n",
    "\n",
    "Em um nível alto, há três componentes básicos para paralelizar IPython:\n",
    "\n",
    "* Máquina(s) - os processos remotos ou distribuídos onde seu código é executado.\n",
    "* Cliente - sua interface para executar o código em motores.\n",
    "* Controlador - a coleção de processos que coordenam Motores e Clientes.\n",
    "\n",
    "Esses componentes vivem no pacote `IPython.parallel`, que foi lançado em seu próprio modelo que requer instalação.\n",
    "\n",
    "### Computação Paralela e Iterativa Com o IPython\n",
    "\n",
    "ipyparallel é o novo nome do IPython.parallel. ipyparallel é um pacote Python e uma  coleção de scripts CLI para controlar clusters para Jupyter. \n",
    "\n",
    "ipyparallel contém os seguintes scripts CLI:\n",
    "\n",
    "* ipcluster - inicia/para um cluster\n",
    "* ipcontroller - inicia um agendador\n",
    "* ipengine - inicia um motor\n",
    "\n",
    "\n",
    "### Instalação\n",
    "\n",
    "Para instalar o ipyparallel digite na linha de comando:\n",
    "\n",
    "```bash\n",
    "    sudo -H pip3 install -U ipyparallel\n",
    "```\n",
    "ou via `conda`:\n",
    "\n",
    "```bash\n",
    "sudo -H conda install ipyparallel\n",
    "```\n",
    "\n",
    "Para habilitar a tab do `IPython Clusters` no Jupyter Notebook:\n",
    "\n",
    "```bash\n",
    "sudo -H ipcluster nbextension enable\n",
    "```\n",
    "Para desabilitar ela novamente:\n",
    "\n",
    "```bash\n",
    "sudo -H ipcluster nbextension disable\n",
    "```\n",
    "\n",
    "Para instalar a guia IPython Clusters no Jupyter Notebook, adicione isso ao seu `jupyter_notebook_config.py`:\n",
    "\n",
    "```python\n",
    "c.NotebookApp.server_extensions.append('ipyparallel.nbextension')\n",
    "```\n",
    "\n",
    "Este arquivo reside no subdiretório `~/.jupyter` do seu diretório pessoal e deve ser criado se ele ainda não existir.\n",
    "\n",
    "\n",
    "Veja o [\"documentation on configuring the notebook server\"](https://jupyter-notebook.readthedocs.io/en/latest/public_server.html) para achar seu arquivo de configuração ou sua configuração inicial `jupyter_notebook_config.py`.\n",
    "\n",
    "\n",
    "### Instalando o JupyterHub \n",
    "\n",
    "Para instalar o JupyterHub para todos os usuários, digite:\n",
    "\n",
    "```bash\n",
    "sudo -H jupyter nbextension install --sys-prefix --py ipyparallel\n",
    "sudo -H jupyter nbextension enable --sys-prefix --py ipyparallel\n",
    "sudo -H jupyter serverextension enable --sys-prefix --py ipyparallel\n",
    "```\n",
    "\n",
    "## Rodando\n",
    "\n",
    "Inicia um cluster:\n",
    "\n",
    "```bash\n",
    "ipcluster start\n",
    "```\n",
    "\n",
    "Usado ele a partir do Python:\n",
    "\n",
    "```python\n",
    "import os\n",
    "import ipyparallel as ipp\n",
    "rc = ipp.Client()\n",
    "ar = rc[:].apply_async(os.getpid)\n",
    "pid_map = ar.get_dict()\n",
    "```\n",
    "\n",
    "## Documentação\n",
    "\n",
    "Para maiores detalhes consulte o manual [\"Using IPython for parallel computing\"](http://ipyparallel.readthedocs.io/en/latest/index.html)."
   ]
  },
  {
   "cell_type": "markdown",
   "metadata": {},
   "source": [
    "Antes de executar a próxima célula, certifique-se de ter iniciado o cluster pela primeira vez, você pode usar a guia [clusters no painel](/#tab2) para fazer isso."
   ]
  },
  {
   "cell_type": "code",
   "execution_count": 57,
   "metadata": {},
   "outputs": [],
   "source": [
    "from ipyparallel import Client\n",
    "client = Client()\n",
    "dv = client.direct_view()"
   ]
  },
  {
   "cell_type": "code",
   "execution_count": 58,
   "metadata": {},
   "outputs": [],
   "source": [
    "import os\n",
    "import ipyparallel as ipp\n",
    "rc = ipp.Client()\n",
    "ar = rc[:].apply_async(os.getpid)\n",
    "pid_map = ar.get_dict()"
   ]
  },
  {
   "cell_type": "code",
   "execution_count": 59,
   "metadata": {},
   "outputs": [
    {
     "data": {
      "image/png": "[encoded data removed]",
      "text/latex": [
       "$$4$$"
      ],
      "text/plain": [
       "4"
      ]
     },
     "execution_count": 59,
     "metadata": {},
     "output_type": "execute_result"
    }
   ],
   "source": [
    "len(dv)"
   ]
  },
  {
   "cell_type": "code",
   "execution_count": 60,
   "metadata": {},
   "outputs": [],
   "source": [
    "def where_am_i():\n",
    "    import os\n",
    "    import socket\n",
    "    \n",
    "    return \"No processo com pid {0} no nó: '{1}'\".format(\n",
    "        os.getpid(), socket.gethostname())"
   ]
  },
  {
   "cell_type": "code",
   "execution_count": 61,
   "metadata": {},
   "outputs": [
    {
     "data": {
      "text/plain": [
       "[\"No processo com pid 30710 no nó: 'polaron'\",\n",
       " \"No processo com pid 30711 no nó: 'polaron'\",\n",
       " \"No processo com pid 30713 no nó: 'polaron'\",\n",
       " \"No processo com pid 30729 no nó: 'polaron'\"]"
      ]
     },
     "execution_count": 61,
     "metadata": {},
     "output_type": "execute_result"
    }
   ],
   "source": [
    "where_am_i_direct_results = dv.apply(where_am_i)\n",
    "where_am_i_direct_results.get()"
   ]
  },
  {
   "cell_type": "markdown",
   "metadata": {},
   "source": [
    "# Células Markdown"
   ]
  },
  {
   "cell_type": "markdown",
   "metadata": {},
   "source": [
    "O texto pode ser adicionado aos notebooks IPython usando células Markdown. Markdown é uma linguagem de marcação popular que é um superconjunto de HTML. Sua especificação pode ser encontrada aqui:\n",
    "\n",
    "<http://daringfireball.net/projects/markdown/>"
   ]
  },
  {
   "cell_type": "markdown",
   "metadata": {},
   "source": [
    "## Noções básicas do Markdown"
   ]
  },
  {
   "cell_type": "markdown",
   "metadata": {},
   "source": [
    "Para adicionar um texto em itálico usa-se `*itálico*` como em *itálico* já para adicionar um em negrito usa-se `**negrito**` como em **negrito**."
   ]
  },
  {
   "cell_type": "markdown",
   "metadata": {},
   "source": [
    "## Listas no Markdown\n",
    "\n",
    "Pode-se criar facilmente listas enumeradas ou enumeradas aninhadas:\n",
    "\n",
    "\n",
    "* Item um\n",
    "    - Sublista tópico 1 do item um\n",
    "        - subitem aninhado do tópico 1\n",
    "    - Sublista tópico 2  do item um\n",
    "        - primeiro subitem aninhado do tópico 2\n",
    "        - segundo subitem aninhado do tópico 2\n",
    "* Item dois\n",
    "  - Sublista do item 2\n",
    "* Item três\n",
    "  - Sublista do item 3\n",
    "\n",
    "Agora uma outra lista, mas agora numerada:\n",
    "\n",
    "1. Esse é o primeiro item  da lista\n",
    "    1. Sublista do primeiro item \n",
    "    2. Sublista do primeiro item\n",
    "2. Essse é o segudo item da lista\n",
    "3. Essse é o terceiro item da lista\n",
    "\n",
    "## Listas de tarefas\n",
    "\n",
    "Para criar uma lista de tarefaz, inicie a lista com `[]`. Mareque a tarefa completada com  `[x]`, conforme o exemplo a seguir\n",
    "\n",
    "- [x] Terminei minhas alterações nesse arquivo \n",
    "- [ ] Levar minhas alterações para o GitHub\n",
    "- [ ] Trabalhar no novo texto"
   ]
  },
  {
   "cell_type": "markdown",
   "metadata": {},
   "source": [
    "Pode-se adicionar linhas horizontais:\n",
    "\n",
    "---"
   ]
  },
  {
   "cell_type": "markdown",
   "metadata": {},
   "source": [
    "Aqui está o bloco de citação:\n",
    "\n",
    "> Bonito é melhor do que feio.\n",
    "\n",
    "> Explicito é melhor do que implícito.\n",
    "\n",
    "> Simples é melhor do que complexo.\n",
    "\n",
    "> Complexo é melhor do que complicado.\n",
    "\n",
    "> Liso é melhor do que aninhado.\n",
    "\n",
    "> Esparso é melhor do que denso.\n",
    "\n",
    "> A legibilidade conta.\n",
    "\n",
    "> Casos especiais não são especiais o suficiente para quebrar as regras.\n",
    "\n",
    "> Embora a praticidade supera a pureza.\n",
    "\n",
    "> Erros nunca devem passar em silêncio.\n",
    "\n",
    "> A menos que seja explicitamente silenciado.\n",
    "\n",
    "> Em face da ambiguidade, recusar a tentação de adivinhar.\n",
    "\n",
    "> Deve haver uma - e preferivelmente somente uma - maneira óbvia de fazê-lo.\n",
    "\n",
    "> Embora essa maneira não pode ser óbvia no início a menos que você seja holandês.\n",
    "\n",
    "> Agora é melhor do que nunca.\n",
    "\n",
    "> Embora nunca seja melhor do que *agora*.\n",
    "\n",
    "> Se a implementação é difícil de explicar, então é uma má idéia.\n",
    "\n",
    "> Se a implementação é fácil de explicar, então pode ser uma boa idéia.\n",
    "\n",
    "> Namespaces são uma boa idéia- vamos fazer mais uso deles!"
   ]
  },
  {
   "cell_type": "markdown",
   "metadata": {},
   "source": [
    "A seguir mostramso uma maneira simples de criar links externos: \n",
    "\n",
    "[O site do Jupyter/IPython](http://jupyter.org)"
   ]
  },
  {
   "cell_type": "markdown",
   "metadata": {},
   "source": [
    "Se desejar, você pode adicionar títulos usando a sintaxe do Markdown:\n",
    "\n",
    "# Cabeçalho 1\n",
    "# Cabeçalho 2\n",
    "## Cabeçalho 2.1\n",
    "## Cabeçalho 2.2\n",
    "### Cabeçalho 3"
   ]
  },
  {
   "cell_type": "markdown",
   "metadata": {},
   "source": [
    "**Na maior parte do tempo deve-se usar as células de cabeçalho do notebook para organizar o conteúdo do seu notebook e manter seu documento estruturado**, pois fornecem estrutura significativa que podem ser interpretada por outras ferramentas, não apenas grandes fontes em negrito."
   ]
  },
  {
   "cell_type": "markdown",
   "metadata": {},
   "source": [
    "Pode-se incorporar código destinado à ilustração em vez de execução em Python:\n",
    "```python\n",
    "    def f(x):\n",
    "        \"\"\"a docstring\"\"\"\n",
    "        return x**2\n",
    "```\n",
    "ou em outras linguagens:\n",
    "```C++\n",
    "    if (i=0; i<n; i++) {\n",
    "      printf(\"hello %d\\n\", i);\n",
    "      x += 4;\n",
    "    }\n",
    "```"
   ]
  },
  {
   "cell_type": "markdown",
   "metadata": {},
   "source": [
    "## Equaçõe LaTeX"
   ]
  },
  {
   "cell_type": "markdown",
   "metadata": {},
   "source": [
    "Para escrever equações matemáticas em uma célula do markdown, usa-se o mesma sintaxe do LaTeX, na qual para escrever uma equação *\"inline\"* no meio do texto deve-se usar o par de símbolos \\$ equação \\$. Para escrever uma equação que seja mostrada sozinha em uma única linha, deve-se usar em uma linhas separadas o par de símbolos \\$\\$ equação \\$\\$.\n",
    "\n",
    "Considere por exemplo a seguinte equação no meio do texto $e^{i\\pi} + 1 = 0$, e q seguinte equação em uma linha sozinha:\n",
    "\n",
    "$$\n",
    "\\begin{equation}\n",
    "e^x=\\sum_{i=0}^\\infty \\frac{1}{i!}x^i\n",
    "\\end{equation}\n",
    "$$\n",
    "\n",
    "\n",
    "### Numerando equações LaTeX no notebook\n",
    "\n",
    "Para maiores detalhes colsulte o [link](https://github.com/ipython/ipython/issues/4113).\n",
    "\n",
    "Pode-se ativar a numeração executando a célula abaixo com o seguinte contéudo"
   ]
  },
  {
   "cell_type": "code",
   "execution_count": 62,
   "metadata": {},
   "outputs": [
    {
     "data": {
      "application/javascript": [
       "  \"AMS\" } } });"
      ],
      "text/plain": [
       "<IPython.core.display.Javascript object>"
      ]
     },
     "metadata": {},
     "output_type": "display_data"
    }
   ],
   "source": [
    "%%javascript MathJax.Hub.Config({ TeX: { equationNumbers: { autoNumber: \n",
    "  \"AMS\" } } });"
   ]
  },
  {
   "cell_type": "markdown",
   "metadata": {},
   "source": [
    "Há também uma extensão para a [numeração de uma equação](https://github.com/ipython-contrib/jupyter_contrib_nbextensions)\n",
    "\n",
    "Para instalar a extensão faça o seguinte:\n",
    "\n",
    "```bash\n",
    "sudo -H pip3 install jupyter_contrib_nbextensions\n",
    "jupyter contrib nbextension install --user\n",
    "jupyter nbextension enable equation-numbering/main\n",
    "```"
   ]
  },
  {
   "cell_type": "markdown",
   "metadata": {},
   "source": [
    "Usando o MathJax, pode-se incluir expressões matemáticas no seu texto, usando a nomenclatura LaTeX, conforme exemplo a seguir:\n",
    "$e^{i\\pi} + 1 = 0$  e mostrado como:\n",
    "\n",
    "$$e^x=\\sum_{i=0}^\\infty \\frac{1}{i!}x^i$$"
   ]
  },
  {
   "cell_type": "markdown",
   "metadata": {},
   "source": [
    "## Tabelas no Markdown\n",
    "\n",
    "Há uma interface web a qual gera uma tabela Markdown para você de forma simples: <http://www.tablesgenerator.com/markdown_tables> \n",
    "\n",
    "Porque Markdown é um superconjunto de HTML você pode até mesmo adicionar coisas como tabelas HTML:\n",
    "\n",
    "<table>\n",
    "<tr>\n",
    "<th>Cabeçalho 1</th>\n",
    "<th>Cabeçalho 2</th>\n",
    "</tr>\n",
    "<tr>\n",
    "<td>linha 1, celula 1</td>\n",
    "<td>linha 1, celula 2</td>\n",
    "</tr>\n",
    "<tr>\n",
    "<td>linha 2, celula 1</td>\n",
    "<td>linha 2, celula 2</td>\n",
    "</tr>\n",
    "</table>\n",
    "\n",
    "Uma outra forma de fazer tabelas é usando o seguinte código \n",
    "\n",
    "```markdown\n",
    "| H1-C1 | H2-C2 | H3-C3 | H4-C4 | H5-C5 |\n",
    "|-------|-------|-------|-------|-------|\n",
    "| L2-C1 | L2-C2 | L2-C3 | L2-C4 | L2-C5 |\n",
    "| L3-C1 | L3-C2 | L3-C3 | L3-C4 | L3-C5 |\n",
    "| L4-C1 | L4-C2 | L4-C3 | L4-C4 | L4-C5 |\n",
    "```\n",
    "\n",
    "obtemos como resultado a seguinte tabela:\n",
    "\n",
    "\n",
    "| H1-C1 | H2-C2 | H3-C3 | H4-C4 | H5-C5 |\n",
    "|-------|-------|-------|-------|-------|\n",
    "| L2-C1 | L2-C2 | L2-C3 | L2-C4 | L2-C5 |\n",
    "| L3-C1 | L3-C2 | L3-C3 | L3-C4 | L3-C5 |\n",
    "| L4-C1 | L4-C2 | L4-C3 | L4-C4 | L4-C5 |\n",
    "\n",
    "\n",
    "Quanto ao alinhamento das coulnas, eles podem ser controlados usando o seguinte código\n",
    "\n",
    "```markdown\n",
    "| Esquerda     | Centralizado   | Direita       |\n",
    "| :---         |     :---:      |          ---: |\n",
    "| git status   | git status     | git status    |\n",
    "| git diff     | git diff       | git diff      |\n",
    "```\n",
    " o qual resulta na seguinte tabela\n",
    "\n",
    "| Esquerda     | Centralizado   | Direita       |\n",
    "| :---         |     :---:      |          ---: |\n",
    "| git status   | git status     | git status    |\n",
    "| git diff     | git diff       | git diff      |\n"
   ]
  },
  {
   "cell_type": "markdown",
   "metadata": {},
   "source": [
    "## Incluindo arquivos locais: imagens, vídeos, etc.\n",
    "\n",
    "Se você tiver arquivos locais no diretório do Notebook, você pode consultar e/ou inserir esses arquivos diretamente nas células do Markdown:\n",
    "\n",
    "    [subdiretorio/]<arquivo>\n",
    "\n",
    "Por exemplo, na pasta de Figs, temos o logotipo Python:\n",
    "\n",
    "    <img src=\"Figs/python_logo.svg\" />\n",
    "\n",
    "<img src=\"Figs/python_logo.svg\" />\n",
    "\n",
    "e um vídeo com uma tag de vídeo HTML5:\n",
    "\n",
    "    <video controls src=\"Figs/animation.m4v\" />\n",
    "\n",
    "<video controls src=\"Figs/animation.m4v\" />\n",
    "\n",
    "Esses não incorporam os dados no arquivo do notebook e exigem que os arquivos existam quando você estiver visualizando o notebook."
   ]
  },
  {
   "cell_type": "markdown",
   "metadata": {},
   "source": [
    "Note que isso significa que o servidor de notebooks IPython também atua como um servidor de arquivos genérico para arquivos dentro da mesma árvore que seus notebooks. O acesso não é concedido fora da pasta do caderno de modo que você tenha controle estrito sobre quais arquivos são visíveis, mas por esse motivo é altamente recomendável que você não execute o servidor de notebook com um diretório de notebook em um nível alto em seu sistema de arquivos diretório).\n",
    "\n",
    "Quando você executa o notebook de maneira protegida por senha, o acesso a arquivos locais é restrito a usuários autenticados, a menos que as exibições somente leitura estejam ativas."
   ]
  },
  {
   "cell_type": "markdown",
   "metadata": {},
   "source": [
    "## Comentários no Markdown\n",
    "\n",
    "Em geral é sempre muito útil poder introduzir alguns comentários em um texto:\n",
    "\n",
    "<http://daringfireball.net/projects/markdown/syntax#link>\n",
    "\n",
    "```markdown\n",
    "[comment]: <> (This is a comment, it will not be included)\n",
    "[comment]: <> (in  the output file unless you use it in)\n",
    "[comment]: <> (a reference style link.)\n",
    "```\n",
    "\n",
    "Para aperfeiçoar a compatibilidade da platforma tamém, é possível usar # (o qual é uma taga para um hiperlink legitimo)  em vez de  <>:\n",
    "\n",
    "```markdown\n",
    "[//]: # (This may be the most platform independent comment)\n",
    "```"
   ]
  },
  {
   "cell_type": "code",
   "execution_count": null,
   "metadata": {},
   "outputs": [],
   "source": []
  }
 ],
 "metadata": {
  "anaconda-cloud": {},
  "kernelspec": {
   "display_name": "Python 3",
   "language": "python",
   "name": "python3"
  },
  "language_info": {
   "codemirror_mode": {
    "name": "ipython",
    "version": 3
   },
   "file_extension": ".py",
   "mimetype": "text/x-python",
   "name": "python",
   "nbconvert_exporter": "python",
   "pygments_lexer": "ipython3",
   "version": "3.5.2"
  },
  "nav_menu": {},
  "toc": {
   "navigate_menu": true,
   "number_sections": false,
   "sideBar": true,
   "threshold": 6,
   "toc_cell": false,
   "toc_section_display": "block",
   "toc_window_display": false
  }
 },
 "nbformat": 4,
 "nbformat_minor": 1
}
